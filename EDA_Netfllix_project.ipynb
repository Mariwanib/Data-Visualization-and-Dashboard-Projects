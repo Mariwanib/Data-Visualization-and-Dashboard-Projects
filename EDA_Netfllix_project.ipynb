{
 "cells": [
  {
   "cell_type": "markdown",
   "metadata": {},
   "source": [
    "# Exploratory Data Analysis of Disney Datasets"
   ]
  },
  {
   "cell_type": "markdown",
   "metadata": {},
   "source": [
    "## Mariwan Imbrahim"
   ]
  },
  {
   "cell_type": "markdown",
   "metadata": {},
   "source": [
    "## Question(s) of Interests"
   ]
  },
  {
   "cell_type": "markdown",
   "metadata": {},
   "source": [
    "In this analysis, I will be investigating a question associated with the collection of disney datasets. I am keen on finding out which type of movie had been mostly produced annually and which of them had become the most popular. It is interesting because as you may know movie has different genres and every year new movies are released. The movies sometimes become very popular and sometimes not so it is unkown. This would be very interesting to see how many movies had been produced over the years, which genre had been produced the most and which genre had been the most popular."
   ]
  },
  {
   "cell_type": "markdown",
   "metadata": {},
   "source": [
    "## Dataset Description"
   ]
  },
  {
   "cell_type": "markdown",
   "metadata": {},
   "source": [
    "Disney has a long and storied history of making commercially and culturally films. Disney data consists of five datasets; `Walt Disney Animation Studios Films` provides a list of Disney animated movies and the hero/villain character names in each movie, `Movies Released by Walt Disney` contains a list of Disney movies, and their genre, gross, and MPAA ratings, `Disney animated universe characters` has a complete list of Disney characters and their voice actors, `Walt Disney Animation Studios films` provides a list of Disney animated movies and the director of each movie and `Annual gross revenues of The Walt Disney Company` is a Disney financial data chart which contains annual gross revenues by sections (includes studio entertainment, parks and resorts, etc.) from 1991-2016. These disney datasets are stored in `csv` file as below and obtained from the [data.world](https://data.world/kgarrett/disney-character-success-00-16).  \n",
    "- _disney-characters.csv_\n",
    "- _disney-director.csv_\n",
    "- _disney-voice-actors.csv_\n",
    "- _disney_revenue_1991-2016.csv_\n",
    "- _disney_movies_total_gross.csv_"
   ]
  },
  {
   "cell_type": "markdown",
   "metadata": {},
   "source": [
    "Based on my analysis, I will be using the **disney_movies_total_gross** table, which contains **movie_title**, **release_date**, **genre**, **MPAA_rating**, **total_gross** and **inflation_adjusred_gross**."
   ]
  },
  {
   "cell_type": "markdown",
   "metadata": {},
   "source": [
    "# Methods and Results"
   ]
  },
  {
   "cell_type": "markdown",
   "metadata": {},
   "source": [
    "As the disney movie total gross provides informations about the release, movie title, genre, mpaa rating, inflation adjusted gross and total gross about Disney films and I have decided to analyze these variables that contain information on genre."
   ]
  },
  {
   "cell_type": "markdown",
   "metadata": {},
   "source": [
    "First, let's import the table and do some basic visualizations."
   ]
  },
  {
   "cell_type": "code",
   "execution_count": 1,
   "metadata": {},
   "outputs": [],
   "source": [
    "# Let's import the required libaraies for this analysis\n",
    "import pandas as pd\n",
    "import altair as alt\n",
    "\n",
    "# Import the dataset\n",
    "disney = pd.read_csv('data/disney_movies_total_gross.csv')"
   ]
  },
  {
   "cell_type": "markdown",
   "metadata": {},
   "source": [
    "Let's see what the table looks like."
   ]
  },
  {
   "cell_type": "code",
   "execution_count": 2,
   "metadata": {},
   "outputs": [
    {
     "data": {
      "text/html": [
       "<div>\n",
       "<style scoped>\n",
       "    .dataframe tbody tr th:only-of-type {\n",
       "        vertical-align: middle;\n",
       "    }\n",
       "\n",
       "    .dataframe tbody tr th {\n",
       "        vertical-align: top;\n",
       "    }\n",
       "\n",
       "    .dataframe thead th {\n",
       "        text-align: right;\n",
       "    }\n",
       "</style>\n",
       "<table border=\"1\" class=\"dataframe\">\n",
       "  <thead>\n",
       "    <tr style=\"text-align: right;\">\n",
       "      <th></th>\n",
       "      <th>movie_title</th>\n",
       "      <th>release_date</th>\n",
       "      <th>genre</th>\n",
       "      <th>MPAA_rating</th>\n",
       "      <th>total_gross</th>\n",
       "      <th>inflation_adjusted_gross</th>\n",
       "    </tr>\n",
       "  </thead>\n",
       "  <tbody>\n",
       "    <tr>\n",
       "      <th>0</th>\n",
       "      <td>Snow White and the Seven Dwarfs</td>\n",
       "      <td>Dec 21, 1937</td>\n",
       "      <td>Musical</td>\n",
       "      <td>G</td>\n",
       "      <td>$184,925,485</td>\n",
       "      <td>$5,228,953,251</td>\n",
       "    </tr>\n",
       "    <tr>\n",
       "      <th>1</th>\n",
       "      <td>Pinocchio</td>\n",
       "      <td>Feb 9, 1940</td>\n",
       "      <td>Adventure</td>\n",
       "      <td>G</td>\n",
       "      <td>$84,300,000</td>\n",
       "      <td>$2,188,229,052</td>\n",
       "    </tr>\n",
       "    <tr>\n",
       "      <th>2</th>\n",
       "      <td>Fantasia</td>\n",
       "      <td>Nov 13, 1940</td>\n",
       "      <td>Musical</td>\n",
       "      <td>G</td>\n",
       "      <td>$83,320,000</td>\n",
       "      <td>$2,187,090,808</td>\n",
       "    </tr>\n",
       "    <tr>\n",
       "      <th>3</th>\n",
       "      <td>Song of the South</td>\n",
       "      <td>Nov 12, 1946</td>\n",
       "      <td>Adventure</td>\n",
       "      <td>G</td>\n",
       "      <td>$65,000,000</td>\n",
       "      <td>$1,078,510,579</td>\n",
       "    </tr>\n",
       "    <tr>\n",
       "      <th>4</th>\n",
       "      <td>Cinderella</td>\n",
       "      <td>Feb 15, 1950</td>\n",
       "      <td>Drama</td>\n",
       "      <td>G</td>\n",
       "      <td>$85,000,000</td>\n",
       "      <td>$920,608,730</td>\n",
       "    </tr>\n",
       "  </tbody>\n",
       "</table>\n",
       "</div>"
      ],
      "text/plain": [
       "                       movie_title  release_date      genre MPAA_rating  \\\n",
       "0  Snow White and the Seven Dwarfs  Dec 21, 1937    Musical           G   \n",
       "1                        Pinocchio   Feb 9, 1940  Adventure           G   \n",
       "2                         Fantasia  Nov 13, 1940    Musical           G   \n",
       "3                Song of the South  Nov 12, 1946  Adventure           G   \n",
       "4                       Cinderella  Feb 15, 1950      Drama           G   \n",
       "\n",
       "    total_gross inflation_adjusted_gross  \n",
       "0  $184,925,485           $5,228,953,251  \n",
       "1   $84,300,000           $2,188,229,052  \n",
       "2   $83,320,000           $2,187,090,808  \n",
       "3   $65,000,000           $1,078,510,579  \n",
       "4   $85,000,000             $920,608,730  "
      ]
     },
     "execution_count": 2,
     "metadata": {},
     "output_type": "execute_result"
    }
   ],
   "source": [
    "disney.head()"
   ]
  },
  {
   "cell_type": "markdown",
   "metadata": {},
   "source": [
    "First of all, it’s so much important to have a know of the data. So, let’s get some information about the table."
   ]
  },
  {
   "cell_type": "code",
   "execution_count": 3,
   "metadata": {},
   "outputs": [
    {
     "name": "stdout",
     "output_type": "stream",
     "text": [
      "<class 'pandas.core.frame.DataFrame'>\n",
      "RangeIndex: 579 entries, 0 to 578\n",
      "Data columns (total 6 columns):\n",
      " #   Column                    Non-Null Count  Dtype \n",
      "---  ------                    --------------  ----- \n",
      " 0   movie_title               579 non-null    object\n",
      " 1   release_date              579 non-null    object\n",
      " 2   genre                     562 non-null    object\n",
      " 3   MPAA_rating               523 non-null    object\n",
      " 4   total_gross               579 non-null    object\n",
      " 5   inflation_adjusted_gross  579 non-null    object\n",
      "dtypes: object(6)\n",
      "memory usage: 27.3+ KB\n"
     ]
    }
   ],
   "source": [
    "disney.info()"
   ]
  },
  {
   "cell_type": "code",
   "execution_count": 4,
   "metadata": {},
   "outputs": [
    {
     "data": {
      "text/html": [
       "<div>\n",
       "<style scoped>\n",
       "    .dataframe tbody tr th:only-of-type {\n",
       "        vertical-align: middle;\n",
       "    }\n",
       "\n",
       "    .dataframe tbody tr th {\n",
       "        vertical-align: top;\n",
       "    }\n",
       "\n",
       "    .dataframe thead th {\n",
       "        text-align: right;\n",
       "    }\n",
       "</style>\n",
       "<table border=\"1\" class=\"dataframe\">\n",
       "  <thead>\n",
       "    <tr style=\"text-align: right;\">\n",
       "      <th></th>\n",
       "      <th>movie_title</th>\n",
       "      <th>release_date</th>\n",
       "      <th>genre</th>\n",
       "      <th>MPAA_rating</th>\n",
       "      <th>total_gross</th>\n",
       "      <th>inflation_adjusted_gross</th>\n",
       "    </tr>\n",
       "  </thead>\n",
       "  <tbody>\n",
       "    <tr>\n",
       "      <th>count</th>\n",
       "      <td>579</td>\n",
       "      <td>579</td>\n",
       "      <td>562</td>\n",
       "      <td>523</td>\n",
       "      <td>579</td>\n",
       "      <td>579</td>\n",
       "    </tr>\n",
       "    <tr>\n",
       "      <th>unique</th>\n",
       "      <td>573</td>\n",
       "      <td>553</td>\n",
       "      <td>12</td>\n",
       "      <td>5</td>\n",
       "      <td>576</td>\n",
       "      <td>576</td>\n",
       "    </tr>\n",
       "    <tr>\n",
       "      <th>top</th>\n",
       "      <td>The Jungle Book</td>\n",
       "      <td>Dec 25, 1997</td>\n",
       "      <td>Comedy</td>\n",
       "      <td>PG</td>\n",
       "      <td>$0</td>\n",
       "      <td>$0</td>\n",
       "    </tr>\n",
       "    <tr>\n",
       "      <th>freq</th>\n",
       "      <td>3</td>\n",
       "      <td>3</td>\n",
       "      <td>182</td>\n",
       "      <td>187</td>\n",
       "      <td>4</td>\n",
       "      <td>4</td>\n",
       "    </tr>\n",
       "  </tbody>\n",
       "</table>\n",
       "</div>"
      ],
      "text/plain": [
       "            movie_title  release_date   genre MPAA_rating total_gross  \\\n",
       "count               579           579     562         523         579   \n",
       "unique              573           553      12           5         576   \n",
       "top     The Jungle Book  Dec 25, 1997  Comedy          PG          $0   \n",
       "freq                  3             3     182         187           4   \n",
       "\n",
       "       inflation_adjusted_gross  \n",
       "count                       579  \n",
       "unique                      576  \n",
       "top                          $0  \n",
       "freq                          4  "
      ]
     },
     "execution_count": 4,
     "metadata": {},
     "output_type": "execute_result"
    }
   ],
   "source": [
    "disney.describe(include = 'all')"
   ]
  },
  {
   "cell_type": "markdown",
   "metadata": {},
   "source": [
    "In the above outputs, the disney table has 579 rows and 6 columns. The movie title has 12 types of genre, 5 types of MPAA rating, the date they were released, total gross and inflation adjusted gross. As It is seen that genre has a few missing values and MPAA rating contains 56 missing values. Note that MPAA rating is not a related variable to my analysis so I prefer leaving the data the way is it. Moreover, the release date, total gross and inflation adjusted gross do not have the right data types. "
   ]
  },
  {
   "cell_type": "markdown",
   "metadata": {},
   "source": [
    "Let's drop these missing values in genre variable and then check the table again.  "
   ]
  },
  {
   "cell_type": "code",
   "execution_count": 5,
   "metadata": {},
   "outputs": [
    {
     "name": "stdout",
     "output_type": "stream",
     "text": [
      "<class 'pandas.core.frame.DataFrame'>\n",
      "Int64Index: 562 entries, 0 to 578\n",
      "Data columns (total 6 columns):\n",
      " #   Column                    Non-Null Count  Dtype \n",
      "---  ------                    --------------  ----- \n",
      " 0   movie_title               562 non-null    object\n",
      " 1   release_date              562 non-null    object\n",
      " 2   genre                     562 non-null    object\n",
      " 3   MPAA_rating               513 non-null    object\n",
      " 4   total_gross               562 non-null    object\n",
      " 5   inflation_adjusted_gross  562 non-null    object\n",
      "dtypes: object(6)\n",
      "memory usage: 30.7+ KB\n"
     ]
    }
   ],
   "source": [
    "# This drops missing values only in genre\n",
    "disney_drop = disney.dropna(subset = ['genre'])\n",
    "disney_drop.info()"
   ]
  },
  {
   "cell_type": "markdown",
   "metadata": {},
   "source": [
    "Now it is time to convert release date to datetime, inflation adjusted gross and total gross to integer. First, removing the dollar sign and comma. "
   ]
  },
  {
   "cell_type": "code",
   "execution_count": 6,
   "metadata": {},
   "outputs": [
    {
     "name": "stdout",
     "output_type": "stream",
     "text": [
      "<class 'pandas.core.frame.DataFrame'>\n",
      "Int64Index: 562 entries, 0 to 578\n",
      "Data columns (total 6 columns):\n",
      " #   Column                    Non-Null Count  Dtype         \n",
      "---  ------                    --------------  -----         \n",
      " 0   movie_title               562 non-null    object        \n",
      " 1   release_date              562 non-null    datetime64[ns]\n",
      " 2   genre                     562 non-null    object        \n",
      " 3   MPAA_rating               513 non-null    object        \n",
      " 4   total_gross               562 non-null    int64         \n",
      " 5   inflation_adjusted_gross  562 non-null    int64         \n",
      "dtypes: datetime64[ns](1), int64(2), object(3)\n",
      "memory usage: 30.7+ KB\n"
     ]
    }
   ],
   "source": [
    "# Import the created function to convert release date object type to datetime and\n",
    "# remove $ sign and comma in total gross and inflation adjusted gross and convert them to interger.\n",
    "from project_function import data_trans\n",
    "disney_trans = data_trans(disney_drop, 'release_date', 'total_gross', 'inflation_adjusted_gross')\n",
    "disney_trans.info()"
   ]
  },
  {
   "cell_type": "markdown",
   "metadata": {},
   "source": [
    "Perfect! let's create a frequency table for genre and visualize it. "
   ]
  },
  {
   "cell_type": "code",
   "execution_count": 7,
   "metadata": {},
   "outputs": [
    {
     "data": {
      "text/html": [
       "<div>\n",
       "<style scoped>\n",
       "    .dataframe tbody tr th:only-of-type {\n",
       "        vertical-align: middle;\n",
       "    }\n",
       "\n",
       "    .dataframe tbody tr th {\n",
       "        vertical-align: top;\n",
       "    }\n",
       "\n",
       "    .dataframe thead th {\n",
       "        text-align: right;\n",
       "    }\n",
       "</style>\n",
       "<table border=\"1\" class=\"dataframe\">\n",
       "  <thead>\n",
       "    <tr style=\"text-align: right;\">\n",
       "      <th></th>\n",
       "      <th>genre</th>\n",
       "      <th>count</th>\n",
       "    </tr>\n",
       "  </thead>\n",
       "  <tbody>\n",
       "    <tr>\n",
       "      <th>0</th>\n",
       "      <td>Concert/Performance</td>\n",
       "      <td>2</td>\n",
       "    </tr>\n",
       "    <tr>\n",
       "      <th>1</th>\n",
       "      <td>Black Comedy</td>\n",
       "      <td>3</td>\n",
       "    </tr>\n",
       "    <tr>\n",
       "      <th>2</th>\n",
       "      <td>Horror</td>\n",
       "      <td>6</td>\n",
       "    </tr>\n",
       "    <tr>\n",
       "      <th>3</th>\n",
       "      <td>Western</td>\n",
       "      <td>7</td>\n",
       "    </tr>\n",
       "    <tr>\n",
       "      <th>4</th>\n",
       "      <td>Documentary</td>\n",
       "      <td>16</td>\n",
       "    </tr>\n",
       "    <tr>\n",
       "      <th>5</th>\n",
       "      <td>Musical</td>\n",
       "      <td>16</td>\n",
       "    </tr>\n",
       "    <tr>\n",
       "      <th>6</th>\n",
       "      <td>Romantic Comedy</td>\n",
       "      <td>23</td>\n",
       "    </tr>\n",
       "    <tr>\n",
       "      <th>7</th>\n",
       "      <td>Thriller/Suspense</td>\n",
       "      <td>24</td>\n",
       "    </tr>\n",
       "    <tr>\n",
       "      <th>8</th>\n",
       "      <td>Action</td>\n",
       "      <td>40</td>\n",
       "    </tr>\n",
       "    <tr>\n",
       "      <th>9</th>\n",
       "      <td>Drama</td>\n",
       "      <td>114</td>\n",
       "    </tr>\n",
       "    <tr>\n",
       "      <th>10</th>\n",
       "      <td>Adventure</td>\n",
       "      <td>129</td>\n",
       "    </tr>\n",
       "    <tr>\n",
       "      <th>11</th>\n",
       "      <td>Comedy</td>\n",
       "      <td>182</td>\n",
       "    </tr>\n",
       "  </tbody>\n",
       "</table>\n",
       "</div>"
      ],
      "text/plain": [
       "                  genre  count\n",
       "0   Concert/Performance      2\n",
       "1          Black Comedy      3\n",
       "2                Horror      6\n",
       "3               Western      7\n",
       "4           Documentary     16\n",
       "5               Musical     16\n",
       "6       Romantic Comedy     23\n",
       "7     Thriller/Suspense     24\n",
       "8                Action     40\n",
       "9                 Drama    114\n",
       "10            Adventure    129\n",
       "11               Comedy    182"
      ]
     },
     "execution_count": 7,
     "metadata": {},
     "output_type": "execute_result"
    }
   ],
   "source": [
    "# This creates frequency table of genre, resets the index and renames the columns so we can plot it. \n",
    "ferq_genre = (disney_trans['genre'].value_counts(ascending = True).\n",
    "              reset_index().\n",
    "              rename(columns = {'index':'genre', 'genre':'count'}))\n",
    "ferq_genre"
   ]
  },
  {
   "cell_type": "markdown",
   "metadata": {},
   "source": [
    "Genre frquency table is in the proper format so we can generate a bar plot to visualize it."
   ]
  },
  {
   "cell_type": "code",
   "execution_count": 8,
   "metadata": {},
   "outputs": [
    {
     "data": {
      "text/html": [
       "\n",
       "<div id=\"altair-viz-2ba50f3c2e7e4edd8b2f9467106c7c91\"></div>\n",
       "<script type=\"text/javascript\">\n",
       "  (function(spec, embedOpt){\n",
       "    let outputDiv = document.currentScript.previousElementSibling;\n",
       "    if (outputDiv.id !== \"altair-viz-2ba50f3c2e7e4edd8b2f9467106c7c91\") {\n",
       "      outputDiv = document.getElementById(\"altair-viz-2ba50f3c2e7e4edd8b2f9467106c7c91\");\n",
       "    }\n",
       "    const paths = {\n",
       "      \"vega\": \"https://cdn.jsdelivr.net/npm//vega@5?noext\",\n",
       "      \"vega-lib\": \"https://cdn.jsdelivr.net/npm//vega-lib?noext\",\n",
       "      \"vega-lite\": \"https://cdn.jsdelivr.net/npm//vega-lite@4.8.1?noext\",\n",
       "      \"vega-embed\": \"https://cdn.jsdelivr.net/npm//vega-embed@6?noext\",\n",
       "    };\n",
       "\n",
       "    function loadScript(lib) {\n",
       "      return new Promise(function(resolve, reject) {\n",
       "        var s = document.createElement('script');\n",
       "        s.src = paths[lib];\n",
       "        s.async = true;\n",
       "        s.onload = () => resolve(paths[lib]);\n",
       "        s.onerror = () => reject(`Error loading script: ${paths[lib]}`);\n",
       "        document.getElementsByTagName(\"head\")[0].appendChild(s);\n",
       "      });\n",
       "    }\n",
       "\n",
       "    function showError(err) {\n",
       "      outputDiv.innerHTML = `<div class=\"error\" style=\"color:red;\">${err}</div>`;\n",
       "      throw err;\n",
       "    }\n",
       "\n",
       "    function displayChart(vegaEmbed) {\n",
       "      vegaEmbed(outputDiv, spec, embedOpt)\n",
       "        .catch(err => showError(`Javascript Error: ${err.message}<br>This usually means there's a typo in your chart specification. See the javascript console for the full traceback.`));\n",
       "    }\n",
       "\n",
       "    if(typeof define === \"function\" && define.amd) {\n",
       "      requirejs.config({paths});\n",
       "      require([\"vega-embed\"], displayChart, err => showError(`Error loading script: ${err.message}`));\n",
       "    } else if (typeof vegaEmbed === \"function\") {\n",
       "      displayChart(vegaEmbed);\n",
       "    } else {\n",
       "      loadScript(\"vega\")\n",
       "        .then(() => loadScript(\"vega-lite\"))\n",
       "        .then(() => loadScript(\"vega-embed\"))\n",
       "        .catch(showError)\n",
       "        .then(() => displayChart(vegaEmbed));\n",
       "    }\n",
       "  })({\"config\": {\"view\": {\"continuousWidth\": 400, \"continuousHeight\": 300}}, \"data\": {\"name\": \"data-efc8b733510f131007b86be89c2440ba\"}, \"mark\": \"bar\", \"encoding\": {\"x\": {\"type\": \"nominal\", \"field\": \"genre\", \"sort\": \"y\"}, \"y\": {\"type\": \"quantitative\", \"field\": \"count\"}}, \"height\": 300, \"title\": \"Total Number of Each Genre\", \"width\": 500, \"$schema\": \"https://vega.github.io/schema/vega-lite/v4.8.1.json\", \"datasets\": {\"data-efc8b733510f131007b86be89c2440ba\": [{\"genre\": \"Concert/Performance\", \"count\": 2}, {\"genre\": \"Black Comedy\", \"count\": 3}, {\"genre\": \"Horror\", \"count\": 6}, {\"genre\": \"Western\", \"count\": 7}, {\"genre\": \"Documentary\", \"count\": 16}, {\"genre\": \"Musical\", \"count\": 16}, {\"genre\": \"Romantic Comedy\", \"count\": 23}, {\"genre\": \"Thriller/Suspense\", \"count\": 24}, {\"genre\": \"Action\", \"count\": 40}, {\"genre\": \"Drama\", \"count\": 114}, {\"genre\": \"Adventure\", \"count\": 129}, {\"genre\": \"Comedy\", \"count\": 182}]}}, {\"mode\": \"vega-lite\"});\n",
       "</script>"
      ],
      "text/plain": [
       "alt.Chart(...)"
      ]
     },
     "execution_count": 8,
     "metadata": {},
     "output_type": "execute_result"
    }
   ],
   "source": [
    "# Use altair to generate bar plot\n",
    "genre_bar_plot = alt.Chart(ferq_genre, width = 500, height = 300).mark_bar().encode(\n",
    "    x = alt.X('genre:N', sort = 'y'),\n",
    "    y = alt.Y('count:Q')\n",
    ").properties(title = 'Total Number of Each Genre')\n",
    "\n",
    "genre_bar_plot"
   ]
  },
  {
   "cell_type": "markdown",
   "metadata": {},
   "source": [
    "From the above bar plot, It seems that comedy movies had been produced the most since 1937 and adventure movie is the second and third is drama. "
   ]
  },
  {
   "cell_type": "markdown",
   "metadata": {},
   "source": [
    "Let's extract year from release date named year"
   ]
  },
  {
   "cell_type": "code",
   "execution_count": 9,
   "metadata": {},
   "outputs": [
    {
     "data": {
      "text/html": [
       "<div>\n",
       "<style scoped>\n",
       "    .dataframe tbody tr th:only-of-type {\n",
       "        vertical-align: middle;\n",
       "    }\n",
       "\n",
       "    .dataframe tbody tr th {\n",
       "        vertical-align: top;\n",
       "    }\n",
       "\n",
       "    .dataframe thead th {\n",
       "        text-align: right;\n",
       "    }\n",
       "</style>\n",
       "<table border=\"1\" class=\"dataframe\">\n",
       "  <thead>\n",
       "    <tr style=\"text-align: right;\">\n",
       "      <th></th>\n",
       "      <th>movie_title</th>\n",
       "      <th>release_date</th>\n",
       "      <th>genre</th>\n",
       "      <th>MPAA_rating</th>\n",
       "      <th>total_gross</th>\n",
       "      <th>inflation_adjusted_gross</th>\n",
       "      <th>year</th>\n",
       "    </tr>\n",
       "  </thead>\n",
       "  <tbody>\n",
       "    <tr>\n",
       "      <th>0</th>\n",
       "      <td>Snow White and the Seven Dwarfs</td>\n",
       "      <td>1937-12-21</td>\n",
       "      <td>Musical</td>\n",
       "      <td>G</td>\n",
       "      <td>184925485</td>\n",
       "      <td>5228953251</td>\n",
       "      <td>1937</td>\n",
       "    </tr>\n",
       "    <tr>\n",
       "      <th>1</th>\n",
       "      <td>Pinocchio</td>\n",
       "      <td>1940-02-09</td>\n",
       "      <td>Adventure</td>\n",
       "      <td>G</td>\n",
       "      <td>84300000</td>\n",
       "      <td>2188229052</td>\n",
       "      <td>1940</td>\n",
       "    </tr>\n",
       "    <tr>\n",
       "      <th>2</th>\n",
       "      <td>Fantasia</td>\n",
       "      <td>1940-11-13</td>\n",
       "      <td>Musical</td>\n",
       "      <td>G</td>\n",
       "      <td>83320000</td>\n",
       "      <td>2187090808</td>\n",
       "      <td>1940</td>\n",
       "    </tr>\n",
       "    <tr>\n",
       "      <th>3</th>\n",
       "      <td>Song of the South</td>\n",
       "      <td>1946-11-12</td>\n",
       "      <td>Adventure</td>\n",
       "      <td>G</td>\n",
       "      <td>65000000</td>\n",
       "      <td>1078510579</td>\n",
       "      <td>1946</td>\n",
       "    </tr>\n",
       "    <tr>\n",
       "      <th>4</th>\n",
       "      <td>Cinderella</td>\n",
       "      <td>1950-02-15</td>\n",
       "      <td>Drama</td>\n",
       "      <td>G</td>\n",
       "      <td>85000000</td>\n",
       "      <td>920608730</td>\n",
       "      <td>1950</td>\n",
       "    </tr>\n",
       "  </tbody>\n",
       "</table>\n",
       "</div>"
      ],
      "text/plain": [
       "                       movie_title release_date      genre MPAA_rating  \\\n",
       "0  Snow White and the Seven Dwarfs   1937-12-21    Musical           G   \n",
       "1                        Pinocchio   1940-02-09  Adventure           G   \n",
       "2                         Fantasia   1940-11-13    Musical           G   \n",
       "3                Song of the South   1946-11-12  Adventure           G   \n",
       "4                       Cinderella   1950-02-15      Drama           G   \n",
       "\n",
       "   total_gross  inflation_adjusted_gross  year  \n",
       "0    184925485                5228953251  1937  \n",
       "1     84300000                2188229052  1940  \n",
       "2     83320000                2187090808  1940  \n",
       "3     65000000                1078510579  1946  \n",
       "4     85000000                 920608730  1950  "
      ]
     },
     "execution_count": 9,
     "metadata": {},
     "output_type": "execute_result"
    }
   ],
   "source": [
    "# Create a new column name year extracted from release date.\n",
    "disney_year = disney_trans.assign(year = disney_trans['release_date'].dt.year)\n",
    "disney_year.head()"
   ]
  },
  {
   "cell_type": "markdown",
   "metadata": {},
   "source": [
    "Then let's group disney_year by year and count all types of movies anuually. "
   ]
  },
  {
   "cell_type": "code",
   "execution_count": 10,
   "metadata": {},
   "outputs": [
    {
     "data": {
      "text/html": [
       "<div>\n",
       "<style scoped>\n",
       "    .dataframe tbody tr th:only-of-type {\n",
       "        vertical-align: middle;\n",
       "    }\n",
       "\n",
       "    .dataframe tbody tr th {\n",
       "        vertical-align: top;\n",
       "    }\n",
       "\n",
       "    .dataframe thead th {\n",
       "        text-align: right;\n",
       "    }\n",
       "</style>\n",
       "<table border=\"1\" class=\"dataframe\">\n",
       "  <thead>\n",
       "    <tr style=\"text-align: right;\">\n",
       "      <th></th>\n",
       "      <th>year</th>\n",
       "      <th>count</th>\n",
       "    </tr>\n",
       "  </thead>\n",
       "  <tbody>\n",
       "    <tr>\n",
       "      <th>0</th>\n",
       "      <td>1937</td>\n",
       "      <td>1</td>\n",
       "    </tr>\n",
       "    <tr>\n",
       "      <th>1</th>\n",
       "      <td>1940</td>\n",
       "      <td>2</td>\n",
       "    </tr>\n",
       "    <tr>\n",
       "      <th>2</th>\n",
       "      <td>1946</td>\n",
       "      <td>1</td>\n",
       "    </tr>\n",
       "    <tr>\n",
       "      <th>3</th>\n",
       "      <td>1950</td>\n",
       "      <td>1</td>\n",
       "    </tr>\n",
       "    <tr>\n",
       "      <th>4</th>\n",
       "      <td>1954</td>\n",
       "      <td>1</td>\n",
       "    </tr>\n",
       "    <tr>\n",
       "      <th>5</th>\n",
       "      <td>1955</td>\n",
       "      <td>1</td>\n",
       "    </tr>\n",
       "    <tr>\n",
       "      <th>6</th>\n",
       "      <td>1959</td>\n",
       "      <td>1</td>\n",
       "    </tr>\n",
       "    <tr>\n",
       "      <th>7</th>\n",
       "      <td>1961</td>\n",
       "      <td>3</td>\n",
       "    </tr>\n",
       "    <tr>\n",
       "      <th>8</th>\n",
       "      <td>1962</td>\n",
       "      <td>1</td>\n",
       "    </tr>\n",
       "    <tr>\n",
       "      <th>9</th>\n",
       "      <td>1963</td>\n",
       "      <td>1</td>\n",
       "    </tr>\n",
       "  </tbody>\n",
       "</table>\n",
       "</div>"
      ],
      "text/plain": [
       "   year  count\n",
       "0  1937      1\n",
       "1  1940      2\n",
       "2  1946      1\n",
       "3  1950      1\n",
       "4  1954      1\n",
       "5  1955      1\n",
       "6  1959      1\n",
       "7  1961      3\n",
       "8  1962      1\n",
       "9  1963      1"
      ]
     },
     "execution_count": 10,
     "metadata": {},
     "output_type": "execute_result"
    }
   ],
   "source": [
    "# This groups the data by year and compute the total number of movies for each year.\n",
    "# Reset the table and rename the column genre to count.\n",
    "year_group = (disney_year.groupby(by = 'year').\n",
    "              agg(func = {'genre':'count'}).\n",
    "              reset_index().\n",
    "              rename(columns = {'genre':'count'}))\n",
    "\n",
    "year_group.head(10)"
   ]
  },
  {
   "cell_type": "markdown",
   "metadata": {},
   "source": [
    "The year_group table contains total movies for each year and shows only the first 10 rows."
   ]
  },
  {
   "cell_type": "markdown",
   "metadata": {},
   "source": [
    "Let's generate a line plot for above table."
   ]
  },
  {
   "cell_type": "code",
   "execution_count": 11,
   "metadata": {},
   "outputs": [
    {
     "data": {
      "text/html": [
       "\n",
       "<div id=\"altair-viz-02d840e6af3b4438bcb62026696a23d8\"></div>\n",
       "<script type=\"text/javascript\">\n",
       "  (function(spec, embedOpt){\n",
       "    let outputDiv = document.currentScript.previousElementSibling;\n",
       "    if (outputDiv.id !== \"altair-viz-02d840e6af3b4438bcb62026696a23d8\") {\n",
       "      outputDiv = document.getElementById(\"altair-viz-02d840e6af3b4438bcb62026696a23d8\");\n",
       "    }\n",
       "    const paths = {\n",
       "      \"vega\": \"https://cdn.jsdelivr.net/npm//vega@5?noext\",\n",
       "      \"vega-lib\": \"https://cdn.jsdelivr.net/npm//vega-lib?noext\",\n",
       "      \"vega-lite\": \"https://cdn.jsdelivr.net/npm//vega-lite@4.8.1?noext\",\n",
       "      \"vega-embed\": \"https://cdn.jsdelivr.net/npm//vega-embed@6?noext\",\n",
       "    };\n",
       "\n",
       "    function loadScript(lib) {\n",
       "      return new Promise(function(resolve, reject) {\n",
       "        var s = document.createElement('script');\n",
       "        s.src = paths[lib];\n",
       "        s.async = true;\n",
       "        s.onload = () => resolve(paths[lib]);\n",
       "        s.onerror = () => reject(`Error loading script: ${paths[lib]}`);\n",
       "        document.getElementsByTagName(\"head\")[0].appendChild(s);\n",
       "      });\n",
       "    }\n",
       "\n",
       "    function showError(err) {\n",
       "      outputDiv.innerHTML = `<div class=\"error\" style=\"color:red;\">${err}</div>`;\n",
       "      throw err;\n",
       "    }\n",
       "\n",
       "    function displayChart(vegaEmbed) {\n",
       "      vegaEmbed(outputDiv, spec, embedOpt)\n",
       "        .catch(err => showError(`Javascript Error: ${err.message}<br>This usually means there's a typo in your chart specification. See the javascript console for the full traceback.`));\n",
       "    }\n",
       "\n",
       "    if(typeof define === \"function\" && define.amd) {\n",
       "      requirejs.config({paths});\n",
       "      require([\"vega-embed\"], displayChart, err => showError(`Error loading script: ${err.message}`));\n",
       "    } else if (typeof vegaEmbed === \"function\") {\n",
       "      displayChart(vegaEmbed);\n",
       "    } else {\n",
       "      loadScript(\"vega\")\n",
       "        .then(() => loadScript(\"vega-lite\"))\n",
       "        .then(() => loadScript(\"vega-embed\"))\n",
       "        .catch(showError)\n",
       "        .then(() => displayChart(vegaEmbed));\n",
       "    }\n",
       "  })({\"config\": {\"view\": {\"continuousWidth\": 400, \"continuousHeight\": 300}}, \"data\": {\"name\": \"data-da845cfa3043a6234b41544a10e5f52c\"}, \"mark\": \"line\", \"encoding\": {\"x\": {\"type\": \"ordinal\", \"field\": \"year\"}, \"y\": {\"type\": \"quantitative\", \"field\": \"count\"}}, \"height\": 300, \"title\": \"Total Number of Movies Produced Annually\", \"width\": 500, \"$schema\": \"https://vega.github.io/schema/vega-lite/v4.8.1.json\", \"datasets\": {\"data-da845cfa3043a6234b41544a10e5f52c\": [{\"year\": 1937, \"count\": 1}, {\"year\": 1940, \"count\": 2}, {\"year\": 1946, \"count\": 1}, {\"year\": 1950, \"count\": 1}, {\"year\": 1954, \"count\": 1}, {\"year\": 1955, \"count\": 1}, {\"year\": 1959, \"count\": 1}, {\"year\": 1961, \"count\": 3}, {\"year\": 1962, \"count\": 1}, {\"year\": 1963, \"count\": 1}, {\"year\": 1967, \"count\": 1}, {\"year\": 1968, \"count\": 1}, {\"year\": 1970, \"count\": 2}, {\"year\": 1971, \"count\": 1}, {\"year\": 1975, \"count\": 1}, {\"year\": 1977, \"count\": 2}, {\"year\": 1981, \"count\": 3}, {\"year\": 1982, \"count\": 3}, {\"year\": 1983, \"count\": 4}, {\"year\": 1984, \"count\": 2}, {\"year\": 1985, \"count\": 6}, {\"year\": 1986, \"count\": 7}, {\"year\": 1987, \"count\": 10}, {\"year\": 1988, \"count\": 12}, {\"year\": 1989, \"count\": 11}, {\"year\": 1990, \"count\": 15}, {\"year\": 1991, \"count\": 16}, {\"year\": 1992, \"count\": 19}, {\"year\": 1993, \"count\": 24}, {\"year\": 1994, \"count\": 29}, {\"year\": 1995, \"count\": 32}, {\"year\": 1996, \"count\": 27}, {\"year\": 1997, \"count\": 23}, {\"year\": 1998, \"count\": 22}, {\"year\": 1999, \"count\": 20}, {\"year\": 2000, \"count\": 19}, {\"year\": 2001, \"count\": 13}, {\"year\": 2002, \"count\": 21}, {\"year\": 2003, \"count\": 19}, {\"year\": 2004, \"count\": 19}, {\"year\": 2005, \"count\": 17}, {\"year\": 2006, \"count\": 19}, {\"year\": 2007, \"count\": 14}, {\"year\": 2008, \"count\": 13}, {\"year\": 2009, \"count\": 16}, {\"year\": 2010, \"count\": 14}, {\"year\": 2011, \"count\": 14}, {\"year\": 2012, \"count\": 10}, {\"year\": 2013, \"count\": 11}, {\"year\": 2014, \"count\": 12}, {\"year\": 2015, \"count\": 11}, {\"year\": 2016, \"count\": 14}]}}, {\"mode\": \"vega-lite\"});\n",
       "</script>"
      ],
      "text/plain": [
       "alt.Chart(...)"
      ]
     },
     "execution_count": 11,
     "metadata": {},
     "output_type": "execute_result"
    }
   ],
   "source": [
    "# Use altair to make line plot.\n",
    "year_line_plot = alt.Chart(year_group, width = 500, height = 300).mark_line().encode(\n",
    "    x = alt.X('year:O'),\n",
    "    y = alt.Y('count:Q')\n",
    ").properties(title = 'Total Number of Movies Produced Annually')\n",
    "year_line_plot"
   ]
  },
  {
   "cell_type": "markdown",
   "metadata": {},
   "source": [
    "From the above line plot, from 1937 to 1975, there are not many movies released. After 1975, it is slightly increased until 1983. As it seen there is a small drop from 1983 to 1984, but then it rises rapidly til 1994. It drops dramatically after 1994 then it flactuates. The plot shows that the majority of movies were released from 1984 til the end and it will continue to grow."
   ]
  },
  {
   "cell_type": "markdown",
   "metadata": {},
   "source": [
    "Let's group the data by genre and year and then count each genre. That is very interesting to see how many movies from each genre were produced over the years.  "
   ]
  },
  {
   "cell_type": "code",
   "execution_count": 12,
   "metadata": {},
   "outputs": [
    {
     "data": {
      "text/html": [
       "<div>\n",
       "<style scoped>\n",
       "    .dataframe tbody tr th:only-of-type {\n",
       "        vertical-align: middle;\n",
       "    }\n",
       "\n",
       "    .dataframe tbody tr th {\n",
       "        vertical-align: top;\n",
       "    }\n",
       "\n",
       "    .dataframe thead th {\n",
       "        text-align: right;\n",
       "    }\n",
       "</style>\n",
       "<table border=\"1\" class=\"dataframe\">\n",
       "  <thead>\n",
       "    <tr style=\"text-align: right;\">\n",
       "      <th></th>\n",
       "      <th>genre</th>\n",
       "      <th>year</th>\n",
       "      <th>count</th>\n",
       "    </tr>\n",
       "  </thead>\n",
       "  <tbody>\n",
       "    <tr>\n",
       "      <th>0</th>\n",
       "      <td>Action</td>\n",
       "      <td>1981</td>\n",
       "      <td>1</td>\n",
       "    </tr>\n",
       "    <tr>\n",
       "      <th>1</th>\n",
       "      <td>Action</td>\n",
       "      <td>1982</td>\n",
       "      <td>1</td>\n",
       "    </tr>\n",
       "    <tr>\n",
       "      <th>2</th>\n",
       "      <td>Action</td>\n",
       "      <td>1988</td>\n",
       "      <td>2</td>\n",
       "    </tr>\n",
       "    <tr>\n",
       "      <th>3</th>\n",
       "      <td>Action</td>\n",
       "      <td>1990</td>\n",
       "      <td>2</td>\n",
       "    </tr>\n",
       "    <tr>\n",
       "      <th>4</th>\n",
       "      <td>Action</td>\n",
       "      <td>1991</td>\n",
       "      <td>2</td>\n",
       "    </tr>\n",
       "    <tr>\n",
       "      <th>...</th>\n",
       "      <td>...</td>\n",
       "      <td>...</td>\n",
       "      <td>...</td>\n",
       "    </tr>\n",
       "    <tr>\n",
       "      <th>213</th>\n",
       "      <td>Western</td>\n",
       "      <td>1995</td>\n",
       "      <td>1</td>\n",
       "    </tr>\n",
       "    <tr>\n",
       "      <th>214</th>\n",
       "      <td>Western</td>\n",
       "      <td>2000</td>\n",
       "      <td>1</td>\n",
       "    </tr>\n",
       "    <tr>\n",
       "      <th>215</th>\n",
       "      <td>Western</td>\n",
       "      <td>2003</td>\n",
       "      <td>1</td>\n",
       "    </tr>\n",
       "    <tr>\n",
       "      <th>216</th>\n",
       "      <td>Western</td>\n",
       "      <td>2004</td>\n",
       "      <td>2</td>\n",
       "    </tr>\n",
       "    <tr>\n",
       "      <th>217</th>\n",
       "      <td>Western</td>\n",
       "      <td>2013</td>\n",
       "      <td>1</td>\n",
       "    </tr>\n",
       "  </tbody>\n",
       "</table>\n",
       "<p>218 rows × 3 columns</p>\n",
       "</div>"
      ],
      "text/plain": [
       "       genre  year  count\n",
       "0     Action  1981      1\n",
       "1     Action  1982      1\n",
       "2     Action  1988      2\n",
       "3     Action  1990      2\n",
       "4     Action  1991      2\n",
       "..       ...   ...    ...\n",
       "213  Western  1995      1\n",
       "214  Western  2000      1\n",
       "215  Western  2003      1\n",
       "216  Western  2004      2\n",
       "217  Western  2013      1\n",
       "\n",
       "[218 rows x 3 columns]"
      ]
     },
     "execution_count": 12,
     "metadata": {},
     "output_type": "execute_result"
    }
   ],
   "source": [
    "# Group disney_year by genre and year.\n",
    "# Count each genre movie in each year, then reset the index and rename the column to count.\n",
    "disney_genre_year = (disney_year.groupby(by = ['genre', 'year']).\n",
    "                     size().\n",
    "                     reset_index().\n",
    "                     rename(columns = {0:'count'}))\n",
    "disney_genre_year"
   ]
  },
  {
   "cell_type": "markdown",
   "metadata": {},
   "source": [
    "The frequency table of genre and year is in the proper format so let's visualize it."
   ]
  },
  {
   "cell_type": "code",
   "execution_count": 13,
   "metadata": {},
   "outputs": [
    {
     "data": {
      "text/html": [
       "\n",
       "<div id=\"altair-viz-9d30af5b074d46109d89c8ae1ccef6f5\"></div>\n",
       "<script type=\"text/javascript\">\n",
       "  (function(spec, embedOpt){\n",
       "    let outputDiv = document.currentScript.previousElementSibling;\n",
       "    if (outputDiv.id !== \"altair-viz-9d30af5b074d46109d89c8ae1ccef6f5\") {\n",
       "      outputDiv = document.getElementById(\"altair-viz-9d30af5b074d46109d89c8ae1ccef6f5\");\n",
       "    }\n",
       "    const paths = {\n",
       "      \"vega\": \"https://cdn.jsdelivr.net/npm//vega@5?noext\",\n",
       "      \"vega-lib\": \"https://cdn.jsdelivr.net/npm//vega-lib?noext\",\n",
       "      \"vega-lite\": \"https://cdn.jsdelivr.net/npm//vega-lite@4.8.1?noext\",\n",
       "      \"vega-embed\": \"https://cdn.jsdelivr.net/npm//vega-embed@6?noext\",\n",
       "    };\n",
       "\n",
       "    function loadScript(lib) {\n",
       "      return new Promise(function(resolve, reject) {\n",
       "        var s = document.createElement('script');\n",
       "        s.src = paths[lib];\n",
       "        s.async = true;\n",
       "        s.onload = () => resolve(paths[lib]);\n",
       "        s.onerror = () => reject(`Error loading script: ${paths[lib]}`);\n",
       "        document.getElementsByTagName(\"head\")[0].appendChild(s);\n",
       "      });\n",
       "    }\n",
       "\n",
       "    function showError(err) {\n",
       "      outputDiv.innerHTML = `<div class=\"error\" style=\"color:red;\">${err}</div>`;\n",
       "      throw err;\n",
       "    }\n",
       "\n",
       "    function displayChart(vegaEmbed) {\n",
       "      vegaEmbed(outputDiv, spec, embedOpt)\n",
       "        .catch(err => showError(`Javascript Error: ${err.message}<br>This usually means there's a typo in your chart specification. See the javascript console for the full traceback.`));\n",
       "    }\n",
       "\n",
       "    if(typeof define === \"function\" && define.amd) {\n",
       "      requirejs.config({paths});\n",
       "      require([\"vega-embed\"], displayChart, err => showError(`Error loading script: ${err.message}`));\n",
       "    } else if (typeof vegaEmbed === \"function\") {\n",
       "      displayChart(vegaEmbed);\n",
       "    } else {\n",
       "      loadScript(\"vega\")\n",
       "        .then(() => loadScript(\"vega-lite\"))\n",
       "        .then(() => loadScript(\"vega-embed\"))\n",
       "        .catch(showError)\n",
       "        .then(() => displayChart(vegaEmbed));\n",
       "    }\n",
       "  })({\"config\": {\"view\": {\"continuousWidth\": 400, \"continuousHeight\": 300}}, \"data\": {\"name\": \"data-0c60819cac3ad713a8aa26117c115d6c\"}, \"mark\": \"bar\", \"encoding\": {\"color\": {\"type\": \"nominal\", \"field\": \"genre\"}, \"facet\": {\"type\": \"nominal\", \"columns\": 3, \"field\": \"genre\"}, \"x\": {\"type\": \"ordinal\", \"field\": \"year\"}, \"y\": {\"type\": \"quantitative\", \"field\": \"count\"}}, \"height\": 200, \"resolve\": {\"axis\": {\"x\": \"independent\", \"y\": \"independent\"}}, \"title\": \"Produced Each Genre Over Years\", \"width\": 200, \"$schema\": \"https://vega.github.io/schema/vega-lite/v4.8.1.json\", \"datasets\": {\"data-0c60819cac3ad713a8aa26117c115d6c\": [{\"genre\": \"Action\", \"year\": 1981, \"count\": 1}, {\"genre\": \"Action\", \"year\": 1982, \"count\": 1}, {\"genre\": \"Action\", \"year\": 1988, \"count\": 2}, {\"genre\": \"Action\", \"year\": 1990, \"count\": 2}, {\"genre\": \"Action\", \"year\": 1991, \"count\": 2}, {\"genre\": \"Action\", \"year\": 1992, \"count\": 1}, {\"genre\": \"Action\", \"year\": 1993, \"count\": 2}, {\"genre\": \"Action\", \"year\": 1994, \"count\": 3}, {\"genre\": \"Action\", \"year\": 1995, \"count\": 2}, {\"genre\": \"Action\", \"year\": 1996, \"count\": 2}, {\"genre\": \"Action\", \"year\": 1997, \"count\": 2}, {\"genre\": \"Action\", \"year\": 1998, \"count\": 2}, {\"genre\": \"Action\", \"year\": 1999, \"count\": 1}, {\"genre\": \"Action\", \"year\": 2000, \"count\": 1}, {\"genre\": \"Action\", \"year\": 2001, \"count\": 2}, {\"genre\": \"Action\", \"year\": 2002, \"count\": 2}, {\"genre\": \"Action\", \"year\": 2004, \"count\": 1}, {\"genre\": \"Action\", \"year\": 2006, \"count\": 1}, {\"genre\": \"Action\", \"year\": 2009, \"count\": 1}, {\"genre\": \"Action\", \"year\": 2010, \"count\": 1}, {\"genre\": \"Action\", \"year\": 2011, \"count\": 1}, {\"genre\": \"Action\", \"year\": 2012, \"count\": 1}, {\"genre\": \"Action\", \"year\": 2013, \"count\": 1}, {\"genre\": \"Action\", \"year\": 2014, \"count\": 2}, {\"genre\": \"Action\", \"year\": 2015, \"count\": 2}, {\"genre\": \"Action\", \"year\": 2016, \"count\": 1}, {\"genre\": \"Adventure\", \"year\": 1940, \"count\": 1}, {\"genre\": \"Adventure\", \"year\": 1946, \"count\": 1}, {\"genre\": \"Adventure\", \"year\": 1954, \"count\": 1}, {\"genre\": \"Adventure\", \"year\": 1963, \"count\": 1}, {\"genre\": \"Adventure\", \"year\": 1977, \"count\": 1}, {\"genre\": \"Adventure\", \"year\": 1985, \"count\": 3}, {\"genre\": \"Adventure\", \"year\": 1986, \"count\": 2}, {\"genre\": \"Adventure\", \"year\": 1987, \"count\": 1}, {\"genre\": \"Adventure\", \"year\": 1988, \"count\": 2}, {\"genre\": \"Adventure\", \"year\": 1989, \"count\": 3}, {\"genre\": \"Adventure\", \"year\": 1990, \"count\": 2}, {\"genre\": \"Adventure\", \"year\": 1991, \"count\": 2}, {\"genre\": \"Adventure\", \"year\": 1992, \"count\": 1}, {\"genre\": \"Adventure\", \"year\": 1993, \"count\": 5}, {\"genre\": \"Adventure\", \"year\": 1994, \"count\": 3}, {\"genre\": \"Adventure\", \"year\": 1995, \"count\": 5}, {\"genre\": \"Adventure\", \"year\": 1996, \"count\": 5}, {\"genre\": \"Adventure\", \"year\": 1997, \"count\": 1}, {\"genre\": \"Adventure\", \"year\": 1998, \"count\": 4}, {\"genre\": \"Adventure\", \"year\": 1999, \"count\": 3}, {\"genre\": \"Adventure\", \"year\": 2000, \"count\": 4}, {\"genre\": \"Adventure\", \"year\": 2001, \"count\": 2}, {\"genre\": \"Adventure\", \"year\": 2002, \"count\": 5}, {\"genre\": \"Adventure\", \"year\": 2003, \"count\": 6}, {\"genre\": \"Adventure\", \"year\": 2004, \"count\": 4}, {\"genre\": \"Adventure\", \"year\": 2005, \"count\": 6}, {\"genre\": \"Adventure\", \"year\": 2006, \"count\": 4}, {\"genre\": \"Adventure\", \"year\": 2007, \"count\": 5}, {\"genre\": \"Adventure\", \"year\": 2008, \"count\": 2}, {\"genre\": \"Adventure\", \"year\": 2009, \"count\": 6}, {\"genre\": \"Adventure\", \"year\": 2010, \"count\": 6}, {\"genre\": \"Adventure\", \"year\": 2011, \"count\": 6}, {\"genre\": \"Adventure\", \"year\": 2012, \"count\": 4}, {\"genre\": \"Adventure\", \"year\": 2013, \"count\": 4}, {\"genre\": \"Adventure\", \"year\": 2014, \"count\": 4}, {\"genre\": \"Adventure\", \"year\": 2015, \"count\": 5}, {\"genre\": \"Adventure\", \"year\": 2016, \"count\": 9}, {\"genre\": \"Black Comedy\", \"year\": 1997, \"count\": 1}, {\"genre\": \"Black Comedy\", \"year\": 1998, \"count\": 1}, {\"genre\": \"Black Comedy\", \"year\": 2001, \"count\": 1}, {\"genre\": \"Comedy\", \"year\": 1961, \"count\": 2}, {\"genre\": \"Comedy\", \"year\": 1962, \"count\": 1}, {\"genre\": \"Comedy\", \"year\": 1968, \"count\": 1}, {\"genre\": \"Comedy\", \"year\": 1970, \"count\": 1}, {\"genre\": \"Comedy\", \"year\": 1975, \"count\": 1}, {\"genre\": \"Comedy\", \"year\": 1977, \"count\": 1}, {\"genre\": \"Comedy\", \"year\": 1981, \"count\": 1}, {\"genre\": \"Comedy\", \"year\": 1983, \"count\": 1}, {\"genre\": \"Comedy\", \"year\": 1984, \"count\": 1}, {\"genre\": \"Comedy\", \"year\": 1985, \"count\": 1}, {\"genre\": \"Comedy\", \"year\": 1986, \"count\": 4}, {\"genre\": \"Comedy\", \"year\": 1987, \"count\": 8}, {\"genre\": \"Comedy\", \"year\": 1988, \"count\": 4}, {\"genre\": \"Comedy\", \"year\": 1989, \"count\": 3}, {\"genre\": \"Comedy\", \"year\": 1990, \"count\": 7}, {\"genre\": \"Comedy\", \"year\": 1991, \"count\": 5}, {\"genre\": \"Comedy\", \"year\": 1992, \"count\": 11}, {\"genre\": \"Comedy\", \"year\": 1993, \"count\": 9}, {\"genre\": \"Comedy\", \"year\": 1994, \"count\": 15}, {\"genre\": \"Comedy\", \"year\": 1995, \"count\": 9}, {\"genre\": \"Comedy\", \"year\": 1996, \"count\": 9}, {\"genre\": \"Comedy\", \"year\": 1997, \"count\": 11}, {\"genre\": \"Comedy\", \"year\": 1998, \"count\": 8}, {\"genre\": \"Comedy\", \"year\": 1999, \"count\": 7}, {\"genre\": \"Comedy\", \"year\": 2000, \"count\": 6}, {\"genre\": \"Comedy\", \"year\": 2001, \"count\": 7}, {\"genre\": \"Comedy\", \"year\": 2002, \"count\": 6}, {\"genre\": \"Comedy\", \"year\": 2003, \"count\": 7}, {\"genre\": \"Comedy\", \"year\": 2004, \"count\": 8}, {\"genre\": \"Comedy\", \"year\": 2005, \"count\": 5}, {\"genre\": \"Comedy\", \"year\": 2006, \"count\": 4}, {\"genre\": \"Comedy\", \"year\": 2007, \"count\": 3}, {\"genre\": \"Comedy\", \"year\": 2008, \"count\": 5}, {\"genre\": \"Comedy\", \"year\": 2009, \"count\": 1}, {\"genre\": \"Comedy\", \"year\": 2010, \"count\": 1}, {\"genre\": \"Comedy\", \"year\": 2011, \"count\": 3}, {\"genre\": \"Comedy\", \"year\": 2012, \"count\": 1}, {\"genre\": \"Comedy\", \"year\": 2013, \"count\": 2}, {\"genre\": \"Comedy\", \"year\": 2014, \"count\": 2}, {\"genre\": \"Concert/Performance\", \"year\": 2008, \"count\": 1}, {\"genre\": \"Concert/Performance\", \"year\": 2009, \"count\": 1}, {\"genre\": \"Documentary\", \"year\": 2002, \"count\": 1}, {\"genre\": \"Documentary\", \"year\": 2003, \"count\": 1}, {\"genre\": \"Documentary\", \"year\": 2004, \"count\": 1}, {\"genre\": \"Documentary\", \"year\": 2005, \"count\": 1}, {\"genre\": \"Documentary\", \"year\": 2006, \"count\": 1}, {\"genre\": \"Documentary\", \"year\": 2008, \"count\": 1}, {\"genre\": \"Documentary\", \"year\": 2009, \"count\": 3}, {\"genre\": \"Documentary\", \"year\": 2010, \"count\": 2}, {\"genre\": \"Documentary\", \"year\": 2011, \"count\": 1}, {\"genre\": \"Documentary\", \"year\": 2012, \"count\": 1}, {\"genre\": \"Documentary\", \"year\": 2014, \"count\": 1}, {\"genre\": \"Documentary\", \"year\": 2015, \"count\": 1}, {\"genre\": \"Documentary\", \"year\": 2016, \"count\": 1}, {\"genre\": \"Drama\", \"year\": 1950, \"count\": 1}, {\"genre\": \"Drama\", \"year\": 1955, \"count\": 1}, {\"genre\": \"Drama\", \"year\": 1959, \"count\": 1}, {\"genre\": \"Drama\", \"year\": 1981, \"count\": 1}, {\"genre\": \"Drama\", \"year\": 1982, \"count\": 2}, {\"genre\": \"Drama\", \"year\": 1983, \"count\": 2}, {\"genre\": \"Drama\", \"year\": 1984, \"count\": 1}, {\"genre\": \"Drama\", \"year\": 1985, \"count\": 2}, {\"genre\": \"Drama\", \"year\": 1986, \"count\": 1}, {\"genre\": \"Drama\", \"year\": 1988, \"count\": 3}, {\"genre\": \"Drama\", \"year\": 1989, \"count\": 5}, {\"genre\": \"Drama\", \"year\": 1990, \"count\": 1}, {\"genre\": \"Drama\", \"year\": 1991, \"count\": 4}, {\"genre\": \"Drama\", \"year\": 1992, \"count\": 4}, {\"genre\": \"Drama\", \"year\": 1993, \"count\": 2}, {\"genre\": \"Drama\", \"year\": 1994, \"count\": 5}, {\"genre\": \"Drama\", \"year\": 1995, \"count\": 10}, {\"genre\": \"Drama\", \"year\": 1996, \"count\": 7}, {\"genre\": \"Drama\", \"year\": 1997, \"count\": 5}, {\"genre\": \"Drama\", \"year\": 1998, \"count\": 6}, {\"genre\": \"Drama\", \"year\": 1999, \"count\": 6}, {\"genre\": \"Drama\", \"year\": 2000, \"count\": 3}, {\"genre\": \"Drama\", \"year\": 2001, \"count\": 1}, {\"genre\": \"Drama\", \"year\": 2002, \"count\": 5}, {\"genre\": \"Drama\", \"year\": 2003, \"count\": 2}, {\"genre\": \"Drama\", \"year\": 2004, \"count\": 1}, {\"genre\": \"Drama\", \"year\": 2005, \"count\": 3}, {\"genre\": \"Drama\", \"year\": 2006, \"count\": 5}, {\"genre\": \"Drama\", \"year\": 2007, \"count\": 3}, {\"genre\": \"Drama\", \"year\": 2008, \"count\": 3}, {\"genre\": \"Drama\", \"year\": 2009, \"count\": 2}, {\"genre\": \"Drama\", \"year\": 2010, \"count\": 3}, {\"genre\": \"Drama\", \"year\": 2011, \"count\": 2}, {\"genre\": \"Drama\", \"year\": 2012, \"count\": 3}, {\"genre\": \"Drama\", \"year\": 2013, \"count\": 3}, {\"genre\": \"Drama\", \"year\": 2014, \"count\": 1}, {\"genre\": \"Drama\", \"year\": 2015, \"count\": 2}, {\"genre\": \"Drama\", \"year\": 2016, \"count\": 2}, {\"genre\": \"Horror\", \"year\": 1983, \"count\": 1}, {\"genre\": \"Horror\", \"year\": 1992, \"count\": 1}, {\"genre\": \"Horror\", \"year\": 1994, \"count\": 1}, {\"genre\": \"Horror\", \"year\": 1997, \"count\": 1}, {\"genre\": \"Horror\", \"year\": 2006, \"count\": 1}, {\"genre\": \"Horror\", \"year\": 2011, \"count\": 1}, {\"genre\": \"Musical\", \"year\": 1937, \"count\": 1}, {\"genre\": \"Musical\", \"year\": 1940, \"count\": 1}, {\"genre\": \"Musical\", \"year\": 1961, \"count\": 1}, {\"genre\": \"Musical\", \"year\": 1967, \"count\": 1}, {\"genre\": \"Musical\", \"year\": 1970, \"count\": 1}, {\"genre\": \"Musical\", \"year\": 1971, \"count\": 1}, {\"genre\": \"Musical\", \"year\": 1991, \"count\": 1}, {\"genre\": \"Musical\", \"year\": 1993, \"count\": 2}, {\"genre\": \"Musical\", \"year\": 1996, \"count\": 1}, {\"genre\": \"Musical\", \"year\": 2000, \"count\": 2}, {\"genre\": \"Musical\", \"year\": 2002, \"count\": 1}, {\"genre\": \"Musical\", \"year\": 2006, \"count\": 1}, {\"genre\": \"Musical\", \"year\": 2008, \"count\": 1}, {\"genre\": \"Musical\", \"year\": 2014, \"count\": 1}, {\"genre\": \"Romantic Comedy\", \"year\": 1987, \"count\": 1}, {\"genre\": \"Romantic Comedy\", \"year\": 1990, \"count\": 2}, {\"genre\": \"Romantic Comedy\", \"year\": 1991, \"count\": 1}, {\"genre\": \"Romantic Comedy\", \"year\": 1993, \"count\": 2}, {\"genre\": \"Romantic Comedy\", \"year\": 1994, \"count\": 1}, {\"genre\": \"Romantic Comedy\", \"year\": 1995, \"count\": 3}, {\"genre\": \"Romantic Comedy\", \"year\": 1996, \"count\": 2}, {\"genre\": \"Romantic Comedy\", \"year\": 1998, \"count\": 1}, {\"genre\": \"Romantic Comedy\", \"year\": 1999, \"count\": 2}, {\"genre\": \"Romantic Comedy\", \"year\": 2000, \"count\": 1}, {\"genre\": \"Romantic Comedy\", \"year\": 2004, \"count\": 1}, {\"genre\": \"Romantic Comedy\", \"year\": 2007, \"count\": 2}, {\"genre\": \"Romantic Comedy\", \"year\": 2009, \"count\": 2}, {\"genre\": \"Romantic Comedy\", \"year\": 2010, \"count\": 1}, {\"genre\": \"Romantic Comedy\", \"year\": 2014, \"count\": 1}, {\"genre\": \"Thriller/Suspense\", \"year\": 1988, \"count\": 1}, {\"genre\": \"Thriller/Suspense\", \"year\": 1990, \"count\": 1}, {\"genre\": \"Thriller/Suspense\", \"year\": 1991, \"count\": 1}, {\"genre\": \"Thriller/Suspense\", \"year\": 1992, \"count\": 1}, {\"genre\": \"Thriller/Suspense\", \"year\": 1993, \"count\": 1}, {\"genre\": \"Thriller/Suspense\", \"year\": 1994, \"count\": 1}, {\"genre\": \"Thriller/Suspense\", \"year\": 1995, \"count\": 2}, {\"genre\": \"Thriller/Suspense\", \"year\": 1996, \"count\": 1}, {\"genre\": \"Thriller/Suspense\", \"year\": 1997, \"count\": 2}, {\"genre\": \"Thriller/Suspense\", \"year\": 1999, \"count\": 1}, {\"genre\": \"Thriller/Suspense\", \"year\": 2000, \"count\": 1}, {\"genre\": \"Thriller/Suspense\", \"year\": 2002, \"count\": 1}, {\"genre\": \"Thriller/Suspense\", \"year\": 2003, \"count\": 2}, {\"genre\": \"Thriller/Suspense\", \"year\": 2004, \"count\": 1}, {\"genre\": \"Thriller/Suspense\", \"year\": 2005, \"count\": 2}, {\"genre\": \"Thriller/Suspense\", \"year\": 2006, \"count\": 2}, {\"genre\": \"Thriller/Suspense\", \"year\": 2007, \"count\": 1}, {\"genre\": \"Thriller/Suspense\", \"year\": 2015, \"count\": 1}, {\"genre\": \"Thriller/Suspense\", \"year\": 2016, \"count\": 1}, {\"genre\": \"Western\", \"year\": 1993, \"count\": 1}, {\"genre\": \"Western\", \"year\": 1995, \"count\": 1}, {\"genre\": \"Western\", \"year\": 2000, \"count\": 1}, {\"genre\": \"Western\", \"year\": 2003, \"count\": 1}, {\"genre\": \"Western\", \"year\": 2004, \"count\": 2}, {\"genre\": \"Western\", \"year\": 2013, \"count\": 1}]}}, {\"mode\": \"vega-lite\"});\n",
       "</script>"
      ],
      "text/plain": [
       "alt.Chart(...)"
      ]
     },
     "execution_count": 13,
     "metadata": {},
     "output_type": "execute_result"
    }
   ],
   "source": [
    "# Use altair to generate line plots.\n",
    "genre_year_plot = alt.Chart(disney_genre_year, width = 200, height = 200).mark_bar().encode(\n",
    "    x = alt.X('year:O'),\n",
    "    y = alt.Y('count:Q'),\n",
    "    color = alt.Color('genre:N'),\n",
    "    facet = alt.Facet('genre:N', columns = 3)\n",
    ").resolve_axis(\n",
    "    x='independent',\n",
    "    y='independent',\n",
    ").properties(title = 'Produced Each Genre Over Years')\n",
    "\n",
    "genre_year_plot"
   ]
  },
  {
   "cell_type": "markdown",
   "metadata": {},
   "source": [
    "In the above bar plots, it seems that __Comedy__ gets produced and released after 1960. Between the years 1986 and 2008, a lot of comedy movies were released. __Adventure__ movies were produced and released in 1930s, but not too many until 1986. After that the number of adventrue movies increases and descreases slightly over the years. A few __Darama__ movies were released between 1937 and 1980, but then the number of drama movies goes up specifically between 1993 and 2000. __Action__ has no released movies until 1980 and after that there are several action movies release during the years.  "
   ]
  },
  {
   "cell_type": "markdown",
   "metadata": {},
   "source": [
    "Let's take a look at total gross variable and get some information."
   ]
  },
  {
   "cell_type": "code",
   "execution_count": 14,
   "metadata": {},
   "outputs": [
    {
     "data": {
      "text/plain": [
       "count    5.620000e+02\n",
       "mean     6.644891e+07\n",
       "std      9.384227e+07\n",
       "min      0.000000e+00\n",
       "25%      1.417648e+07\n",
       "50%      3.201474e+07\n",
       "75%      7.792766e+07\n",
       "max      9.366622e+08\n",
       "Name: total_gross, dtype: float64"
      ]
     },
     "execution_count": 14,
     "metadata": {},
     "output_type": "execute_result"
    }
   ],
   "source": [
    "disney_year.describe()['total_gross']"
   ]
  },
  {
   "cell_type": "markdown",
   "metadata": {},
   "source": [
    "The minimum value of total gross is zero. Let's sort the data ascendingly by total gross and see how many zero values it has. "
   ]
  },
  {
   "cell_type": "code",
   "execution_count": 15,
   "metadata": {},
   "outputs": [
    {
     "data": {
      "text/html": [
       "<div>\n",
       "<style scoped>\n",
       "    .dataframe tbody tr th:only-of-type {\n",
       "        vertical-align: middle;\n",
       "    }\n",
       "\n",
       "    .dataframe tbody tr th {\n",
       "        vertical-align: top;\n",
       "    }\n",
       "\n",
       "    .dataframe thead th {\n",
       "        text-align: right;\n",
       "    }\n",
       "</style>\n",
       "<table border=\"1\" class=\"dataframe\">\n",
       "  <thead>\n",
       "    <tr style=\"text-align: right;\">\n",
       "      <th></th>\n",
       "      <th>movie_title</th>\n",
       "      <th>release_date</th>\n",
       "      <th>genre</th>\n",
       "      <th>MPAA_rating</th>\n",
       "      <th>total_gross</th>\n",
       "      <th>inflation_adjusted_gross</th>\n",
       "      <th>year</th>\n",
       "    </tr>\n",
       "  </thead>\n",
       "  <tbody>\n",
       "    <tr>\n",
       "      <th>27</th>\n",
       "      <td>Amy</td>\n",
       "      <td>1981-03-20</td>\n",
       "      <td>Drama</td>\n",
       "      <td>NaN</td>\n",
       "      <td>0</td>\n",
       "      <td>0</td>\n",
       "      <td>1981</td>\n",
       "    </tr>\n",
       "    <tr>\n",
       "      <th>29</th>\n",
       "      <td>Condorman</td>\n",
       "      <td>1981-08-07</td>\n",
       "      <td>Action</td>\n",
       "      <td>NaN</td>\n",
       "      <td>0</td>\n",
       "      <td>0</td>\n",
       "      <td>1981</td>\n",
       "    </tr>\n",
       "    <tr>\n",
       "      <th>511</th>\n",
       "      <td>Zokkomon</td>\n",
       "      <td>2011-04-22</td>\n",
       "      <td>Adventure</td>\n",
       "      <td>PG</td>\n",
       "      <td>2815</td>\n",
       "      <td>2984</td>\n",
       "      <td>2011</td>\n",
       "    </tr>\n",
       "    <tr>\n",
       "      <th>487</th>\n",
       "      <td>Walt and El Grupo</td>\n",
       "      <td>2009-09-10</td>\n",
       "      <td>Documentary</td>\n",
       "      <td>PG</td>\n",
       "      <td>20521</td>\n",
       "      <td>23064</td>\n",
       "      <td>2009</td>\n",
       "    </tr>\n",
       "    <tr>\n",
       "      <th>280</th>\n",
       "      <td>An Alan Smithee Film: Burn Hollywood …</td>\n",
       "      <td>1998-02-27</td>\n",
       "      <td>Comedy</td>\n",
       "      <td>R</td>\n",
       "      <td>45779</td>\n",
       "      <td>82277</td>\n",
       "      <td>1998</td>\n",
       "    </tr>\n",
       "    <tr>\n",
       "      <th>502</th>\n",
       "      <td>Gedo Senki (Tales from Earthsea)</td>\n",
       "      <td>2010-08-13</td>\n",
       "      <td>Adventure</td>\n",
       "      <td>PG-13</td>\n",
       "      <td>48658</td>\n",
       "      <td>51988</td>\n",
       "      <td>2010</td>\n",
       "    </tr>\n",
       "    <tr>\n",
       "      <th>185</th>\n",
       "      <td>It's Pat</td>\n",
       "      <td>1994-08-26</td>\n",
       "      <td>Comedy</td>\n",
       "      <td>NaN</td>\n",
       "      <td>60822</td>\n",
       "      <td>125666</td>\n",
       "      <td>1994</td>\n",
       "    </tr>\n",
       "    <tr>\n",
       "      <th>495</th>\n",
       "      <td>Waking Sleeping Beauty</td>\n",
       "      <td>2010-03-26</td>\n",
       "      <td>Documentary</td>\n",
       "      <td>PG</td>\n",
       "      <td>80741</td>\n",
       "      <td>86264</td>\n",
       "      <td>2010</td>\n",
       "    </tr>\n",
       "    <tr>\n",
       "      <th>311</th>\n",
       "      <td>Breakfast of Champions</td>\n",
       "      <td>1999-09-17</td>\n",
       "      <td>Comedy</td>\n",
       "      <td>R</td>\n",
       "      <td>178287</td>\n",
       "      <td>295851</td>\n",
       "      <td>1999</td>\n",
       "    </tr>\n",
       "    <tr>\n",
       "      <th>470</th>\n",
       "      <td>Goal! 2: Living the Dream...</td>\n",
       "      <td>2008-08-29</td>\n",
       "      <td>Drama</td>\n",
       "      <td>PG-13</td>\n",
       "      <td>225067</td>\n",
       "      <td>264247</td>\n",
       "      <td>2008</td>\n",
       "    </tr>\n",
       "  </tbody>\n",
       "</table>\n",
       "</div>"
      ],
      "text/plain": [
       "                                movie_title release_date        genre  \\\n",
       "27                                      Amy   1981-03-20        Drama   \n",
       "29                                Condorman   1981-08-07       Action   \n",
       "511                                Zokkomon   2011-04-22    Adventure   \n",
       "487                       Walt and El Grupo   2009-09-10  Documentary   \n",
       "280  An Alan Smithee Film: Burn Hollywood …   1998-02-27       Comedy   \n",
       "502        Gedo Senki (Tales from Earthsea)   2010-08-13    Adventure   \n",
       "185                                It's Pat   1994-08-26       Comedy   \n",
       "495                  Waking Sleeping Beauty   2010-03-26  Documentary   \n",
       "311                  Breakfast of Champions   1999-09-17       Comedy   \n",
       "470            Goal! 2: Living the Dream...   2008-08-29        Drama   \n",
       "\n",
       "    MPAA_rating  total_gross  inflation_adjusted_gross  year  \n",
       "27          NaN            0                         0  1981  \n",
       "29          NaN            0                         0  1981  \n",
       "511          PG         2815                      2984  2011  \n",
       "487          PG        20521                     23064  2009  \n",
       "280           R        45779                     82277  1998  \n",
       "502       PG-13        48658                     51988  2010  \n",
       "185         NaN        60822                    125666  1994  \n",
       "495          PG        80741                     86264  2010  \n",
       "311           R       178287                    295851  1999  \n",
       "470       PG-13       225067                    264247  2008  "
      ]
     },
     "execution_count": 15,
     "metadata": {},
     "output_type": "execute_result"
    }
   ],
   "source": [
    "# Sort the data by total gross ascendly\n",
    "disney_gross = disney_year.sort_values(by = 'total_gross')\n",
    "disney_gross.head(10)"
   ]
  },
  {
   "cell_type": "markdown",
   "metadata": {},
   "source": [
    "There are only two missing values in total gross. To fix these data, let's replace these null values by median value of total gross."
   ]
  },
  {
   "cell_type": "code",
   "execution_count": 16,
   "metadata": {},
   "outputs": [
    {
     "data": {
      "text/plain": [
       "count    5.620000e+02\n",
       "mean     6.656284e+07\n",
       "std      9.378084e+07\n",
       "min      2.815000e+03\n",
       "25%      1.472850e+07\n",
       "50%      3.201632e+07\n",
       "75%      7.792766e+07\n",
       "max      9.366622e+08\n",
       "Name: total_gross, dtype: float64"
      ]
     },
     "execution_count": 16,
     "metadata": {},
     "output_type": "execute_result"
    }
   ],
   "source": [
    "# This computes median value of total gross\n",
    "gross_median = disney_year['total_gross'].median()\n",
    "\n",
    "# This fills the null values by the median value of total gross\n",
    "disney_year.loc[disney_year['total_gross'] == 0, 'total_gross'] = gross_median\n",
    "\n",
    "disney_year.describe()['total_gross']"
   ]
  },
  {
   "cell_type": "markdown",
   "metadata": {},
   "source": [
    "Now the total gross looks great."
   ]
  },
  {
   "cell_type": "markdown",
   "metadata": {},
   "source": [
    "Let's generate a histogram plot for total gross and see if it is normally distributed."
   ]
  },
  {
   "cell_type": "code",
   "execution_count": 17,
   "metadata": {},
   "outputs": [
    {
     "data": {
      "text/html": [
       "\n",
       "<div id=\"altair-viz-d1821fd4064b4b7f9115fafa0aa738e5\"></div>\n",
       "<script type=\"text/javascript\">\n",
       "  (function(spec, embedOpt){\n",
       "    let outputDiv = document.currentScript.previousElementSibling;\n",
       "    if (outputDiv.id !== \"altair-viz-d1821fd4064b4b7f9115fafa0aa738e5\") {\n",
       "      outputDiv = document.getElementById(\"altair-viz-d1821fd4064b4b7f9115fafa0aa738e5\");\n",
       "    }\n",
       "    const paths = {\n",
       "      \"vega\": \"https://cdn.jsdelivr.net/npm//vega@5?noext\",\n",
       "      \"vega-lib\": \"https://cdn.jsdelivr.net/npm//vega-lib?noext\",\n",
       "      \"vega-lite\": \"https://cdn.jsdelivr.net/npm//vega-lite@4.8.1?noext\",\n",
       "      \"vega-embed\": \"https://cdn.jsdelivr.net/npm//vega-embed@6?noext\",\n",
       "    };\n",
       "\n",
       "    function loadScript(lib) {\n",
       "      return new Promise(function(resolve, reject) {\n",
       "        var s = document.createElement('script');\n",
       "        s.src = paths[lib];\n",
       "        s.async = true;\n",
       "        s.onload = () => resolve(paths[lib]);\n",
       "        s.onerror = () => reject(`Error loading script: ${paths[lib]}`);\n",
       "        document.getElementsByTagName(\"head\")[0].appendChild(s);\n",
       "      });\n",
       "    }\n",
       "\n",
       "    function showError(err) {\n",
       "      outputDiv.innerHTML = `<div class=\"error\" style=\"color:red;\">${err}</div>`;\n",
       "      throw err;\n",
       "    }\n",
       "\n",
       "    function displayChart(vegaEmbed) {\n",
       "      vegaEmbed(outputDiv, spec, embedOpt)\n",
       "        .catch(err => showError(`Javascript Error: ${err.message}<br>This usually means there's a typo in your chart specification. See the javascript console for the full traceback.`));\n",
       "    }\n",
       "\n",
       "    if(typeof define === \"function\" && define.amd) {\n",
       "      requirejs.config({paths});\n",
       "      require([\"vega-embed\"], displayChart, err => showError(`Error loading script: ${err.message}`));\n",
       "    } else if (typeof vegaEmbed === \"function\") {\n",
       "      displayChart(vegaEmbed);\n",
       "    } else {\n",
       "      loadScript(\"vega\")\n",
       "        .then(() => loadScript(\"vega-lite\"))\n",
       "        .then(() => loadScript(\"vega-embed\"))\n",
       "        .catch(showError)\n",
       "        .then(() => displayChart(vegaEmbed));\n",
       "    }\n",
       "  })({\"config\": {\"view\": {\"continuousWidth\": 400, \"continuousHeight\": 300}}, \"data\": {\"name\": \"data-e493006432d334b44d419f3372aca023\"}, \"mark\": \"bar\", \"encoding\": {\"x\": {\"type\": \"quantitative\", \"bin\": {\"maxbins\": 50}, \"field\": \"total_gross\"}, \"y\": {\"type\": \"quantitative\", \"aggregate\": \"count\"}}, \"height\": 300, \"title\": \"Distribution of Total Gross\", \"width\": 500, \"$schema\": \"https://vega.github.io/schema/vega-lite/v4.8.1.json\", \"datasets\": {\"data-e493006432d334b44d419f3372aca023\": [{\"movie_title\": \"Snow White and the Seven Dwarfs\", \"release_date\": \"1937-12-21T00:00:00\", \"genre\": \"Musical\", \"MPAA_rating\": \"G\", \"total_gross\": 184925485.0, \"inflation_adjusted_gross\": 5228953251, \"year\": 1937}, {\"movie_title\": \"Pinocchio\", \"release_date\": \"1940-02-09T00:00:00\", \"genre\": \"Adventure\", \"MPAA_rating\": \"G\", \"total_gross\": 84300000.0, \"inflation_adjusted_gross\": 2188229052, \"year\": 1940}, {\"movie_title\": \"Fantasia\", \"release_date\": \"1940-11-13T00:00:00\", \"genre\": \"Musical\", \"MPAA_rating\": \"G\", \"total_gross\": 83320000.0, \"inflation_adjusted_gross\": 2187090808, \"year\": 1940}, {\"movie_title\": \"Song of the South\", \"release_date\": \"1946-11-12T00:00:00\", \"genre\": \"Adventure\", \"MPAA_rating\": \"G\", \"total_gross\": 65000000.0, \"inflation_adjusted_gross\": 1078510579, \"year\": 1946}, {\"movie_title\": \"Cinderella\", \"release_date\": \"1950-02-15T00:00:00\", \"genre\": \"Drama\", \"MPAA_rating\": \"G\", \"total_gross\": 85000000.0, \"inflation_adjusted_gross\": 920608730, \"year\": 1950}, {\"movie_title\": \"20,000 Leagues Under the Sea\", \"release_date\": \"1954-12-23T00:00:00\", \"genre\": \"Adventure\", \"MPAA_rating\": null, \"total_gross\": 28200000.0, \"inflation_adjusted_gross\": 528279994, \"year\": 1954}, {\"movie_title\": \"Lady and the Tramp\", \"release_date\": \"1955-06-22T00:00:00\", \"genre\": \"Drama\", \"MPAA_rating\": \"G\", \"total_gross\": 93600000.0, \"inflation_adjusted_gross\": 1236035515, \"year\": 1955}, {\"movie_title\": \"Sleeping Beauty\", \"release_date\": \"1959-01-29T00:00:00\", \"genre\": \"Drama\", \"MPAA_rating\": null, \"total_gross\": 9464608.0, \"inflation_adjusted_gross\": 21505832, \"year\": 1959}, {\"movie_title\": \"101 Dalmatians\", \"release_date\": \"1961-01-25T00:00:00\", \"genre\": \"Comedy\", \"MPAA_rating\": \"G\", \"total_gross\": 153000000.0, \"inflation_adjusted_gross\": 1362870985, \"year\": 1961}, {\"movie_title\": \"The Absent Minded Professor\", \"release_date\": \"1961-03-16T00:00:00\", \"genre\": \"Comedy\", \"MPAA_rating\": null, \"total_gross\": 25381407.0, \"inflation_adjusted_gross\": 310094574, \"year\": 1961}, {\"movie_title\": \"Babes in Toyland\", \"release_date\": \"1961-12-14T00:00:00\", \"genre\": \"Musical\", \"MPAA_rating\": \"G\", \"total_gross\": 10218316.0, \"inflation_adjusted_gross\": 124841160, \"year\": 1961}, {\"movie_title\": \"Bon Voyage!\", \"release_date\": \"1962-05-17T00:00:00\", \"genre\": \"Comedy\", \"MPAA_rating\": \"Not Rated\", \"total_gross\": 9230769.0, \"inflation_adjusted_gross\": 109581646, \"year\": 1962}, {\"movie_title\": \"The Sword in the Stone\", \"release_date\": \"1963-12-25T00:00:00\", \"genre\": \"Adventure\", \"MPAA_rating\": null, \"total_gross\": 22182353.0, \"inflation_adjusted_gross\": 153870834, \"year\": 1963}, {\"movie_title\": \"The Jungle Book\", \"release_date\": \"1967-10-18T00:00:00\", \"genre\": \"Musical\", \"MPAA_rating\": \"Not Rated\", \"total_gross\": 141843000.0, \"inflation_adjusted_gross\": 789612346, \"year\": 1967}, {\"movie_title\": \"Blackbeard's Ghost\", \"release_date\": \"1968-02-08T00:00:00\", \"genre\": \"Comedy\", \"MPAA_rating\": null, \"total_gross\": 21540050.0, \"inflation_adjusted_gross\": 138612686, \"year\": 1968}, {\"movie_title\": \"The Aristocats\", \"release_date\": \"1970-04-24T00:00:00\", \"genre\": \"Musical\", \"MPAA_rating\": \"G\", \"total_gross\": 55675257.0, \"inflation_adjusted_gross\": 255161499, \"year\": 1970}, {\"movie_title\": \"The Boatniks\", \"release_date\": \"1970-07-01T00:00:00\", \"genre\": \"Comedy\", \"MPAA_rating\": null, \"total_gross\": 18607492.0, \"inflation_adjusted_gross\": 101200742, \"year\": 1970}, {\"movie_title\": \"Bedknobs and Broomsticks\", \"release_date\": \"1971-10-07T00:00:00\", \"genre\": \"Musical\", \"MPAA_rating\": null, \"total_gross\": 17871174.0, \"inflation_adjusted_gross\": 91305448, \"year\": 1971}, {\"movie_title\": \"The Apple Dumpling Gang\", \"release_date\": \"1975-07-01T00:00:00\", \"genre\": \"Comedy\", \"MPAA_rating\": null, \"total_gross\": 31916500.0, \"inflation_adjusted_gross\": 131246872, \"year\": 1975}, {\"movie_title\": \"Freaky Friday\", \"release_date\": \"1977-01-21T00:00:00\", \"genre\": \"Comedy\", \"MPAA_rating\": null, \"total_gross\": 25942000.0, \"inflation_adjusted_gross\": 98067733, \"year\": 1977}, {\"movie_title\": \"The Rescuers\", \"release_date\": \"1977-06-22T00:00:00\", \"genre\": \"Adventure\", \"MPAA_rating\": null, \"total_gross\": 48775599.0, \"inflation_adjusted_gross\": 159743914, \"year\": 1977}, {\"movie_title\": \"Amy\", \"release_date\": \"1981-03-20T00:00:00\", \"genre\": \"Drama\", \"MPAA_rating\": null, \"total_gross\": 32014735.5, \"inflation_adjusted_gross\": 0, \"year\": 1981}, {\"movie_title\": \"The Fox and the Hound\", \"release_date\": \"1981-07-10T00:00:00\", \"genre\": \"Comedy\", \"MPAA_rating\": null, \"total_gross\": 43899231.0, \"inflation_adjusted_gross\": 133118889, \"year\": 1981}, {\"movie_title\": \"Condorman\", \"release_date\": \"1981-08-07T00:00:00\", \"genre\": \"Action\", \"MPAA_rating\": null, \"total_gross\": 32014735.5, \"inflation_adjusted_gross\": 0, \"year\": 1981}, {\"movie_title\": \"Night Crossing\", \"release_date\": \"1982-02-05T00:00:00\", \"genre\": \"Drama\", \"MPAA_rating\": null, \"total_gross\": 4500000.0, \"inflation_adjusted_gross\": 12903059, \"year\": 1982}, {\"movie_title\": \"Tron\", \"release_date\": \"1982-07-09T00:00:00\", \"genre\": \"Action\", \"MPAA_rating\": null, \"total_gross\": 26918576.0, \"inflation_adjusted_gross\": 77184895, \"year\": 1982}, {\"movie_title\": \"Tex\", \"release_date\": \"1982-11-19T00:00:00\", \"genre\": \"Drama\", \"MPAA_rating\": null, \"total_gross\": 7199408.0, \"inflation_adjusted_gross\": 20643199, \"year\": 1982}, {\"movie_title\": \"Trenchcoat\", \"release_date\": \"1983-03-11T00:00:00\", \"genre\": \"Comedy\", \"MPAA_rating\": null, \"total_gross\": 4304286.0, \"inflation_adjusted_gross\": 11519089, \"year\": 1983}, {\"movie_title\": \"Something Wicked This Way Comes\", \"release_date\": \"1983-04-29T00:00:00\", \"genre\": \"Horror\", \"MPAA_rating\": null, \"total_gross\": 5656087.0, \"inflation_adjusted_gross\": 15136765, \"year\": 1983}, {\"movie_title\": \"Never Cry Wolf\", \"release_date\": \"1983-10-07T00:00:00\", \"genre\": \"Drama\", \"MPAA_rating\": null, \"total_gross\": 27668764.0, \"inflation_adjusted_gross\": 70669955, \"year\": 1983}, {\"movie_title\": \"Running Brave\", \"release_date\": \"1983-11-04T00:00:00\", \"genre\": \"Drama\", \"MPAA_rating\": null, \"total_gross\": 1204595.0, \"inflation_adjusted_gross\": 3223725, \"year\": 1983}, {\"movie_title\": \"Splash\", \"release_date\": \"1984-03-09T00:00:00\", \"genre\": \"Comedy\", \"MPAA_rating\": \"PG\", \"total_gross\": 62599495.0, \"inflation_adjusted_gross\": 157057661, \"year\": 1984}, {\"movie_title\": \"Country\", \"release_date\": \"1984-09-29T00:00:00\", \"genre\": \"Drama\", \"MPAA_rating\": null, \"total_gross\": 8400000.0, \"inflation_adjusted_gross\": 21075000, \"year\": 1984}, {\"movie_title\": \"Baby: Secret of the Lost Legend\", \"release_date\": \"1985-03-22T00:00:00\", \"genre\": \"Adventure\", \"MPAA_rating\": null, \"total_gross\": 14276095.0, \"inflation_adjusted_gross\": 33900697, \"year\": 1985}, {\"movie_title\": \"Return to Oz\", \"release_date\": \"1985-06-21T00:00:00\", \"genre\": \"Adventure\", \"MPAA_rating\": null, \"total_gross\": 10618813.0, \"inflation_adjusted_gross\": 25215934, \"year\": 1985}, {\"movie_title\": \"The Black Cauldron\", \"release_date\": \"1985-07-24T00:00:00\", \"genre\": \"Adventure\", \"MPAA_rating\": null, \"total_gross\": 21288692.0, \"inflation_adjusted_gross\": 50553142, \"year\": 1985}, {\"movie_title\": \"My Science Project\", \"release_date\": \"1985-08-09T00:00:00\", \"genre\": \"Comedy\", \"MPAA_rating\": null, \"total_gross\": 4100000.0, \"inflation_adjusted_gross\": 9736051, \"year\": 1985}, {\"movie_title\": \"The Journey of Natty Gann\", \"release_date\": \"1985-09-27T00:00:00\", \"genre\": \"Drama\", \"MPAA_rating\": null, \"total_gross\": 9468512.0, \"inflation_adjusted_gross\": 22302956, \"year\": 1985}, {\"movie_title\": \"One Magic Christmas\", \"release_date\": \"1985-11-22T00:00:00\", \"genre\": \"Drama\", \"MPAA_rating\": null, \"total_gross\": 13229514.0, \"inflation_adjusted_gross\": 31415432, \"year\": 1985}, {\"movie_title\": \"Down and Out in Beverly Hills\", \"release_date\": \"1986-01-31T00:00:00\", \"genre\": \"Comedy\", \"MPAA_rating\": \"R\", \"total_gross\": 62134225.0, \"inflation_adjusted_gross\": 141183693, \"year\": 1986}, {\"movie_title\": \"Off Beat\", \"release_date\": \"1986-04-11T00:00:00\", \"genre\": \"Comedy\", \"MPAA_rating\": null, \"total_gross\": 4842778.0, \"inflation_adjusted_gross\": 11003932, \"year\": 1986}, {\"movie_title\": \"Ruthless People\", \"release_date\": \"1986-06-27T00:00:00\", \"genre\": \"Comedy\", \"MPAA_rating\": \"R\", \"total_gross\": 71624879.0, \"inflation_adjusted_gross\": 162748712, \"year\": 1986}, {\"movie_title\": \"The Great Mouse Detective\", \"release_date\": \"1986-07-02T00:00:00\", \"genre\": \"Adventure\", \"MPAA_rating\": null, \"total_gross\": 23605534.0, \"inflation_adjusted_gross\": 53637367, \"year\": 1986}, {\"movie_title\": \"Flight of the Navigator\", \"release_date\": \"1986-07-30T00:00:00\", \"genre\": \"Adventure\", \"MPAA_rating\": null, \"total_gross\": 18564613.0, \"inflation_adjusted_gross\": 42183197, \"year\": 1986}, {\"movie_title\": \"Tough Guys\", \"release_date\": \"1986-10-03T00:00:00\", \"genre\": \"Comedy\", \"MPAA_rating\": null, \"total_gross\": 21458229.0, \"inflation_adjusted_gross\": 48758184, \"year\": 1986}, {\"movie_title\": \"The Color of Money\", \"release_date\": \"1986-10-17T00:00:00\", \"genre\": \"Drama\", \"MPAA_rating\": \"R\", \"total_gross\": 52293000.0, \"inflation_adjusted_gross\": 117957323, \"year\": 1986}, {\"movie_title\": \"Outrageous Fortune\", \"release_date\": \"1987-01-30T00:00:00\", \"genre\": \"Comedy\", \"MPAA_rating\": \"R\", \"total_gross\": 52864741.0, \"inflation_adjusted_gross\": 113976921, \"year\": 1987}, {\"movie_title\": \"Tin Men\", \"release_date\": \"1987-03-06T00:00:00\", \"genre\": \"Comedy\", \"MPAA_rating\": null, \"total_gross\": 25411386.0, \"inflation_adjusted_gross\": 54787202, \"year\": 1987}, {\"movie_title\": \"Ernest Goes to Camp\", \"release_date\": \"1987-05-22T00:00:00\", \"genre\": \"Comedy\", \"MPAA_rating\": null, \"total_gross\": 23509382.0, \"inflation_adjusted_gross\": 50686462, \"year\": 1987}, {\"movie_title\": \"Benji the Hunted\", \"release_date\": \"1987-06-05T00:00:00\", \"genre\": \"Adventure\", \"MPAA_rating\": null, \"total_gross\": 15212539.0, \"inflation_adjusted_gross\": 32798382, \"year\": 1987}, {\"movie_title\": \"Adventures in Babysitting\", \"release_date\": \"1987-07-03T00:00:00\", \"genre\": \"Comedy\", \"MPAA_rating\": null, \"total_gross\": 33790923.0, \"inflation_adjusted_gross\": 72853569, \"year\": 1987}, {\"movie_title\": \"Stakeout\", \"release_date\": \"1987-08-05T00:00:00\", \"genre\": \"Comedy\", \"MPAA_rating\": \"R\", \"total_gross\": 65673233.0, \"inflation_adjusted_gross\": 141592160, \"year\": 1987}, {\"movie_title\": \"Can't Buy Me Love\", \"release_date\": \"1987-08-14T00:00:00\", \"genre\": \"Romantic Comedy\", \"MPAA_rating\": null, \"total_gross\": 31623833.0, \"inflation_adjusted_gross\": 68181300, \"year\": 1987}, {\"movie_title\": \"Hello Again\", \"release_date\": \"1987-11-06T00:00:00\", \"genre\": \"Comedy\", \"MPAA_rating\": null, \"total_gross\": 20419446.0, \"inflation_adjusted_gross\": 44024529, \"year\": 1987}, {\"movie_title\": \"3 Men and a Baby\", \"release_date\": \"1987-11-25T00:00:00\", \"genre\": \"Comedy\", \"MPAA_rating\": \"PG\", \"total_gross\": 167780960.0, \"inflation_adjusted_gross\": 353334607, \"year\": 1987}, {\"movie_title\": \"Good Morning Vietnam\", \"release_date\": \"1987-12-23T00:00:00\", \"genre\": \"Comedy\", \"MPAA_rating\": \"R\", \"total_gross\": 123922370.0, \"inflation_adjusted_gross\": 254414837, \"year\": 1987}, {\"movie_title\": \"Shoot to Kill\", \"release_date\": \"1988-02-12T00:00:00\", \"genre\": \"Action\", \"MPAA_rating\": null, \"total_gross\": 29300000.0, \"inflation_adjusted_gross\": 60097074, \"year\": 1988}, {\"movie_title\": \"D.O.A.\", \"release_date\": \"1988-03-18T00:00:00\", \"genre\": \"Thriller/Suspense\", \"MPAA_rating\": null, \"total_gross\": 12706478.0, \"inflation_adjusted_gross\": 26062188, \"year\": 1988}, {\"movie_title\": \"Return to Snowy River\", \"release_date\": \"1988-04-15T00:00:00\", \"genre\": \"Adventure\", \"MPAA_rating\": \"PG\", \"total_gross\": 13687027.0, \"inflation_adjusted_gross\": 28073384, \"year\": 1988}, {\"movie_title\": \"Big Business\", \"release_date\": \"1988-06-10T00:00:00\", \"genre\": \"Comedy\", \"MPAA_rating\": \"PG\", \"total_gross\": 40150487.0, \"inflation_adjusted_gross\": 82352451, \"year\": 1988}, {\"movie_title\": \"Who Framed Roger Rabbit?\", \"release_date\": \"1988-06-22T00:00:00\", \"genre\": \"Comedy\", \"MPAA_rating\": \"PG\", \"total_gross\": 154112492.0, \"inflation_adjusted_gross\": 316250084, \"year\": 1988}, {\"movie_title\": \"Cocktail\", \"release_date\": \"1988-07-29T00:00:00\", \"genre\": \"Drama\", \"MPAA_rating\": \"R\", \"total_gross\": 78222753.0, \"inflation_adjusted_gross\": 160442289, \"year\": 1988}, {\"movie_title\": \"The Rescue\", \"release_date\": \"1988-08-05T00:00:00\", \"genre\": \"Action\", \"MPAA_rating\": null, \"total_gross\": 5855392.0, \"inflation_adjusted_gross\": 12009960, \"year\": 1988}, {\"movie_title\": \"Heartbreak Hotel\", \"release_date\": \"1988-09-30T00:00:00\", \"genre\": \"Comedy\", \"MPAA_rating\": null, \"total_gross\": 5509417.0, \"inflation_adjusted_gross\": 11300331, \"year\": 1988}, {\"movie_title\": \"The Good Mother\", \"release_date\": \"1988-11-04T00:00:00\", \"genre\": \"Drama\", \"MPAA_rating\": null, \"total_gross\": 4764606.0, \"inflation_adjusted_gross\": 9772655, \"year\": 1988}, {\"movie_title\": \"Ernest Saves Christmas\", \"release_date\": \"1988-11-11T00:00:00\", \"genre\": \"Comedy\", \"MPAA_rating\": \"PG\", \"total_gross\": 28202109.0, \"inflation_adjusted_gross\": 57845202, \"year\": 1988}, {\"movie_title\": \"Oliver & Company\", \"release_date\": \"1988-11-18T00:00:00\", \"genre\": \"Adventure\", \"MPAA_rating\": \"G\", \"total_gross\": 49576671.0, \"inflation_adjusted_gross\": 102254492, \"year\": 1988}, {\"movie_title\": \"Beaches\", \"release_date\": \"1988-12-21T00:00:00\", \"genre\": \"Drama\", \"MPAA_rating\": \"PG-13\", \"total_gross\": 57041866.0, \"inflation_adjusted_gross\": 120381757, \"year\": 1988}, {\"movie_title\": \"Three Fugitives\", \"release_date\": \"1989-01-27T00:00:00\", \"genre\": \"Comedy\", \"MPAA_rating\": \"PG-13\", \"total_gross\": 40590000.0, \"inflation_adjusted_gross\": 85757817, \"year\": 1989}, {\"movie_title\": \"New York Stories\", \"release_date\": \"1989-03-01T00:00:00\", \"genre\": \"Drama\", \"MPAA_rating\": \"PG\", \"total_gross\": 10763469.0, \"inflation_adjusted_gross\": 22740861, \"year\": 1989}, {\"movie_title\": \"Disorganized Crime\", \"release_date\": \"1989-04-14T00:00:00\", \"genre\": \"Comedy\", \"MPAA_rating\": null, \"total_gross\": 7210149.0, \"inflation_adjusted_gross\": 15233465, \"year\": 1989}, {\"movie_title\": \"Dead Poets Society\", \"release_date\": \"1989-06-02T00:00:00\", \"genre\": \"Drama\", \"MPAA_rating\": \"PG\", \"total_gross\": 95860116.0, \"inflation_adjusted_gross\": 202531517, \"year\": 1989}, {\"movie_title\": \"Honey, I Shrunk the Kids\", \"release_date\": \"1989-06-23T00:00:00\", \"genre\": \"Adventure\", \"MPAA_rating\": \"PG\", \"total_gross\": 130724172.0, \"inflation_adjusted_gross\": 276191669, \"year\": 1989}, {\"movie_title\": \"Turner & Hooch\", \"release_date\": \"1989-07-28T00:00:00\", \"genre\": \"Comedy\", \"MPAA_rating\": \"PG\", \"total_gross\": 71079915.0, \"inflation_adjusted_gross\": 150176361, \"year\": 1989}, {\"movie_title\": \"Cheetah\", \"release_date\": \"1989-08-18T00:00:00\", \"genre\": \"Adventure\", \"MPAA_rating\": null, \"total_gross\": 7882250.0, \"inflation_adjusted_gross\": 16653473, \"year\": 1989}, {\"movie_title\": \"An Innocent Man\", \"release_date\": \"1989-10-06T00:00:00\", \"genre\": \"Drama\", \"MPAA_rating\": \"R\", \"total_gross\": 19397847.0, \"inflation_adjusted_gross\": 40983414, \"year\": 1989}, {\"movie_title\": \"Gross Anatomy\", \"release_date\": \"1989-10-20T00:00:00\", \"genre\": \"Drama\", \"MPAA_rating\": \"PG-13\", \"total_gross\": 11346186.0, \"inflation_adjusted_gross\": 23972012, \"year\": 1989}, {\"movie_title\": \"The Little Mermaid\", \"release_date\": \"1989-11-15T00:00:00\", \"genre\": \"Adventure\", \"MPAA_rating\": \"G\", \"total_gross\": 111543479.0, \"inflation_adjusted_gross\": 223726012, \"year\": 1989}, {\"movie_title\": \"Blaze\", \"release_date\": \"1989-12-13T00:00:00\", \"genre\": \"Drama\", \"MPAA_rating\": \"R\", \"total_gross\": 19049727.0, \"inflation_adjusted_gross\": 39884640, \"year\": 1989}, {\"movie_title\": \"Stella\", \"release_date\": \"1990-02-02T00:00:00\", \"genre\": \"Drama\", \"MPAA_rating\": \"PG-13\", \"total_gross\": 20062347.0, \"inflation_adjusted_gross\": 40077147, \"year\": 1990}, {\"movie_title\": \"Where the Heart Is\", \"release_date\": \"1990-02-23T00:00:00\", \"genre\": \"Comedy\", \"MPAA_rating\": null, \"total_gross\": 1106475.0, \"inflation_adjusted_gross\": 2210321, \"year\": 1990}, {\"movie_title\": \"Pretty Woman\", \"release_date\": \"1990-03-23T00:00:00\", \"genre\": \"Romantic Comedy\", \"MPAA_rating\": \"R\", \"total_gross\": 178406268.0, \"inflation_adjusted_gross\": 356389765, \"year\": 1990}, {\"movie_title\": \"Ernest Goes to Jail\", \"release_date\": \"1990-04-06T00:00:00\", \"genre\": \"Comedy\", \"MPAA_rating\": \"PG\", \"total_gross\": 25029569.0, \"inflation_adjusted_gross\": 49999822, \"year\": 1990}, {\"movie_title\": \"Spaced Invaders\", \"release_date\": \"1990-04-27T00:00:00\", \"genre\": \"Comedy\", \"MPAA_rating\": \"PG\", \"total_gross\": 15000000.0, \"inflation_adjusted_gross\": 29964452, \"year\": 1990}, {\"movie_title\": \"Fire Birds\", \"release_date\": \"1990-05-24T00:00:00\", \"genre\": \"Action\", \"MPAA_rating\": \"PG-13\", \"total_gross\": 14760451.0, \"inflation_adjusted_gross\": 29485923, \"year\": 1990}, {\"movie_title\": \"Dick Tracy\", \"release_date\": \"1990-06-15T00:00:00\", \"genre\": \"Action\", \"MPAA_rating\": \"PG\", \"total_gross\": 103738726.0, \"inflation_adjusted_gross\": 207231621, \"year\": 1990}, {\"movie_title\": \"Betsy's Wedding\", \"release_date\": \"1990-06-22T00:00:00\", \"genre\": \"Comedy\", \"MPAA_rating\": \"R\", \"total_gross\": 19740070.0, \"inflation_adjusted_gross\": 39433357, \"year\": 1990}, {\"movie_title\": \"Arachnophobia\", \"release_date\": \"1990-07-18T00:00:00\", \"genre\": \"Thriller/Suspense\", \"MPAA_rating\": \"PG-13\", \"total_gross\": 53208180.0, \"inflation_adjusted_gross\": 106290270, \"year\": 1990}, {\"movie_title\": \"DuckTales: The Movie - Treasure of th\\u2026\", \"release_date\": \"1990-08-03T00:00:00\", \"genre\": \"Adventure\", \"MPAA_rating\": \"G\", \"total_gross\": 18075331.0, \"inflation_adjusted_gross\": 36107823, \"year\": 1990}, {\"movie_title\": \"Taking Care of Business\", \"release_date\": \"1990-08-17T00:00:00\", \"genre\": \"Comedy\", \"MPAA_rating\": \"R\", \"total_gross\": 20005435.0, \"inflation_adjusted_gross\": 39963460, \"year\": 1990}, {\"movie_title\": \"Mr. Destiny\", \"release_date\": \"1990-10-12T00:00:00\", \"genre\": \"Comedy\", \"MPAA_rating\": \"PG-13\", \"total_gross\": 15379253.0, \"inflation_adjusted_gross\": 30722056, \"year\": 1990}, {\"movie_title\": \"The Rescuers Down Under\", \"release_date\": \"1990-11-16T00:00:00\", \"genre\": \"Adventure\", \"MPAA_rating\": \"G\", \"total_gross\": 27931461.0, \"inflation_adjusted_gross\": 55796728, \"year\": 1990}, {\"movie_title\": \"3 Men and a Little Lady\", \"release_date\": \"1990-11-21T00:00:00\", \"genre\": \"Comedy\", \"MPAA_rating\": \"PG\", \"total_gross\": 71609321.0, \"inflation_adjusted_gross\": 143108869, \"year\": 1990}, {\"movie_title\": \"Green Card\", \"release_date\": \"1990-12-25T00:00:00\", \"genre\": \"Romantic Comedy\", \"MPAA_rating\": \"PG-13\", \"total_gross\": 29804169.0, \"inflation_adjusted_gross\": 59679131, \"year\": 1990}, {\"movie_title\": \"White Fang\", \"release_date\": \"1991-01-18T00:00:00\", \"genre\": \"Adventure\", \"MPAA_rating\": \"PG\", \"total_gross\": 34729091.0, \"inflation_adjusted_gross\": 69540672, \"year\": 1991}, {\"movie_title\": \"Scenes from a Mall\", \"release_date\": \"1991-02-22T00:00:00\", \"genre\": \"Comedy\", \"MPAA_rating\": null, \"total_gross\": 9563393.0, \"inflation_adjusted_gross\": 19149495, \"year\": 1991}, {\"movie_title\": \"Haakon Haakonsen\", \"release_date\": \"1991-03-01T00:00:00\", \"genre\": \"Adventure\", \"MPAA_rating\": \"PG\", \"total_gross\": 15024232.0, \"inflation_adjusted_gross\": 30084149, \"year\": 1991}, {\"movie_title\": \"The Marrying Man\", \"release_date\": \"1991-04-05T00:00:00\", \"genre\": \"Romantic Comedy\", \"MPAA_rating\": \"R\", \"total_gross\": 12454768.0, \"inflation_adjusted_gross\": 24939118, \"year\": 1991}, {\"movie_title\": \"Oscar\", \"release_date\": \"1991-04-26T00:00:00\", \"genre\": \"Comedy\", \"MPAA_rating\": \"PG\", \"total_gross\": 23562716.0, \"inflation_adjusted_gross\": 47181395, \"year\": 1991}, {\"movie_title\": \"One Good Cop\", \"release_date\": \"1991-05-03T00:00:00\", \"genre\": \"Action\", \"MPAA_rating\": \"R\", \"total_gross\": 11276846.0, \"inflation_adjusted_gross\": 22580472, \"year\": 1991}, {\"movie_title\": \"What About Bob?\", \"release_date\": \"1991-05-17T00:00:00\", \"genre\": \"Comedy\", \"MPAA_rating\": \"PG\", \"total_gross\": 63710000.0, \"inflation_adjusted_gross\": 127571325, \"year\": 1991}, {\"movie_title\": \"Wild Hearts Can't Be Broken\", \"release_date\": \"1991-05-24T00:00:00\", \"genre\": \"Drama\", \"MPAA_rating\": null, \"total_gross\": 7300000.0, \"inflation_adjusted_gross\": 14617333, \"year\": 1991}, {\"movie_title\": \"The Rocketeer\", \"release_date\": \"1991-06-21T00:00:00\", \"genre\": \"Action\", \"MPAA_rating\": \"PG\", \"total_gross\": 46573027.0, \"inflation_adjusted_gross\": 93256673, \"year\": 1991}, {\"movie_title\": \"The Doctor\", \"release_date\": \"1991-07-24T00:00:00\", \"genre\": \"Drama\", \"MPAA_rating\": \"PG-13\", \"total_gross\": 37497480.0, \"inflation_adjusted_gross\": 75084021, \"year\": 1991}, {\"movie_title\": \"Paradise\", \"release_date\": \"1991-09-18T00:00:00\", \"genre\": \"Drama\", \"MPAA_rating\": \"PG-13\", \"total_gross\": 18634643.0, \"inflation_adjusted_gross\": 37313540, \"year\": 1991}, {\"movie_title\": \"Deceived\", \"release_date\": \"1991-09-27T00:00:00\", \"genre\": \"Thriller/Suspense\", \"MPAA_rating\": \"PG-13\", \"total_gross\": 28738096.0, \"inflation_adjusted_gross\": 57544453, \"year\": 1991}, {\"movie_title\": \"Ernest Scared Stupid\", \"release_date\": \"1991-10-11T00:00:00\", \"genre\": \"Comedy\", \"MPAA_rating\": \"PG\", \"total_gross\": 14143280.0, \"inflation_adjusted_gross\": 28320147, \"year\": 1991}, {\"movie_title\": \"Billy Bathgate\", \"release_date\": \"1991-11-01T00:00:00\", \"genre\": \"Drama\", \"MPAA_rating\": \"R\", \"total_gross\": 15565363.0, \"inflation_adjusted_gross\": 31167691, \"year\": 1991}, {\"movie_title\": \"Beauty and the Beast\", \"release_date\": \"1991-11-13T00:00:00\", \"genre\": \"Musical\", \"MPAA_rating\": \"G\", \"total_gross\": 218951625.0, \"inflation_adjusted_gross\": 363017667, \"year\": 1991}, {\"movie_title\": \"Father of the Bride\", \"release_date\": \"1991-12-20T00:00:00\", \"genre\": \"Comedy\", \"MPAA_rating\": \"PG\", \"total_gross\": 89325780.0, \"inflation_adjusted_gross\": 179821881, \"year\": 1991}, {\"movie_title\": \"The Hand That Rocks the Cradle\", \"release_date\": \"1992-01-10T00:00:00\", \"genre\": \"Thriller/Suspense\", \"MPAA_rating\": \"R\", \"total_gross\": 88036683.0, \"inflation_adjusted_gross\": 178831137, \"year\": 1992}, {\"movie_title\": \"Medicine Man\", \"release_date\": \"1992-02-07T00:00:00\", \"genre\": \"Drama\", \"MPAA_rating\": \"PG-13\", \"total_gross\": 44948240.0, \"inflation_adjusted_gross\": 91304495, \"year\": 1992}, {\"movie_title\": \"Blame it on the Bellboy\", \"release_date\": \"1992-03-06T00:00:00\", \"genre\": \"Comedy\", \"MPAA_rating\": \"PG-13\", \"total_gross\": 2891055.0, \"inflation_adjusted_gross\": 5872667, \"year\": 1992}, {\"movie_title\": \"Noises Off...\", \"release_date\": \"1992-03-20T00:00:00\", \"genre\": \"Comedy\", \"MPAA_rating\": \"PG-13\", \"total_gross\": 2280148.0, \"inflation_adjusted_gross\": 4631720, \"year\": 1992}, {\"movie_title\": \"Straight Talk\", \"release_date\": \"1992-04-03T00:00:00\", \"genre\": \"Comedy\", \"MPAA_rating\": \"PG\", \"total_gross\": 21202099.0, \"inflation_adjusted_gross\": 43068356, \"year\": 1992}, {\"movie_title\": \"Encino Man\", \"release_date\": \"1992-05-22T00:00:00\", \"genre\": \"Comedy\", \"MPAA_rating\": \"PG\", \"total_gross\": 40057130.0, \"inflation_adjusted_gross\": 81369058, \"year\": 1992}, {\"movie_title\": \"Sister Act\", \"release_date\": \"1992-05-29T00:00:00\", \"genre\": \"Comedy\", \"MPAA_rating\": \"PG\", \"total_gross\": 139605150.0, \"inflation_adjusted_gross\": 283583472, \"year\": 1992}, {\"movie_title\": \"Honey I Blew Up the Kid\", \"release_date\": \"1992-07-17T00:00:00\", \"genre\": \"Comedy\", \"MPAA_rating\": \"PG\", \"total_gross\": 58662452.0, \"inflation_adjusted_gross\": 119162518, \"year\": 1992}, {\"movie_title\": \"A Stranger Among Us\", \"release_date\": \"1992-07-17T00:00:00\", \"genre\": \"Drama\", \"MPAA_rating\": \"PG-13\", \"total_gross\": 12282994.0, \"inflation_adjusted_gross\": 24950752, \"year\": 1992}, {\"movie_title\": \"3 Ninjas\", \"release_date\": \"1992-08-07T00:00:00\", \"genre\": \"Action\", \"MPAA_rating\": \"PG\", \"total_gross\": 29028000.0, \"inflation_adjusted_gross\": 58965304, \"year\": 1992}, {\"movie_title\": \"Captain Ron\", \"release_date\": \"1992-09-18T00:00:00\", \"genre\": \"Comedy\", \"MPAA_rating\": \"PG-13\", \"total_gross\": 22518097.0, \"inflation_adjusted_gross\": 45741576, \"year\": 1992}, {\"movie_title\": \"Sarafina!\", \"release_date\": \"1992-09-18T00:00:00\", \"genre\": \"Drama\", \"MPAA_rating\": \"PG-13\", \"total_gross\": 7306242.0, \"inflation_adjusted_gross\": 14841352, \"year\": 1992}, {\"movie_title\": \"Innocent Blood\", \"release_date\": \"1992-09-25T00:00:00\", \"genre\": \"Horror\", \"MPAA_rating\": \"R\", \"total_gross\": 4877567.0, \"inflation_adjusted_gross\": 9907922, \"year\": 1992}, {\"movie_title\": \"The Mighty Ducks\", \"release_date\": \"1992-10-02T00:00:00\", \"genre\": \"Comedy\", \"MPAA_rating\": \"PG\", \"total_gross\": 50752337.0, \"inflation_adjusted_gross\": 103120810, \"year\": 1992}, {\"movie_title\": \"1492: Conquest of Paradise\", \"release_date\": \"1992-10-09T00:00:00\", \"genre\": \"Adventure\", \"MPAA_rating\": \"PG-13\", \"total_gross\": 7099531.0, \"inflation_adjusted_gross\": 14421454, \"year\": 1992}, {\"movie_title\": \"Consenting Adults\", \"release_date\": \"1992-10-16T00:00:00\", \"genre\": \"Drama\", \"MPAA_rating\": \"R\", \"total_gross\": 21591728.0, \"inflation_adjusted_gross\": 43859823, \"year\": 1992}, {\"movie_title\": \"Aladdin\", \"release_date\": \"1992-11-11T00:00:00\", \"genre\": \"Comedy\", \"MPAA_rating\": \"G\", \"total_gross\": 217350219.0, \"inflation_adjusted_gross\": 441969178, \"year\": 1992}, {\"movie_title\": \"The Distinguished Gentleman\", \"release_date\": \"1992-12-04T00:00:00\", \"genre\": \"Comedy\", \"MPAA_rating\": \"R\", \"total_gross\": 46434570.0, \"inflation_adjusted_gross\": 94349900, \"year\": 1992}, {\"movie_title\": \"The Muppet Christmas Carol\", \"release_date\": \"1992-12-11T00:00:00\", \"genre\": \"Comedy\", \"MPAA_rating\": \"G\", \"total_gross\": 27281507.0, \"inflation_adjusted_gross\": 55417615, \"year\": 1992}, {\"movie_title\": \"Alive\", \"release_date\": \"1993-01-15T00:00:00\", \"genre\": \"Adventure\", \"MPAA_rating\": \"R\", \"total_gross\": 36299670.0, \"inflation_adjusted_gross\": 73914543, \"year\": 1993}, {\"movie_title\": \"Aspen Extreme\", \"release_date\": \"1993-01-22T00:00:00\", \"genre\": \"Romantic Comedy\", \"MPAA_rating\": \"PG-13\", \"total_gross\": 7843388.0, \"inflation_adjusted_gross\": 15970955, \"year\": 1993}, {\"movie_title\": \"Homeward Bound: The Incredible Journey\", \"release_date\": \"1993-02-03T00:00:00\", \"genre\": \"Adventure\", \"MPAA_rating\": \"G\", \"total_gross\": 41833324.0, \"inflation_adjusted_gross\": 85182343, \"year\": 1993}, {\"movie_title\": \"The Cemetery Club\", \"release_date\": \"1993-02-03T00:00:00\", \"genre\": \"Comedy\", \"MPAA_rating\": \"PG-13\", \"total_gross\": 5583621.0, \"inflation_adjusted_gross\": 11369541, \"year\": 1993}, {\"movie_title\": \"Swing Kids\", \"release_date\": \"1993-03-05T00:00:00\", \"genre\": \"Musical\", \"MPAA_rating\": \"PG-13\", \"total_gross\": 5632086.0, \"inflation_adjusted_gross\": 11468231, \"year\": 1993}, {\"movie_title\": \"A Far Off Place\", \"release_date\": \"1993-03-12T00:00:00\", \"genre\": \"Adventure\", \"MPAA_rating\": \"PG\", \"total_gross\": 12890752.0, \"inflation_adjusted_gross\": 26248558, \"year\": 1993}, {\"movie_title\": \"Born Yesterday\", \"release_date\": \"1993-03-26T00:00:00\", \"genre\": \"Romantic Comedy\", \"MPAA_rating\": \"PG\", \"total_gross\": 17760754.0, \"inflation_adjusted_gross\": 36165012, \"year\": 1993}, {\"movie_title\": \"The Adventures of Huck Finn\", \"release_date\": \"1993-04-02T00:00:00\", \"genre\": \"Adventure\", \"MPAA_rating\": \"PG\", \"total_gross\": 24103594.0, \"inflation_adjusted_gross\": 49080505, \"year\": 1993}, {\"movie_title\": \"Indian Summer\", \"release_date\": \"1993-04-23T00:00:00\", \"genre\": \"Comedy\", \"MPAA_rating\": \"R\", \"total_gross\": 14717851.0, \"inflation_adjusted_gross\": 29968953, \"year\": 1993}, {\"movie_title\": \"Super Mario Bros.\", \"release_date\": \"1993-05-28T00:00:00\", \"genre\": \"Action\", \"MPAA_rating\": \"PG\", \"total_gross\": 20844907.0, \"inflation_adjusted_gross\": 42445058, \"year\": 1993}, {\"movie_title\": \"Guilty as Sin\", \"release_date\": \"1993-06-04T00:00:00\", \"genre\": \"Thriller/Suspense\", \"MPAA_rating\": \"R\", \"total_gross\": 22622537.0, \"inflation_adjusted_gross\": 46064723, \"year\": 1993}, {\"movie_title\": \"Life With Mikey\", \"release_date\": \"1993-06-04T00:00:00\", \"genre\": \"Comedy\", \"MPAA_rating\": \"PG\", \"total_gross\": 12349549.0, \"inflation_adjusted_gross\": 25146538, \"year\": 1993}, {\"movie_title\": \"What's Love Got to Do With It\", \"release_date\": \"1993-06-09T00:00:00\", \"genre\": \"Drama\", \"MPAA_rating\": \"R\", \"total_gross\": 39100956.0, \"inflation_adjusted_gross\": 79618610, \"year\": 1993}, {\"movie_title\": \"Son in Law\", \"release_date\": \"1993-07-02T00:00:00\", \"genre\": \"Comedy\", \"MPAA_rating\": \"PG-13\", \"total_gross\": 25989889.0, \"inflation_adjusted_gross\": 52921433, \"year\": 1993}, {\"movie_title\": \"Hocus Pocus\", \"release_date\": \"1993-07-16T00:00:00\", \"genre\": \"Comedy\", \"MPAA_rating\": \"PG\", \"total_gross\": 39360491.0, \"inflation_adjusted_gross\": 80147079, \"year\": 1993}, {\"movie_title\": \"Another Stakeout\", \"release_date\": \"1993-07-23T00:00:00\", \"genre\": \"Comedy\", \"MPAA_rating\": \"PG-13\", \"total_gross\": 20107504.0, \"inflation_adjusted_gross\": 40943541, \"year\": 1993}, {\"movie_title\": \"The Joy Luck Club\", \"release_date\": \"1993-09-08T00:00:00\", \"genre\": \"Drama\", \"MPAA_rating\": \"R\", \"total_gross\": 32790064.0, \"inflation_adjusted_gross\": 66768171, \"year\": 1993}, {\"movie_title\": \"Money for Nothing\", \"release_date\": \"1993-09-10T00:00:00\", \"genre\": \"Comedy\", \"MPAA_rating\": \"R\", \"total_gross\": 1044824.0, \"inflation_adjusted_gross\": 2127496, \"year\": 1993}, {\"movie_title\": \"The Program\", \"release_date\": \"1993-09-24T00:00:00\", \"genre\": \"Action\", \"MPAA_rating\": \"R\", \"total_gross\": 23042200.0, \"inflation_adjusted_gross\": 46919256, \"year\": 1993}, {\"movie_title\": \"Cool Runnings\", \"release_date\": \"1993-10-01T00:00:00\", \"genre\": \"Comedy\", \"MPAA_rating\": \"PG\", \"total_gross\": 68856263.0, \"inflation_adjusted_gross\": 140392731, \"year\": 1993}, {\"movie_title\": \"The Nightmare Before Christmas\", \"release_date\": \"1993-10-13T00:00:00\", \"genre\": \"Musical\", \"MPAA_rating\": \"PG\", \"total_gross\": 50408318.0, \"inflation_adjusted_gross\": 100026637, \"year\": 1993}, {\"movie_title\": \"The Three Musketeers\", \"release_date\": \"1993-11-12T00:00:00\", \"genre\": \"Adventure\", \"MPAA_rating\": \"PG\", \"total_gross\": 53661805.0, \"inflation_adjusted_gross\": 109310377, \"year\": 1993}, {\"movie_title\": \"Sister Act 2 Back in the Habit\", \"release_date\": \"1993-12-10T00:00:00\", \"genre\": \"Comedy\", \"MPAA_rating\": \"PG\", \"total_gross\": 57319029.0, \"inflation_adjusted_gross\": 116965668, \"year\": 1993}, {\"movie_title\": \"Tombstone\", \"release_date\": \"1993-12-25T00:00:00\", \"genre\": \"Western\", \"MPAA_rating\": \"R\", \"total_gross\": 56505065.0, \"inflation_adjusted_gross\": 115781734, \"year\": 1993}, {\"movie_title\": \"The Air Up There\", \"release_date\": \"1994-01-07T00:00:00\", \"genre\": \"Comedy\", \"MPAA_rating\": \"PG\", \"total_gross\": 20782439.0, \"inflation_adjusted_gross\": 42940186, \"year\": 1994}, {\"movie_title\": \"Cabin Boy\", \"release_date\": \"1994-01-07T00:00:00\", \"genre\": \"Comedy\", \"MPAA_rating\": \"PG-13\", \"total_gross\": 3469493.0, \"inflation_adjusted_gross\": 7168577, \"year\": 1994}, {\"movie_title\": \"Iron Will\", \"release_date\": \"1994-01-14T00:00:00\", \"genre\": \"Drama\", \"MPAA_rating\": \"PG\", \"total_gross\": 20623071.0, \"inflation_adjusted_gross\": 42610902, \"year\": 1994}, {\"movie_title\": \"Blank Check\", \"release_date\": \"1994-02-11T00:00:00\", \"genre\": \"Comedy\", \"MPAA_rating\": \"PG\", \"total_gross\": 30573770.0, \"inflation_adjusted_gross\": 63170804, \"year\": 1994}, {\"movie_title\": \"Angie\", \"release_date\": \"1994-03-04T00:00:00\", \"genre\": \"Comedy\", \"MPAA_rating\": \"R\", \"total_gross\": 9252349.0, \"inflation_adjusted_gross\": 19116981, \"year\": 1994}, {\"movie_title\": \"The Ref\", \"release_date\": \"1994-03-09T00:00:00\", \"genre\": \"Comedy\", \"MPAA_rating\": \"R\", \"total_gross\": 11325885.0, \"inflation_adjusted_gross\": 23401275, \"year\": 1994}, {\"movie_title\": \"D2: The Mighty Ducks\", \"release_date\": \"1994-03-25T00:00:00\", \"genre\": \"Comedy\", \"MPAA_rating\": \"PG\", \"total_gross\": 45604206.0, \"inflation_adjusted_gross\": 94226333, \"year\": 1994}, {\"movie_title\": \"Holy Matrimony\", \"release_date\": \"1994-04-08T00:00:00\", \"genre\": \"Comedy\", \"MPAA_rating\": null, \"total_gross\": 713234.0, \"inflation_adjusted_gross\": 1473665, \"year\": 1994}, {\"movie_title\": \"White Fang 2: Myth of the White Wolf\", \"release_date\": \"1994-04-15T00:00:00\", \"genre\": \"Adventure\", \"MPAA_rating\": \"PG\", \"total_gross\": 8752399.0, \"inflation_adjusted_gross\": 18083994, \"year\": 1994}, {\"movie_title\": \"The Inkwell\", \"release_date\": \"1994-04-22T00:00:00\", \"genre\": \"Comedy\", \"MPAA_rating\": \"R\", \"total_gross\": 8864699.0, \"inflation_adjusted_gross\": 18316030, \"year\": 1994}, {\"movie_title\": \"When a Man Loves a Woman\", \"release_date\": \"1994-04-29T00:00:00\", \"genre\": \"Drama\", \"MPAA_rating\": \"R\", \"total_gross\": 50021959.0, \"inflation_adjusted_gross\": 103354194, \"year\": 1994}, {\"movie_title\": \"3 Ninjas Kick Back\", \"release_date\": \"1994-05-06T00:00:00\", \"genre\": \"Action\", \"MPAA_rating\": \"PG\", \"total_gross\": 11744960.0, \"inflation_adjusted_gross\": 24267154, \"year\": 1994}, {\"movie_title\": \"Renaissance Man\", \"release_date\": \"1994-06-03T00:00:00\", \"genre\": \"Comedy\", \"MPAA_rating\": \"PG-13\", \"total_gross\": 24172899.0, \"inflation_adjusted_gross\": 49945474, \"year\": 1994}, {\"movie_title\": \"The Lion King\", \"release_date\": \"1994-06-15T00:00:00\", \"genre\": \"Adventure\", \"MPAA_rating\": \"G\", \"total_gross\": 422780140.0, \"inflation_adjusted_gross\": 761640898, \"year\": 1994}, {\"movie_title\": \"I Love Trouble\", \"release_date\": \"1994-06-29T00:00:00\", \"genre\": \"Romantic Comedy\", \"MPAA_rating\": \"PG\", \"total_gross\": 30806194.0, \"inflation_adjusted_gross\": 63651027, \"year\": 1994}, {\"movie_title\": \"Angels in the Outfield\", \"release_date\": \"1994-07-15T00:00:00\", \"genre\": \"Comedy\", \"MPAA_rating\": \"PG\", \"total_gross\": 50236831.0, \"inflation_adjusted_gross\": 103798152, \"year\": 1994}, {\"movie_title\": \"In the Army Now\", \"release_date\": \"1994-08-12T00:00:00\", \"genre\": \"Comedy\", \"MPAA_rating\": \"PG\", \"total_gross\": 28881266.0, \"inflation_adjusted_gross\": 59673787, \"year\": 1994}, {\"movie_title\": \"Color of Night\", \"release_date\": \"1994-08-19T00:00:00\", \"genre\": \"Thriller/Suspense\", \"MPAA_rating\": \"R\", \"total_gross\": 19750470.0, \"inflation_adjusted_gross\": 40804816, \"year\": 1994}, {\"movie_title\": \"Camp Nowhere\", \"release_date\": \"1994-08-26T00:00:00\", \"genre\": \"Comedy\", \"MPAA_rating\": \"PG\", \"total_gross\": 10442641.0, \"inflation_adjusted_gross\": 21576332, \"year\": 1994}, {\"movie_title\": \"It's Pat\", \"release_date\": \"1994-08-26T00:00:00\", \"genre\": \"Comedy\", \"MPAA_rating\": null, \"total_gross\": 60822.0, \"inflation_adjusted_gross\": 125666, \"year\": 1994}, {\"movie_title\": \"A Simple Twist of Fate\", \"release_date\": \"1994-09-02T00:00:00\", \"genre\": \"Drama\", \"MPAA_rating\": \"PG-13\", \"total_gross\": 3404935.0, \"inflation_adjusted_gross\": 7035189, \"year\": 1994}, {\"movie_title\": \"Quiz Show\", \"release_date\": \"1994-09-14T00:00:00\", \"genre\": \"Drama\", \"MPAA_rating\": \"PG-13\", \"total_gross\": 24787282.0, \"inflation_adjusted_gross\": 50840394, \"year\": 1994}, {\"movie_title\": \"Terminal Velocity\", \"release_date\": \"1994-09-23T00:00:00\", \"genre\": \"Action\", \"MPAA_rating\": \"PG-13\", \"total_gross\": 16478900.0, \"inflation_adjusted_gross\": 34048315, \"year\": 1994}, {\"movie_title\": \"Ed Wood\", \"release_date\": \"1994-09-30T00:00:00\", \"genre\": \"Comedy\", \"MPAA_rating\": \"R\", \"total_gross\": 5828466.0, \"inflation_adjusted_gross\": 12042634, \"year\": 1994}, {\"movie_title\": \"The Puppet Masters\", \"release_date\": \"1994-10-21T00:00:00\", \"genre\": \"Horror\", \"MPAA_rating\": \"R\", \"total_gross\": 8579626.0, \"inflation_adjusted_gross\": 17727017, \"year\": 1994}, {\"movie_title\": \"Squanto: A Warrior's Tale\", \"release_date\": \"1994-10-28T00:00:00\", \"genre\": \"Drama\", \"MPAA_rating\": \"PG\", \"total_gross\": 3319344.0, \"inflation_adjusted_gross\": 6858345, \"year\": 1994}, {\"movie_title\": \"The Santa Clause\", \"release_date\": \"1994-11-11T00:00:00\", \"genre\": \"Comedy\", \"MPAA_rating\": \"PG\", \"total_gross\": 144833357.0, \"inflation_adjusted_gross\": 298369717, \"year\": 1994}, {\"movie_title\": \"A Low Down Dirty Shame\", \"release_date\": \"1994-11-23T00:00:00\", \"genre\": \"Action\", \"MPAA_rating\": \"R\", \"total_gross\": 29317886.0, \"inflation_adjusted_gross\": 60321919, \"year\": 1994}, {\"movie_title\": \"The Jungle Book\", \"release_date\": \"1994-12-25T00:00:00\", \"genre\": \"Adventure\", \"MPAA_rating\": \"PG\", \"total_gross\": 44342956.0, \"inflation_adjusted_gross\": 88930321, \"year\": 1994}, {\"movie_title\": \"Houseguest\", \"release_date\": \"1995-01-06T00:00:00\", \"genre\": \"Comedy\", \"MPAA_rating\": \"PG\", \"total_gross\": 26325256.0, \"inflation_adjusted_gross\": 51016522, \"year\": 1995}, {\"movie_title\": \"Bad Company\", \"release_date\": \"1995-01-20T00:00:00\", \"genre\": \"Thriller/Suspense\", \"MPAA_rating\": \"R\", \"total_gross\": 3523909.0, \"inflation_adjusted_gross\": 6829092, \"year\": 1995}, {\"movie_title\": \"Miami Rhapsody\", \"release_date\": \"1995-01-27T00:00:00\", \"genre\": \"Romantic Comedy\", \"MPAA_rating\": \"PG-13\", \"total_gross\": 5086578.0, \"inflation_adjusted_gross\": 9857435, \"year\": 1995}, {\"movie_title\": \"The Jerky Boys\", \"release_date\": \"1995-02-03T00:00:00\", \"genre\": \"Comedy\", \"MPAA_rating\": \"R\", \"total_gross\": 7555256.0, \"inflation_adjusted_gross\": 14641561, \"year\": 1995}, {\"movie_title\": \"Heavy Weights\", \"release_date\": \"1995-02-17T00:00:00\", \"genre\": \"Comedy\", \"MPAA_rating\": \"PG\", \"total_gross\": 17671310.0, \"inflation_adjusted_gross\": 34245779, \"year\": 1995}, {\"movie_title\": \"Man of the House\", \"release_date\": \"1995-03-03T00:00:00\", \"genre\": \"Comedy\", \"MPAA_rating\": \"PG\", \"total_gross\": 40029009.0, \"inflation_adjusted_gross\": 77573459, \"year\": 1995}, {\"movie_title\": \"Roommates\", \"release_date\": \"1995-03-03T00:00:00\", \"genre\": \"Comedy\", \"MPAA_rating\": \"PG\", \"total_gross\": 12076989.0, \"inflation_adjusted_gross\": 23404369, \"year\": 1995}, {\"movie_title\": \"Tall Tale\", \"release_date\": \"1995-03-24T00:00:00\", \"genre\": \"Western\", \"MPAA_rating\": \"PG\", \"total_gross\": 8247627.0, \"inflation_adjusted_gross\": 15983331, \"year\": 1995}, {\"movie_title\": \"A Pyromaniac's Love Story\", \"release_date\": \"1995-03-28T00:00:00\", \"genre\": \"Romantic Comedy\", \"MPAA_rating\": \"PG\", \"total_gross\": 468240.0, \"inflation_adjusted_gross\": 907414, \"year\": 1995}, {\"movie_title\": \"Jefferson in Paris\", \"release_date\": \"1995-03-31T00:00:00\", \"genre\": \"Drama\", \"MPAA_rating\": \"PG-13\", \"total_gross\": 2461628.0, \"inflation_adjusted_gross\": 4770461, \"year\": 1995}, {\"movie_title\": \"Funny Bones\", \"release_date\": \"1995-03-31T00:00:00\", \"genre\": \"Comedy\", \"MPAA_rating\": \"R\", \"total_gross\": 529135.0, \"inflation_adjusted_gross\": 1025425, \"year\": 1995}, {\"movie_title\": \"A Goofy Movie\", \"release_date\": \"1995-04-07T00:00:00\", \"genre\": \"Comedy\", \"MPAA_rating\": \"G\", \"total_gross\": 35336439.0, \"inflation_adjusted_gross\": 68479579, \"year\": 1995}, {\"movie_title\": \"While You Were Sleeping\", \"release_date\": \"1995-04-21T00:00:00\", \"genre\": \"Romantic Comedy\", \"MPAA_rating\": \"PG\", \"total_gross\": 81057016.0, \"inflation_adjusted_gross\": 157082900, \"year\": 1995}, {\"movie_title\": \"Crimson Tide\", \"release_date\": \"1995-05-12T00:00:00\", \"genre\": \"Action\", \"MPAA_rating\": \"R\", \"total_gross\": 91387195.0, \"inflation_adjusted_gross\": 177102077, \"year\": 1995}, {\"movie_title\": \"Mad Love\", \"release_date\": \"1995-05-26T00:00:00\", \"genre\": \"Drama\", \"MPAA_rating\": \"PG-13\", \"total_gross\": 15446532.0, \"inflation_adjusted_gross\": 29934306, \"year\": 1995}, {\"movie_title\": \"Pocahontas\", \"release_date\": \"1995-06-10T00:00:00\", \"genre\": \"Adventure\", \"MPAA_rating\": \"G\", \"total_gross\": 141579773.0, \"inflation_adjusted_gross\": 274370957, \"year\": 1995}, {\"movie_title\": \"Judge Dredd\", \"release_date\": \"1995-06-30T00:00:00\", \"genre\": \"Action\", \"MPAA_rating\": \"R\", \"total_gross\": 34687912.0, \"inflation_adjusted_gross\": 67222776, \"year\": 1995}, {\"movie_title\": \"Operation Dumbo Drop\", \"release_date\": \"1995-07-28T00:00:00\", \"genre\": \"Adventure\", \"MPAA_rating\": \"PG\", \"total_gross\": 24670346.0, \"inflation_adjusted_gross\": 47809421, \"year\": 1995}, {\"movie_title\": \"Dangerous Minds\", \"release_date\": \"1995-08-11T00:00:00\", \"genre\": \"Drama\", \"MPAA_rating\": \"R\", \"total_gross\": 84919401.0, \"inflation_adjusted_gross\": 164552293, \"year\": 1995}, {\"movie_title\": \"A Kid in King Arthur's Court\", \"release_date\": \"1995-08-11T00:00:00\", \"genre\": \"Adventure\", \"MPAA_rating\": \"PG\", \"total_gross\": 13406717.0, \"inflation_adjusted_gross\": 25981285, \"year\": 1995}, {\"movie_title\": \"The Tie That Binds\", \"release_date\": \"1995-09-08T00:00:00\", \"genre\": \"Thriller/Suspense\", \"MPAA_rating\": \"R\", \"total_gross\": 5762795.0, \"inflation_adjusted_gross\": 11167895, \"year\": 1995}, {\"movie_title\": \"Unstrung Heroes\", \"release_date\": \"1995-09-15T00:00:00\", \"genre\": \"Drama\", \"MPAA_rating\": \"PG\", \"total_gross\": 7929000.0, \"inflation_adjusted_gross\": 15365850, \"year\": 1995}, {\"movie_title\": \"The Big Green\", \"release_date\": \"1995-09-29T00:00:00\", \"genre\": \"Comedy\", \"MPAA_rating\": \"PG\", \"total_gross\": 17736619.0, \"inflation_adjusted_gross\": 34372339, \"year\": 1995}, {\"movie_title\": \"Dead Presidents\", \"release_date\": \"1995-10-04T00:00:00\", \"genre\": \"Drama\", \"MPAA_rating\": \"R\", \"total_gross\": 24120194.0, \"inflation_adjusted_gross\": 46741467, \"year\": 1995}, {\"movie_title\": \"The Scarlet Letter\", \"release_date\": \"1995-10-13T00:00:00\", \"genre\": \"Drama\", \"MPAA_rating\": \"R\", \"total_gross\": 10359006.0, \"inflation_adjusted_gross\": 20075033, \"year\": 1995}, {\"movie_title\": \"Feast of July\", \"release_date\": \"1995-10-13T00:00:00\", \"genre\": \"Drama\", \"MPAA_rating\": \"R\", \"total_gross\": 293274.0, \"inflation_adjusted_gross\": 568342, \"year\": 1995}, {\"movie_title\": \"Powder\", \"release_date\": \"1995-10-27T00:00:00\", \"genre\": \"Drama\", \"MPAA_rating\": \"PG-13\", \"total_gross\": 30833914.0, \"inflation_adjusted_gross\": 59727216, \"year\": 1995}, {\"movie_title\": \"Toy Story\", \"release_date\": \"1995-11-22T00:00:00\", \"genre\": \"Adventure\", \"MPAA_rating\": \"G\", \"total_gross\": 191796233.0, \"inflation_adjusted_gross\": 370409631, \"year\": 1995}, {\"movie_title\": \"Father of the Bride Part II\", \"release_date\": \"1995-12-08T00:00:00\", \"genre\": \"Comedy\", \"MPAA_rating\": \"PG\", \"total_gross\": 76578911.0, \"inflation_adjusted_gross\": 147658438, \"year\": 1995}, {\"movie_title\": \"Nixon\", \"release_date\": \"1995-12-20T00:00:00\", \"genre\": \"Drama\", \"MPAA_rating\": \"R\", \"total_gross\": 13668249.0, \"inflation_adjusted_gross\": 26302005, \"year\": 1995}, {\"movie_title\": \"Tom and Huck\", \"release_date\": \"1995-12-22T00:00:00\", \"genre\": \"Adventure\", \"MPAA_rating\": \"PG\", \"total_gross\": 23837227.0, \"inflation_adjusted_gross\": 45911517, \"year\": 1995}, {\"movie_title\": \"Mr. Holland's Opus\", \"release_date\": \"1995-12-29T00:00:00\", \"genre\": \"Drama\", \"MPAA_rating\": \"PG\", \"total_gross\": 82582604.0, \"inflation_adjusted_gross\": 157508868, \"year\": 1995}, {\"movie_title\": \"White Squall\", \"release_date\": \"1996-02-02T00:00:00\", \"genre\": \"Adventure\", \"MPAA_rating\": \"PG-13\", \"total_gross\": 10229300.0, \"inflation_adjusted_gross\": 19509726, \"year\": 1996}, {\"movie_title\": \"Muppet Treasure Island\", \"release_date\": \"1996-02-16T00:00:00\", \"genre\": \"Adventure\", \"MPAA_rating\": \"G\", \"total_gross\": 34327391.0, \"inflation_adjusted_gross\": 65470567, \"year\": 1996}, {\"movie_title\": \"Mr. Wrong\", \"release_date\": \"1996-02-16T00:00:00\", \"genre\": \"Romantic Comedy\", \"MPAA_rating\": \"PG-13\", \"total_gross\": 12805071.0, \"inflation_adjusted_gross\": 24422334, \"year\": 1996}, {\"movie_title\": \"Before and After\", \"release_date\": \"1996-02-23T00:00:00\", \"genre\": \"Drama\", \"MPAA_rating\": \"PG-13\", \"total_gross\": 8642118.0, \"inflation_adjusted_gross\": 16482589, \"year\": 1996}, {\"movie_title\": \"Up Close & Personal\", \"release_date\": \"1996-03-01T00:00:00\", \"genre\": \"Drama\", \"MPAA_rating\": \"PG-13\", \"total_gross\": 51045801.0, \"inflation_adjusted_gross\": 97356578, \"year\": 1996}, {\"movie_title\": \"Homeward Bound II: Lost in San Franc\\u2026\", \"release_date\": \"1996-03-08T00:00:00\", \"genre\": \"Adventure\", \"MPAA_rating\": \"G\", \"total_gross\": 32709423.0, \"inflation_adjusted_gross\": 62384706, \"year\": 1996}, {\"movie_title\": \"Two Much\", \"release_date\": \"1996-03-15T00:00:00\", \"genre\": \"Romantic Comedy\", \"MPAA_rating\": \"PG-13\", \"total_gross\": 1078555.0, \"inflation_adjusted_gross\": 2057055, \"year\": 1996}, {\"movie_title\": \"Un indien dans la ville\", \"release_date\": \"1996-03-22T00:00:00\", \"genre\": \"Comedy\", \"MPAA_rating\": \"PG\", \"total_gross\": 1029731.0, \"inflation_adjusted_gross\": 1963937, \"year\": 1996}, {\"movie_title\": \"James and the Giant Peach\", \"release_date\": \"1996-04-12T00:00:00\", \"genre\": \"Adventure\", \"MPAA_rating\": \"PG\", \"total_gross\": 28921264.0, \"inflation_adjusted_gross\": 55159783, \"year\": 1996}, {\"movie_title\": \"Celtic Pride\", \"release_date\": \"1996-04-19T00:00:00\", \"genre\": \"Comedy\", \"MPAA_rating\": \"PG-13\", \"total_gross\": 9240378.0, \"inflation_adjusted_gross\": 17623615, \"year\": 1996}, {\"movie_title\": \"Last Dance\", \"release_date\": \"1996-05-03T00:00:00\", \"genre\": \"Drama\", \"MPAA_rating\": \"R\", \"total_gross\": 5857534.0, \"inflation_adjusted_gross\": 11171714, \"year\": 1996}, {\"movie_title\": \"Boys\", \"release_date\": \"1996-05-10T00:00:00\", \"genre\": \"Drama\", \"MPAA_rating\": \"PG-13\", \"total_gross\": 21930418.0, \"inflation_adjusted_gross\": 41826566, \"year\": 1996}, {\"movie_title\": \"Spy Hard\", \"release_date\": \"1996-05-24T00:00:00\", \"genre\": \"Comedy\", \"MPAA_rating\": \"PG-13\", \"total_gross\": 26936265.0, \"inflation_adjusted_gross\": 51373912, \"year\": 1996}, {\"movie_title\": \"Eddie\", \"release_date\": \"1996-05-31T00:00:00\", \"genre\": \"Comedy\", \"MPAA_rating\": \"PG-13\", \"total_gross\": 31369401.0, \"inflation_adjusted_gross\": 59828966, \"year\": 1996}, {\"movie_title\": \"The Rock\", \"release_date\": \"1996-06-07T00:00:00\", \"genre\": \"Action\", \"MPAA_rating\": \"R\", \"total_gross\": 134069511.0, \"inflation_adjusted_gross\": 255702705, \"year\": 1996}, {\"movie_title\": \"The Hunchback of Notre Dame\", \"release_date\": \"1996-06-21T00:00:00\", \"genre\": \"Adventure\", \"MPAA_rating\": \"G\", \"total_gross\": 100138851.0, \"inflation_adjusted_gross\": 190988799, \"year\": 1996}, {\"movie_title\": \"Phenomenon\", \"release_date\": \"1996-07-05T00:00:00\", \"genre\": \"Drama\", \"MPAA_rating\": \"PG\", \"total_gross\": 104636382.0, \"inflation_adjusted_gross\": 199559799, \"year\": 1996}, {\"movie_title\": \"Kazaam\", \"release_date\": \"1996-07-17T00:00:00\", \"genre\": \"Comedy\", \"MPAA_rating\": \"PG\", \"total_gross\": 18880508.0, \"inflation_adjusted_gross\": 36009655, \"year\": 1996}, {\"movie_title\": \"Jack\", \"release_date\": \"1996-08-09T00:00:00\", \"genre\": \"Drama\", \"MPAA_rating\": \"PG-13\", \"total_gross\": 58617334.0, \"inflation_adjusted_gross\": 111792852, \"year\": 1996}, {\"movie_title\": \"First Kid\", \"release_date\": \"1996-08-30T00:00:00\", \"genre\": \"Comedy\", \"MPAA_rating\": \"PG\", \"total_gross\": 26465920.0, \"inflation_adjusted_gross\": 50465108, \"year\": 1996}, {\"movie_title\": \"The Rich Man's Wife\", \"release_date\": \"1996-09-13T00:00:00\", \"genre\": \"Thriller/Suspense\", \"MPAA_rating\": \"R\", \"total_gross\": 8538318.0, \"inflation_adjusted_gross\": 16284619, \"year\": 1996}, {\"movie_title\": \"D3: The Mighty Ducks\", \"release_date\": \"1996-10-04T00:00:00\", \"genre\": \"Comedy\", \"MPAA_rating\": \"PG\", \"total_gross\": 22936273.0, \"inflation_adjusted_gross\": 43713554, \"year\": 1996}, {\"movie_title\": \"The Associate\", \"release_date\": \"1996-10-25T00:00:00\", \"genre\": \"Comedy\", \"MPAA_rating\": \"PG-13\", \"total_gross\": 12772657.0, \"inflation_adjusted_gross\": 24333094, \"year\": 1996}, {\"movie_title\": \"Ransom\", \"release_date\": \"1996-11-08T00:00:00\", \"genre\": \"Action\", \"MPAA_rating\": \"R\", \"total_gross\": 136492681.0, \"inflation_adjusted_gross\": 259807820, \"year\": 1996}, {\"movie_title\": \"101 Dalmatians\", \"release_date\": \"1996-11-27T00:00:00\", \"genre\": \"Comedy\", \"MPAA_rating\": \"G\", \"total_gross\": 136189294.0, \"inflation_adjusted_gross\": 258728898, \"year\": 1996}, {\"movie_title\": \"The Preacher's Wife\", \"release_date\": \"1996-12-13T00:00:00\", \"genre\": \"Drama\", \"MPAA_rating\": \"PG\", \"total_gross\": 48102795.0, \"inflation_adjusted_gross\": 91076877, \"year\": 1996}, {\"movie_title\": \"Evita\", \"release_date\": \"1996-12-25T00:00:00\", \"genre\": \"Musical\", \"MPAA_rating\": \"PG\", \"total_gross\": 50047179.0, \"inflation_adjusted_gross\": 92077628, \"year\": 1996}, {\"movie_title\": \"Metro\", \"release_date\": \"1997-01-17T00:00:00\", \"genre\": \"Action\", \"MPAA_rating\": \"R\", \"total_gross\": 32017895.0, \"inflation_adjusted_gross\": 58804106, \"year\": 1997}, {\"movie_title\": \"Prefontaine\", \"release_date\": \"1997-01-24T00:00:00\", \"genre\": \"Drama\", \"MPAA_rating\": \"PG-13\", \"total_gross\": 590817.0, \"inflation_adjusted_gross\": 1085093, \"year\": 1997}, {\"movie_title\": \"Shadow Conspiracy\", \"release_date\": \"1997-01-31T00:00:00\", \"genre\": \"Thriller/Suspense\", \"MPAA_rating\": \"R\", \"total_gross\": 2154540.0, \"inflation_adjusted_gross\": 3957025, \"year\": 1997}, {\"movie_title\": \"That Darn Cat\", \"release_date\": \"1997-02-14T00:00:00\", \"genre\": \"Comedy\", \"MPAA_rating\": \"PG\", \"total_gross\": 18301828.0, \"inflation_adjusted_gross\": 33613158, \"year\": 1997}, {\"movie_title\": \"Jungle 2 Jungle\", \"release_date\": \"1997-03-07T00:00:00\", \"genre\": \"Comedy\", \"MPAA_rating\": \"PG\", \"total_gross\": 59925026.0, \"inflation_adjusted_gross\": 110058379, \"year\": 1997}, {\"movie_title\": \"The Sixth Man\", \"release_date\": \"1997-03-28T00:00:00\", \"genre\": \"Comedy\", \"MPAA_rating\": \"PG-13\", \"total_gross\": 14765099.0, \"inflation_adjusted_gross\": 27117599, \"year\": 1997}, {\"movie_title\": \"Grosse Pointe Blank\", \"release_date\": \"1997-04-11T00:00:00\", \"genre\": \"Black Comedy\", \"MPAA_rating\": \"R\", \"total_gross\": 28084357.0, \"inflation_adjusted_gross\": 51579764, \"year\": 1997}, {\"movie_title\": \"Romy and Michele's High School Reunion\", \"release_date\": \"1997-04-25T00:00:00\", \"genre\": \"Comedy\", \"MPAA_rating\": \"R\", \"total_gross\": 29235353.0, \"inflation_adjusted_gross\": 53693680, \"year\": 1997}, {\"movie_title\": \"Gone Fishin'\", \"release_date\": \"1997-05-30T00:00:00\", \"genre\": \"Comedy\", \"MPAA_rating\": \"PG\", \"total_gross\": 19745922.0, \"inflation_adjusted_gross\": 36265379, \"year\": 1997}, {\"movie_title\": \"Con Air\", \"release_date\": \"1997-06-06T00:00:00\", \"genre\": \"Action\", \"MPAA_rating\": \"R\", \"total_gross\": 101117573.0, \"inflation_adjusted_gross\": 185712664, \"year\": 1997}, {\"movie_title\": \"Hercules\", \"release_date\": \"1997-06-13T00:00:00\", \"genre\": \"Adventure\", \"MPAA_rating\": \"G\", \"total_gross\": 99112101.0, \"inflation_adjusted_gross\": 182029412, \"year\": 1997}, {\"movie_title\": \"George Of The Jungle\", \"release_date\": \"1997-07-16T00:00:00\", \"genre\": \"Comedy\", \"MPAA_rating\": \"PG\", \"total_gross\": 105263257.0, \"inflation_adjusted_gross\": 193326632, \"year\": 1997}, {\"movie_title\": \"Nothing To Lose\", \"release_date\": \"1997-07-18T00:00:00\", \"genre\": \"Comedy\", \"MPAA_rating\": \"R\", \"total_gross\": 44480039.0, \"inflation_adjusted_gross\": 81692095, \"year\": 1997}, {\"movie_title\": \"Air Bud\", \"release_date\": \"1997-08-01T00:00:00\", \"genre\": \"Comedy\", \"MPAA_rating\": \"PG\", \"total_gross\": 24646936.0, \"inflation_adjusted_gross\": 45266588, \"year\": 1997}, {\"movie_title\": \"G.I. Jane\", \"release_date\": \"1997-08-22T00:00:00\", \"genre\": \"Drama\", \"MPAA_rating\": \"R\", \"total_gross\": 48169156.0, \"inflation_adjusted_gross\": 88467531, \"year\": 1997}, {\"movie_title\": \"A Thousand Acres\", \"release_date\": \"1997-09-19T00:00:00\", \"genre\": \"Drama\", \"MPAA_rating\": \"R\", \"total_gross\": 7928412.0, \"inflation_adjusted_gross\": 14561324, \"year\": 1997}, {\"movie_title\": \"Washington Square\", \"release_date\": \"1997-10-05T00:00:00\", \"genre\": \"Drama\", \"MPAA_rating\": \"PG\", \"total_gross\": 1775644.0, \"inflation_adjusted_gross\": 3257546, \"year\": 1997}, {\"movie_title\": \"Rocket Man\", \"release_date\": \"1997-10-10T00:00:00\", \"genre\": \"Comedy\", \"MPAA_rating\": \"PG\", \"total_gross\": 15448043.0, \"inflation_adjusted_gross\": 28371890, \"year\": 1997}, {\"movie_title\": \"Playing God\", \"release_date\": \"1997-10-17T00:00:00\", \"genre\": \"Thriller/Suspense\", \"MPAA_rating\": \"R\", \"total_gross\": 4166918.0, \"inflation_adjusted_gross\": 7652965, \"year\": 1997}, {\"movie_title\": \"Flubber\", \"release_date\": \"1997-11-26T00:00:00\", \"genre\": \"Comedy\", \"MPAA_rating\": \"PG\", \"total_gross\": 92993801.0, \"inflation_adjusted_gross\": 170406423, \"year\": 1997}, {\"movie_title\": \"An American Werewolf in Paris\", \"release_date\": \"1997-12-25T00:00:00\", \"genre\": \"Horror\", \"MPAA_rating\": \"R\", \"total_gross\": 26570463.0, \"inflation_adjusted_gross\": 48546161, \"year\": 1997}, {\"movie_title\": \"Mr. Magoo\", \"release_date\": \"1997-12-25T00:00:00\", \"genre\": \"Comedy\", \"MPAA_rating\": \"PG\", \"total_gross\": 21437192.0, \"inflation_adjusted_gross\": 39145784, \"year\": 1997}, {\"movie_title\": \"Kundun\", \"release_date\": \"1997-12-25T00:00:00\", \"genre\": \"Drama\", \"MPAA_rating\": \"PG-13\", \"total_gross\": 5686694.0, \"inflation_adjusted_gross\": 10236836, \"year\": 1997}, {\"movie_title\": \"Deep Rising\", \"release_date\": \"1998-01-30T00:00:00\", \"genre\": \"Action\", \"MPAA_rating\": \"R\", \"total_gross\": 11203026.0, \"inflation_adjusted_gross\": 20136775, \"year\": 1998}, {\"movie_title\": \"Krippendorf's Tribe\", \"release_date\": \"1998-02-27T00:00:00\", \"genre\": \"Comedy\", \"MPAA_rating\": \"PG-13\", \"total_gross\": 7571115.0, \"inflation_adjusted_gross\": 13608633, \"year\": 1998}, {\"movie_title\": \"An Alan Smithee Film: Burn Hollywood \\u2026\", \"release_date\": \"1998-02-27T00:00:00\", \"genre\": \"Comedy\", \"MPAA_rating\": \"R\", \"total_gross\": 45779.0, \"inflation_adjusted_gross\": 82277, \"year\": 1998}, {\"movie_title\": \"Meet the Deedles\", \"release_date\": \"1998-03-27T00:00:00\", \"genre\": \"Comedy\", \"MPAA_rating\": \"PG\", \"total_gross\": 4356126.0, \"inflation_adjusted_gross\": 7829877, \"year\": 1998}, {\"movie_title\": \"He Got Game\", \"release_date\": \"1998-05-01T00:00:00\", \"genre\": \"Drama\", \"MPAA_rating\": \"R\", \"total_gross\": 21567853.0, \"inflation_adjusted_gross\": 38766948, \"year\": 1998}, {\"movie_title\": \"The Horse Whisperer\", \"release_date\": \"1998-05-15T00:00:00\", \"genre\": \"Drama\", \"MPAA_rating\": \"PG-13\", \"total_gross\": 75383563.0, \"inflation_adjusted_gross\": 135497531, \"year\": 1998}, {\"movie_title\": \"Six Days, Seven Nights\", \"release_date\": \"1998-06-12T00:00:00\", \"genre\": \"Romantic Comedy\", \"MPAA_rating\": \"PG-13\", \"total_gross\": 74339294.0, \"inflation_adjusted_gross\": 133620516, \"year\": 1998}, {\"movie_title\": \"Mulan\", \"release_date\": \"1998-06-19T00:00:00\", \"genre\": \"Adventure\", \"MPAA_rating\": \"G\", \"total_gross\": 120620254.0, \"inflation_adjusted_gross\": 216807832, \"year\": 1998}, {\"movie_title\": \"Armageddon\", \"release_date\": \"1998-07-01T00:00:00\", \"genre\": \"Adventure\", \"MPAA_rating\": \"PG-13\", \"total_gross\": 201578182.0, \"inflation_adjusted_gross\": 362324957, \"year\": 1998}, {\"movie_title\": \"Jane Austen's Mafia\", \"release_date\": \"1998-07-24T00:00:00\", \"genre\": \"Comedy\", \"MPAA_rating\": \"PG-13\", \"total_gross\": 19843795.0, \"inflation_adjusted_gross\": 35668055, \"year\": 1998}, {\"movie_title\": \"The Parent Trap\", \"release_date\": \"1998-07-29T00:00:00\", \"genre\": \"Comedy\", \"MPAA_rating\": \"PG\", \"total_gross\": 66308518.0, \"inflation_adjusted_gross\": 119185667, \"year\": 1998}, {\"movie_title\": \"Firelight\", \"release_date\": \"1998-09-04T00:00:00\", \"genre\": \"Drama\", \"MPAA_rating\": \"R\", \"total_gross\": 784419.0, \"inflation_adjusted_gross\": 1409943, \"year\": 1998}, {\"movie_title\": \"Simon Birch\", \"release_date\": \"1998-09-11T00:00:00\", \"genre\": \"Drama\", \"MPAA_rating\": \"PG\", \"total_gross\": 18253415.0, \"inflation_adjusted_gross\": 32809442, \"year\": 1998}, {\"movie_title\": \"Holy Man\", \"release_date\": \"1998-10-09T00:00:00\", \"genre\": \"Comedy\", \"MPAA_rating\": \"PG\", \"total_gross\": 12069719.0, \"inflation_adjusted_gross\": 21694605, \"year\": 1998}, {\"movie_title\": \"Beloved\", \"release_date\": \"1998-10-16T00:00:00\", \"genre\": \"Drama\", \"MPAA_rating\": \"R\", \"total_gross\": 22852487.0, \"inflation_adjusted_gross\": 41062682, \"year\": 1998}, {\"movie_title\": \"The Waterboy\", \"release_date\": \"1998-11-06T00:00:00\", \"genre\": \"Comedy\", \"MPAA_rating\": \"PG-13\", \"total_gross\": 161491646.0, \"inflation_adjusted_gross\": 288691833, \"year\": 1998}, {\"movie_title\": \"I'll Be Home For Christmas\", \"release_date\": \"1998-11-13T00:00:00\", \"genre\": \"Comedy\", \"MPAA_rating\": \"PG\", \"total_gross\": 12214338.0, \"inflation_adjusted_gross\": 21941840, \"year\": 1998}, {\"movie_title\": \"A Bug's Life\", \"release_date\": \"1998-11-20T00:00:00\", \"genre\": \"Adventure\", \"MPAA_rating\": \"G\", \"total_gross\": 162798565.0, \"inflation_adjusted_gross\": 288981698, \"year\": 1998}, {\"movie_title\": \"Enemy of the State\", \"release_date\": \"1998-11-20T00:00:00\", \"genre\": \"Action\", \"MPAA_rating\": \"R\", \"total_gross\": 111549836.0, \"inflation_adjusted_gross\": 198472008, \"year\": 1998}, {\"movie_title\": \"Rushmore\", \"release_date\": \"1998-12-11T00:00:00\", \"genre\": \"Black Comedy\", \"MPAA_rating\": \"R\", \"total_gross\": 17105219.0, \"inflation_adjusted_gross\": 28392518, \"year\": 1998}, {\"movie_title\": \"A Civil Action\", \"release_date\": \"1998-12-25T00:00:00\", \"genre\": \"Drama\", \"MPAA_rating\": \"PG-13\", \"total_gross\": 56709981.0, \"inflation_adjusted_gross\": 94139530, \"year\": 1998}, {\"movie_title\": \"Mighty Joe Young\", \"release_date\": \"1998-12-25T00:00:00\", \"genre\": \"Adventure\", \"MPAA_rating\": \"PG\", \"total_gross\": 50632037.0, \"inflation_adjusted_gross\": 87906042, \"year\": 1998}, {\"movie_title\": \"My Favorite Martian\", \"release_date\": \"1999-02-12T00:00:00\", \"genre\": \"Comedy\", \"MPAA_rating\": \"PG\", \"total_gross\": 36850101.0, \"inflation_adjusted_gross\": 61150849, \"year\": 1999}, {\"movie_title\": \"The Other Sister\", \"release_date\": \"1999-02-26T00:00:00\", \"genre\": \"Romantic Comedy\", \"MPAA_rating\": \"PG-13\", \"total_gross\": 27807627.0, \"inflation_adjusted_gross\": 46145331, \"year\": 1999}, {\"movie_title\": \"Doug's 1st Movie\", \"release_date\": \"1999-03-26T00:00:00\", \"genre\": \"Adventure\", \"MPAA_rating\": \"G\", \"total_gross\": 19421271.0, \"inflation_adjusted_gross\": 32228598, \"year\": 1999}, {\"movie_title\": \"Ten Things I Hate About You\", \"release_date\": \"1999-03-31T00:00:00\", \"genre\": \"Romantic Comedy\", \"MPAA_rating\": \"PG-13\", \"total_gross\": 38177966.0, \"inflation_adjusted_gross\": 63354375, \"year\": 1999}, {\"movie_title\": \"Instinct\", \"release_date\": \"1999-06-04T00:00:00\", \"genre\": \"Drama\", \"MPAA_rating\": \"R\", \"total_gross\": 34105207.0, \"inflation_adjusted_gross\": 56595842, \"year\": 1999}, {\"movie_title\": \"Tarzan\", \"release_date\": \"1999-06-16T00:00:00\", \"genre\": \"Adventure\", \"MPAA_rating\": \"G\", \"total_gross\": 171091819.0, \"inflation_adjusted_gross\": 283900254, \"year\": 1999}, {\"movie_title\": \"Summer of Sam\", \"release_date\": \"1999-07-02T00:00:00\", \"genre\": \"Drama\", \"MPAA_rating\": \"R\", \"total_gross\": 19288130.0, \"inflation_adjusted_gross\": 32007656, \"year\": 1999}, {\"movie_title\": \"Inspector Gadget\", \"release_date\": \"1999-07-23T00:00:00\", \"genre\": \"Comedy\", \"MPAA_rating\": \"PG\", \"total_gross\": 97387965.0, \"inflation_adjusted_gross\": 161610341, \"year\": 1999}, {\"movie_title\": \"The Sixth Sense\", \"release_date\": \"1999-08-06T00:00:00\", \"genre\": \"Thriller/Suspense\", \"MPAA_rating\": \"PG-13\", \"total_gross\": 293506292.0, \"inflation_adjusted_gross\": 485424724, \"year\": 1999}, {\"movie_title\": \"The 13th Warrior\", \"release_date\": \"1999-08-27T00:00:00\", \"genre\": \"Action\", \"MPAA_rating\": \"R\", \"total_gross\": 32698899.0, \"inflation_adjusted_gross\": 54262148, \"year\": 1999}, {\"movie_title\": \"Breakfast of Champions\", \"release_date\": \"1999-09-17T00:00:00\", \"genre\": \"Comedy\", \"MPAA_rating\": \"R\", \"total_gross\": 178287.0, \"inflation_adjusted_gross\": 295851, \"year\": 1999}, {\"movie_title\": \"Mumford\", \"release_date\": \"1999-09-24T00:00:00\", \"genre\": \"Comedy\", \"MPAA_rating\": \"R\", \"total_gross\": 4559569.0, \"inflation_adjusted_gross\": 7566363, \"year\": 1999}, {\"movie_title\": \"Mystery, Alaska\", \"release_date\": \"1999-10-01T00:00:00\", \"genre\": \"Comedy\", \"MPAA_rating\": \"R\", \"total_gross\": 8891623.0, \"inflation_adjusted_gross\": 14755189, \"year\": 1999}, {\"movie_title\": \"The Straight Story\", \"release_date\": \"1999-10-15T00:00:00\", \"genre\": \"Drama\", \"MPAA_rating\": \"G\", \"total_gross\": 6197866.0, \"inflation_adjusted_gross\": 10111144, \"year\": 1999}, {\"movie_title\": \"The Insider\", \"release_date\": \"1999-11-05T00:00:00\", \"genre\": \"Drama\", \"MPAA_rating\": \"R\", \"total_gross\": 28965197.0, \"inflation_adjusted_gross\": 47794214, \"year\": 1999}, {\"movie_title\": \"Toy Story 2\", \"release_date\": \"1999-11-19T00:00:00\", \"genre\": \"Adventure\", \"MPAA_rating\": \"G\", \"total_gross\": 245852179.0, \"inflation_adjusted_gross\": 404450426, \"year\": 1999}, {\"movie_title\": \"Cradle Will Rock\", \"release_date\": \"1999-12-08T00:00:00\", \"genre\": \"Drama\", \"MPAA_rating\": \"R\", \"total_gross\": 2899970.0, \"inflation_adjusted_gross\": 4609153, \"year\": 1999}, {\"movie_title\": \"Deuce Bigalow: Male Gigolo\", \"release_date\": \"1999-12-10T00:00:00\", \"genre\": \"Comedy\", \"MPAA_rating\": \"R\", \"total_gross\": 65535067.0, \"inflation_adjusted_gross\": 106921374, \"year\": 1999}, {\"movie_title\": \"Bicentennial Man\", \"release_date\": \"1999-12-17T00:00:00\", \"genre\": \"Drama\", \"MPAA_rating\": \"PG\", \"total_gross\": 58220776.0, \"inflation_adjusted_gross\": 94838225, \"year\": 1999}, {\"movie_title\": \"Play it to the Bone\", \"release_date\": \"1999-12-24T00:00:00\", \"genre\": \"Comedy\", \"MPAA_rating\": \"R\", \"total_gross\": 8427204.0, \"inflation_adjusted_gross\": 13180524, \"year\": 1999}, {\"movie_title\": \"Fantasia 2000 (IMAX)\", \"release_date\": \"2000-01-01T00:00:00\", \"genre\": \"Musical\", \"MPAA_rating\": \"G\", \"total_gross\": 60507228.0, \"inflation_adjusted_gross\": 94852354, \"year\": 2000}, {\"movie_title\": \"Gun Shy\", \"release_date\": \"2000-02-04T00:00:00\", \"genre\": \"Comedy\", \"MPAA_rating\": \"R\", \"total_gross\": 1638202.0, \"inflation_adjusted_gross\": 2562155, \"year\": 2000}, {\"movie_title\": \"The Tigger Movie\", \"release_date\": \"2000-02-11T00:00:00\", \"genre\": \"Adventure\", \"MPAA_rating\": \"G\", \"total_gross\": 45542421.0, \"inflation_adjusted_gross\": 71228678, \"year\": 2000}, {\"movie_title\": \"Mission to Mars\", \"release_date\": \"2000-03-10T00:00:00\", \"genre\": \"Adventure\", \"MPAA_rating\": \"PG\", \"total_gross\": 60874615.0, \"inflation_adjusted_gross\": 95208344, \"year\": 2000}, {\"movie_title\": \"High Fidelity\", \"release_date\": \"2000-03-31T00:00:00\", \"genre\": \"Comedy\", \"MPAA_rating\": \"R\", \"total_gross\": 27277055.0, \"inflation_adjusted_gross\": 42661516, \"year\": 2000}, {\"movie_title\": \"Keeping the Faith\", \"release_date\": \"2000-04-14T00:00:00\", \"genre\": \"Romantic Comedy\", \"MPAA_rating\": \"PG-13\", \"total_gross\": 37036404.0, \"inflation_adjusted_gross\": 57925202, \"year\": 2000}, {\"movie_title\": \"Dinosaur\", \"release_date\": \"2000-05-19T00:00:00\", \"genre\": \"Adventure\", \"MPAA_rating\": \"PG\", \"total_gross\": 137748063.0, \"inflation_adjusted_gross\": 215438985, \"year\": 2000}, {\"movie_title\": \"Shanghai Noon\", \"release_date\": \"2000-05-26T00:00:00\", \"genre\": \"Western\", \"MPAA_rating\": \"PG-13\", \"total_gross\": 56932305.0, \"inflation_adjusted_gross\": 89042541, \"year\": 2000}, {\"movie_title\": \"Gone in 60 Seconds\", \"release_date\": \"2000-06-09T00:00:00\", \"genre\": \"Action\", \"MPAA_rating\": \"PG-13\", \"total_gross\": 101643008.0, \"inflation_adjusted_gross\": 158970411, \"year\": 2000}, {\"movie_title\": \"Fantasia 2000 (Theatrical Release)\", \"release_date\": \"2000-06-16T00:00:00\", \"genre\": \"Musical\", \"MPAA_rating\": \"G\", \"total_gross\": 9103630.0, \"inflation_adjusted_gross\": 14238144, \"year\": 2000}, {\"movie_title\": \"The Kid\", \"release_date\": \"2000-07-07T00:00:00\", \"genre\": \"Comedy\", \"MPAA_rating\": \"PG\", \"total_gross\": 69688384.0, \"inflation_adjusted_gross\": 108993148, \"year\": 2000}, {\"movie_title\": \"Coyote Ugly\", \"release_date\": \"2000-08-04T00:00:00\", \"genre\": \"Drama\", \"MPAA_rating\": \"PG-13\", \"total_gross\": 60786269.0, \"inflation_adjusted_gross\": 95070168, \"year\": 2000}, {\"movie_title\": \"The Crew\", \"release_date\": \"2000-08-25T00:00:00\", \"genre\": \"Comedy\", \"MPAA_rating\": \"PG-13\", \"total_gross\": 13019253.0, \"inflation_adjusted_gross\": 20362201, \"year\": 2000}, {\"movie_title\": \"Duets\", \"release_date\": \"2000-09-15T00:00:00\", \"genre\": \"Drama\", \"MPAA_rating\": \"R\", \"total_gross\": 4734235.0, \"inflation_adjusted_gross\": 7404372, \"year\": 2000}, {\"movie_title\": \"Remember the Titans\", \"release_date\": \"2000-09-29T00:00:00\", \"genre\": \"Drama\", \"MPAA_rating\": \"PG\", \"total_gross\": 115654751.0, \"inflation_adjusted_gross\": 180742479, \"year\": 2000}, {\"movie_title\": \"Unbreakable\", \"release_date\": \"2000-11-22T00:00:00\", \"genre\": \"Thriller/Suspense\", \"MPAA_rating\": \"PG-13\", \"total_gross\": 94999143.0, \"inflation_adjusted_gross\": 148208901, \"year\": 2000}, {\"movie_title\": \"102 Dalmatians\", \"release_date\": \"2000-11-22T00:00:00\", \"genre\": \"Comedy\", \"MPAA_rating\": \"G\", \"total_gross\": 66941559.0, \"inflation_adjusted_gross\": 104055039, \"year\": 2000}, {\"movie_title\": \"The Emperor's New Groove\", \"release_date\": \"2000-12-15T00:00:00\", \"genre\": \"Adventure\", \"MPAA_rating\": \"G\", \"total_gross\": 89296573.0, \"inflation_adjusted_gross\": 136789252, \"year\": 2000}, {\"movie_title\": \"O Brother, Where Art Thou?\", \"release_date\": \"2000-12-22T00:00:00\", \"genre\": \"Comedy\", \"MPAA_rating\": \"PG-13\", \"total_gross\": 45506619.0, \"inflation_adjusted_gross\": 67922002, \"year\": 2000}, {\"movie_title\": \"Double Take\", \"release_date\": \"2001-01-12T00:00:00\", \"genre\": \"Action\", \"MPAA_rating\": \"PG-13\", \"total_gross\": 29823162.0, \"inflation_adjusted_gross\": 44418589, \"year\": 2001}, {\"movie_title\": \"Recess: School's Out\", \"release_date\": \"2001-02-16T00:00:00\", \"genre\": \"Comedy\", \"MPAA_rating\": \"G\", \"total_gross\": 36696761.0, \"inflation_adjusted_gross\": 54656124, \"year\": 2001}, {\"movie_title\": \"Just Visiting\", \"release_date\": \"2001-04-06T00:00:00\", \"genre\": \"Comedy\", \"MPAA_rating\": \"PG-13\", \"total_gross\": 4777007.0, \"inflation_adjusted_gross\": 7114869, \"year\": 2001}, {\"movie_title\": \"Pearl Harbor\", \"release_date\": \"2001-05-25T00:00:00\", \"genre\": \"Action\", \"MPAA_rating\": \"PG-13\", \"total_gross\": 198539855.0, \"inflation_adjusted_gross\": 295705112, \"year\": 2001}, {\"movie_title\": \"Atlantis: The Lost Empire\", \"release_date\": \"2001-06-08T00:00:00\", \"genre\": \"Adventure\", \"MPAA_rating\": \"PG\", \"total_gross\": 84052762.0, \"inflation_adjusted_gross\": 125188122, \"year\": 2001}, {\"movie_title\": \"crazy/beautiful\", \"release_date\": \"2001-06-29T00:00:00\", \"genre\": \"Drama\", \"MPAA_rating\": \"PG-13\", \"total_gross\": 16929123.0, \"inflation_adjusted_gross\": 25214223, \"year\": 2001}, {\"movie_title\": \"The Princess Diaries\", \"release_date\": \"2001-08-03T00:00:00\", \"genre\": \"Comedy\", \"MPAA_rating\": \"G\", \"total_gross\": 108244774.0, \"inflation_adjusted_gross\": 161218928, \"year\": 2001}, {\"movie_title\": \"Bubble Boy\", \"release_date\": \"2001-08-24T00:00:00\", \"genre\": \"Comedy\", \"MPAA_rating\": \"PG-13\", \"total_gross\": 5002310.0, \"inflation_adjusted_gross\": 7450434, \"year\": 2001}, {\"movie_title\": \"Max Keeble's Big Move\", \"release_date\": \"2001-10-05T00:00:00\", \"genre\": \"Comedy\", \"MPAA_rating\": \"PG\", \"total_gross\": 17292381.0, \"inflation_adjusted_gross\": 25749730, \"year\": 2001}, {\"movie_title\": \"Corky Romano\", \"release_date\": \"2001-10-12T00:00:00\", \"genre\": \"Comedy\", \"MPAA_rating\": \"PG-13\", \"total_gross\": 23978402.0, \"inflation_adjusted_gross\": 35705805, \"year\": 2001}, {\"movie_title\": \"Monsters, Inc.\", \"release_date\": \"2001-11-02T00:00:00\", \"genre\": \"Adventure\", \"MPAA_rating\": \"G\", \"total_gross\": 289423425.0, \"inflation_adjusted_gross\": 416073179, \"year\": 2001}, {\"movie_title\": \"Out Cold\", \"release_date\": \"2001-11-21T00:00:00\", \"genre\": \"Comedy\", \"MPAA_rating\": \"PG-13\", \"total_gross\": 13906394.0, \"inflation_adjusted_gross\": 20700691, \"year\": 2001}, {\"movie_title\": \"The Royal Tenenbaums\", \"release_date\": \"2001-12-14T00:00:00\", \"genre\": \"Black Comedy\", \"MPAA_rating\": \"R\", \"total_gross\": 52353636.0, \"inflation_adjusted_gross\": 76758193, \"year\": 2001}, {\"movie_title\": \"Beauty and the Beast (IMAX)\", \"release_date\": \"2002-01-01T00:00:00\", \"genre\": \"Musical\", \"MPAA_rating\": \"G\", \"total_gross\": 25487028.0, \"inflation_adjusted_gross\": 36980311, \"year\": 2002}, {\"movie_title\": \"Snow Dogs\", \"release_date\": \"2002-01-18T00:00:00\", \"genre\": \"Comedy\", \"MPAA_rating\": \"PG\", \"total_gross\": 81150692.0, \"inflation_adjusted_gross\": 117745317, \"year\": 2002}, {\"movie_title\": \"The Count of Monte Cristo\", \"release_date\": \"2002-01-25T00:00:00\", \"genre\": \"Drama\", \"MPAA_rating\": \"PG-13\", \"total_gross\": 54228104.0, \"inflation_adjusted_gross\": 78682079, \"year\": 2002}, {\"movie_title\": \"Peter Pan: Return to Neverland\", \"release_date\": \"2002-02-15T00:00:00\", \"genre\": \"Adventure\", \"MPAA_rating\": \"G\", \"total_gross\": 48430258.0, \"inflation_adjusted_gross\": 70269715, \"year\": 2002}, {\"movie_title\": \"Reign of Fire\", \"release_date\": \"2002-02-19T00:00:00\", \"genre\": \"Action\", \"MPAA_rating\": \"PG-13\", \"total_gross\": 43061982.0, \"inflation_adjusted_gross\": 62480631, \"year\": 2002}, {\"movie_title\": \"Sorority Boys\", \"release_date\": \"2002-03-22T00:00:00\", \"genre\": \"Comedy\", \"MPAA_rating\": \"R\", \"total_gross\": 10198766.0, \"inflation_adjusted_gross\": 14797862, \"year\": 2002}, {\"movie_title\": \"The Rookie\", \"release_date\": \"2002-03-29T00:00:00\", \"genre\": \"Drama\", \"MPAA_rating\": \"G\", \"total_gross\": 75600072.0, \"inflation_adjusted_gross\": 109691666, \"year\": 2002}, {\"movie_title\": \"Big Trouble\", \"release_date\": \"2002-04-05T00:00:00\", \"genre\": \"Comedy\", \"MPAA_rating\": \"PG-13\", \"total_gross\": 7262288.0, \"inflation_adjusted_gross\": 10537188, \"year\": 2002}, {\"movie_title\": \"ESPN's Ultimate X - The Movie\", \"release_date\": \"2002-05-10T00:00:00\", \"genre\": \"Documentary\", \"MPAA_rating\": \"PG\", \"total_gross\": 4197175.0, \"inflation_adjusted_gross\": 6089874, \"year\": 2002}, {\"movie_title\": \"Bad Company\", \"release_date\": \"2002-06-07T00:00:00\", \"genre\": \"Action\", \"MPAA_rating\": \"PG-13\", \"total_gross\": 30157016.0, \"inflation_adjusted_gross\": 43756218, \"year\": 2002}, {\"movie_title\": \"Lilo & Stitch\", \"release_date\": \"2002-06-21T00:00:00\", \"genre\": \"Adventure\", \"MPAA_rating\": \"PG\", \"total_gross\": 145771527.0, \"inflation_adjusted_gross\": 211506702, \"year\": 2002}, {\"movie_title\": \"The Country Bears\", \"release_date\": \"2002-07-26T00:00:00\", \"genre\": \"Adventure\", \"MPAA_rating\": \"G\", \"total_gross\": 16988996.0, \"inflation_adjusted_gross\": 24650121, \"year\": 2002}, {\"movie_title\": \"Signs\", \"release_date\": \"2002-08-02T00:00:00\", \"genre\": \"Thriller/Suspense\", \"MPAA_rating\": \"PG-13\", \"total_gross\": 227965690.0, \"inflation_adjusted_gross\": 330754439, \"year\": 2002}, {\"movie_title\": \"Sen to Chihiro no Kamikakushi\", \"release_date\": \"2002-09-20T00:00:00\", \"genre\": \"Adventure\", \"MPAA_rating\": \"PG\", \"total_gross\": 10049886.0, \"inflation_adjusted_gross\": 14338992, \"year\": 2002}, {\"movie_title\": \"Sweet Home Alabama\", \"release_date\": \"2002-09-27T00:00:00\", \"genre\": \"Comedy\", \"MPAA_rating\": \"PG-13\", \"total_gross\": 127214072.0, \"inflation_adjusted_gross\": 184521151, \"year\": 2002}, {\"movie_title\": \"Moonlight Mile\", \"release_date\": \"2002-09-27T00:00:00\", \"genre\": \"Drama\", \"MPAA_rating\": \"PG-13\", \"total_gross\": 6830957.0, \"inflation_adjusted_gross\": 9909094, \"year\": 2002}, {\"movie_title\": \"Tuck Everlasting\", \"release_date\": \"2002-10-11T00:00:00\", \"genre\": \"Drama\", \"MPAA_rating\": \"PG\", \"total_gross\": 19161999.0, \"inflation_adjusted_gross\": 27789959, \"year\": 2002}, {\"movie_title\": \"The Santa Clause 2\", \"release_date\": \"2002-11-01T00:00:00\", \"genre\": \"Comedy\", \"MPAA_rating\": \"G\", \"total_gross\": 139225854.0, \"inflation_adjusted_gross\": 201959095, \"year\": 2002}, {\"movie_title\": \"Treasure Planet\", \"release_date\": \"2002-11-27T00:00:00\", \"genre\": \"Adventure\", \"MPAA_rating\": \"PG\", \"total_gross\": 38120554.0, \"inflation_adjusted_gross\": 55189145, \"year\": 2002}, {\"movie_title\": \"The Hot Chick\", \"release_date\": \"2002-12-13T00:00:00\", \"genre\": \"Comedy\", \"MPAA_rating\": \"PG-13\", \"total_gross\": 35081550.0, \"inflation_adjusted_gross\": 50624654, \"year\": 2002}, {\"movie_title\": \"25th Hour\", \"release_date\": \"2002-12-19T00:00:00\", \"genre\": \"Drama\", \"MPAA_rating\": \"R\", \"total_gross\": 13084595.0, \"inflation_adjusted_gross\": 18325463, \"year\": 2002}, {\"movie_title\": \"The Recruit\", \"release_date\": \"2003-01-31T00:00:00\", \"genre\": \"Thriller/Suspense\", \"MPAA_rating\": \"PG-13\", \"total_gross\": 52784696.0, \"inflation_adjusted_gross\": 73793522, \"year\": 2003}, {\"movie_title\": \"Shanghai Knights\", \"release_date\": \"2003-02-07T00:00:00\", \"genre\": \"Adventure\", \"MPAA_rating\": \"PG-13\", \"total_gross\": 60470220.0, \"inflation_adjusted_gross\": 84537962, \"year\": 2003}, {\"movie_title\": \"The Jungle Book 2\", \"release_date\": \"2003-02-14T00:00:00\", \"genre\": \"Adventure\", \"MPAA_rating\": \"G\", \"total_gross\": 47901582.0, \"inflation_adjusted_gross\": 66966883, \"year\": 2003}, {\"movie_title\": \"Bringing Down the House\", \"release_date\": \"2003-03-07T00:00:00\", \"genre\": \"Comedy\", \"MPAA_rating\": \"PG-13\", \"total_gross\": 132675402.0, \"inflation_adjusted_gross\": 185481530, \"year\": 2003}, {\"movie_title\": \"Piglet's Big Movie\", \"release_date\": \"2003-03-21T00:00:00\", \"genre\": \"Comedy\", \"MPAA_rating\": \"G\", \"total_gross\": 23103423.0, \"inflation_adjusted_gross\": 32298812, \"year\": 2003}, {\"movie_title\": \"Ghosts of the Abyss\", \"release_date\": \"2003-04-11T00:00:00\", \"genre\": \"Documentary\", \"MPAA_rating\": \"G\", \"total_gross\": 17093668.0, \"inflation_adjusted_gross\": 23803108, \"year\": 2003}, {\"movie_title\": \"Holes\", \"release_date\": \"2003-04-18T00:00:00\", \"genre\": \"Drama\", \"MPAA_rating\": \"PG\", \"total_gross\": 67383924.0, \"inflation_adjusted_gross\": 94203395, \"year\": 2003}, {\"movie_title\": \"The Lizzie McGuire Movie\", \"release_date\": \"2003-05-02T00:00:00\", \"genre\": \"Comedy\", \"MPAA_rating\": \"PG\", \"total_gross\": 42734455.0, \"inflation_adjusted_gross\": 59743191, \"year\": 2003}, {\"movie_title\": \"Finding Nemo\", \"release_date\": \"2003-05-30T00:00:00\", \"genre\": \"Adventure\", \"MPAA_rating\": \"G\", \"total_gross\": 380529370.0, \"inflation_adjusted_gross\": 518148559, \"year\": 2003}, {\"movie_title\": \"Pirates of the Caribbean: The Curse o\\u2026\", \"release_date\": \"2003-07-09T00:00:00\", \"genre\": \"Adventure\", \"MPAA_rating\": \"PG-13\", \"total_gross\": 305411224.0, \"inflation_adjusted_gross\": 426967926, \"year\": 2003}, {\"movie_title\": \"Freaky Friday\", \"release_date\": \"2003-08-06T00:00:00\", \"genre\": \"Comedy\", \"MPAA_rating\": \"PG\", \"total_gross\": 110222438.0, \"inflation_adjusted_gross\": 154090360, \"year\": 2003}, {\"movie_title\": \"Open Range\", \"release_date\": \"2003-08-15T00:00:00\", \"genre\": \"Western\", \"MPAA_rating\": \"R\", \"total_gross\": 58331254.0, \"inflation_adjusted_gross\": 81547672, \"year\": 2003}, {\"movie_title\": \"Cold Creek Manor\", \"release_date\": \"2003-09-19T00:00:00\", \"genre\": \"Thriller/Suspense\", \"MPAA_rating\": \"R\", \"total_gross\": 21384035.0, \"inflation_adjusted_gross\": 29895090, \"year\": 2003}, {\"movie_title\": \"Under the Tuscan Sun\", \"release_date\": \"2003-09-26T00:00:00\", \"genre\": \"Comedy\", \"MPAA_rating\": \"PG-13\", \"total_gross\": 43601508.0, \"inflation_adjusted_gross\": 60944053, \"year\": 2003}, {\"movie_title\": \"Veronica Guerin\", \"release_date\": \"2003-10-17T00:00:00\", \"genre\": \"Drama\", \"MPAA_rating\": \"R\", \"total_gross\": 1569918.0, \"inflation_adjusted_gross\": 2194759, \"year\": 2003}, {\"movie_title\": \"Brother Bear\", \"release_date\": \"2003-10-24T00:00:00\", \"genre\": \"Adventure\", \"MPAA_rating\": \"G\", \"total_gross\": 85336277.0, \"inflation_adjusted_gross\": 119218333, \"year\": 2003}, {\"movie_title\": \"The Haunted Mansion\", \"release_date\": \"2003-11-26T00:00:00\", \"genre\": \"Comedy\", \"MPAA_rating\": \"PG\", \"total_gross\": 75817994.0, \"inflation_adjusted_gross\": 105775678, \"year\": 2003}, {\"movie_title\": \"Calendar Girls\", \"release_date\": \"2003-12-19T00:00:00\", \"genre\": \"Comedy\", \"MPAA_rating\": \"PG-13\", \"total_gross\": 31011616.0, \"inflation_adjusted_gross\": 42379650, \"year\": 2003}, {\"movie_title\": \"Young Black Stallion\", \"release_date\": \"2003-12-25T00:00:00\", \"genre\": \"Adventure\", \"MPAA_rating\": \"G\", \"total_gross\": 6751389.0, \"inflation_adjusted_gross\": 9254344, \"year\": 2003}, {\"movie_title\": \"Teacher's Pet: The Movie\", \"release_date\": \"2004-01-16T00:00:00\", \"genre\": \"Comedy\", \"MPAA_rating\": \"PG\", \"total_gross\": 6491969.0, \"inflation_adjusted_gross\": 8812764, \"year\": 2004}, {\"movie_title\": \"Miracle\", \"release_date\": \"2004-02-06T00:00:00\", \"genre\": \"Drama\", \"MPAA_rating\": \"PG\", \"total_gross\": 64378093.0, \"inflation_adjusted_gross\": 87392478, \"year\": 2004}, {\"movie_title\": \"Confessions of a Teenage Drama Queen\", \"release_date\": \"2004-02-20T00:00:00\", \"genre\": \"Comedy\", \"MPAA_rating\": \"PG\", \"total_gross\": 29331068.0, \"inflation_adjusted_gross\": 39816568, \"year\": 2004}, {\"movie_title\": \"Hidalgo\", \"release_date\": \"2004-03-05T00:00:00\", \"genre\": \"Western\", \"MPAA_rating\": \"PG-13\", \"total_gross\": 67286731.0, \"inflation_adjusted_gross\": 91340921, \"year\": 2004}, {\"movie_title\": \"The Ladykillers\", \"release_date\": \"2004-03-26T00:00:00\", \"genre\": \"Comedy\", \"MPAA_rating\": \"R\", \"total_gross\": 39692139.0, \"inflation_adjusted_gross\": 53881593, \"year\": 2004}, {\"movie_title\": \"Home on the Range\", \"release_date\": \"2004-04-02T00:00:00\", \"genre\": \"Comedy\", \"MPAA_rating\": \"PG\", \"total_gross\": 50026353.0, \"inflation_adjusted_gross\": 67910166, \"year\": 2004}, {\"movie_title\": \"The Alamo\", \"release_date\": \"2004-04-09T00:00:00\", \"genre\": \"Western\", \"MPAA_rating\": \"PG-13\", \"total_gross\": 22406362.0, \"inflation_adjusted_gross\": 30416359, \"year\": 2004}, {\"movie_title\": \"Raising Helen\", \"release_date\": \"2004-05-28T00:00:00\", \"genre\": \"Comedy\", \"MPAA_rating\": \"PG-13\", \"total_gross\": 37485528.0, \"inflation_adjusted_gross\": 50886144, \"year\": 2004}, {\"movie_title\": \"Around the World in 80 Days\", \"release_date\": \"2004-06-16T00:00:00\", \"genre\": \"Adventure\", \"MPAA_rating\": \"PG\", \"total_gross\": 24004159.0, \"inflation_adjusted_gross\": 32585356, \"year\": 2004}, {\"movie_title\": \"America's Heart and Soul\", \"release_date\": \"2004-07-02T00:00:00\", \"genre\": \"Documentary\", \"MPAA_rating\": \"Not Rated\", \"total_gross\": 314000.0, \"inflation_adjusted_gross\": 426246, \"year\": 2004}, {\"movie_title\": \"King Arthur\", \"release_date\": \"2004-07-07T00:00:00\", \"genre\": \"Adventure\", \"MPAA_rating\": \"PG-13\", \"total_gross\": 51877963.0, \"inflation_adjusted_gross\": 70423706, \"year\": 2004}, {\"movie_title\": \"The Village\", \"release_date\": \"2004-07-30T00:00:00\", \"genre\": \"Thriller/Suspense\", \"MPAA_rating\": \"PG-13\", \"total_gross\": 114197520.0, \"inflation_adjusted_gross\": 155021748, \"year\": 2004}, {\"movie_title\": \"The Princess Diaries 2: Royal Engagement\", \"release_date\": \"2004-08-11T00:00:00\", \"genre\": \"Romantic Comedy\", \"MPAA_rating\": \"G\", \"total_gross\": 95149435.0, \"inflation_adjusted_gross\": 129164207, \"year\": 2004}, {\"movie_title\": \"Mr. 3000\", \"release_date\": \"2004-09-17T00:00:00\", \"genre\": \"Comedy\", \"MPAA_rating\": \"PG-13\", \"total_gross\": 21800302.0, \"inflation_adjusted_gross\": 29593641, \"year\": 2004}, {\"movie_title\": \"The Last Shot\", \"release_date\": \"2004-09-24T00:00:00\", \"genre\": \"Comedy\", \"MPAA_rating\": \"R\", \"total_gross\": 463730.0, \"inflation_adjusted_gross\": 629502, \"year\": 2004}, {\"movie_title\": \"Ladder 49\", \"release_date\": \"2004-10-01T00:00:00\", \"genre\": \"Action\", \"MPAA_rating\": \"PG-13\", \"total_gross\": 74541707.0, \"inflation_adjusted_gross\": 101161045, \"year\": 2004}, {\"movie_title\": \"The Incredibles\", \"release_date\": \"2004-11-05T00:00:00\", \"genre\": \"Adventure\", \"MPAA_rating\": \"PG\", \"total_gross\": 261441092.0, \"inflation_adjusted_gross\": 354488708, \"year\": 2004}, {\"movie_title\": \"National Treasure\", \"release_date\": \"2004-11-19T00:00:00\", \"genre\": \"Adventure\", \"MPAA_rating\": \"PG\", \"total_gross\": 173005002.0, \"inflation_adjusted_gross\": 234069353, \"year\": 2004}, {\"movie_title\": \"The Life Aquatic with Steve Zissou\", \"release_date\": \"2004-12-10T00:00:00\", \"genre\": \"Comedy\", \"MPAA_rating\": \"R\", \"total_gross\": 24006726.0, \"inflation_adjusted_gross\": 32198655, \"year\": 2004}, {\"movie_title\": \"Aliens of the Deep\", \"release_date\": \"2005-01-28T00:00:00\", \"genre\": \"Documentary\", \"MPAA_rating\": \"G\", \"total_gross\": 8968684.0, \"inflation_adjusted_gross\": 11740942, \"year\": 2005}, {\"movie_title\": \"Pooh's Heffalump Movie\", \"release_date\": \"2005-02-11T00:00:00\", \"genre\": \"Adventure\", \"MPAA_rating\": \"G\", \"total_gross\": 18098433.0, \"inflation_adjusted_gross\": 23801835, \"year\": 2005}, {\"movie_title\": \"The Pacifier\", \"release_date\": \"2005-03-04T00:00:00\", \"genre\": \"Comedy\", \"MPAA_rating\": \"PG\", \"total_gross\": 113006880.0, \"inflation_adjusted_gross\": 148619029, \"year\": 2005}, {\"movie_title\": \"Ice Princess\", \"release_date\": \"2005-03-18T00:00:00\", \"genre\": \"Comedy\", \"MPAA_rating\": \"G\", \"total_gross\": 24381334.0, \"inflation_adjusted_gross\": 32064685, \"year\": 2005}, {\"movie_title\": \"A Lot Like Love\", \"release_date\": \"2005-04-22T00:00:00\", \"genre\": \"Comedy\", \"MPAA_rating\": \"PG-13\", \"total_gross\": 21835784.0, \"inflation_adjusted_gross\": 28716947, \"year\": 2005}, {\"movie_title\": \"The Hitchhiker's Guide to the Galaxy\", \"release_date\": \"2005-04-29T00:00:00\", \"genre\": \"Comedy\", \"MPAA_rating\": \"PG\", \"total_gross\": 51019112.0, \"inflation_adjusted_gross\": 67096891, \"year\": 2005}, {\"movie_title\": \"Hauru no ugoku shiro\", \"release_date\": \"2005-06-10T00:00:00\", \"genre\": \"Adventure\", \"MPAA_rating\": \"PG\", \"total_gross\": 4710455.0, \"inflation_adjusted_gross\": 6194870, \"year\": 2005}, {\"movie_title\": \"Herbie: Fully Loaded\", \"release_date\": \"2005-06-22T00:00:00\", \"genre\": \"Comedy\", \"MPAA_rating\": \"G\", \"total_gross\": 66010682.0, \"inflation_adjusted_gross\": 86812798, \"year\": 2005}, {\"movie_title\": \"Dark Water\", \"release_date\": \"2005-07-08T00:00:00\", \"genre\": \"Thriller/Suspense\", \"MPAA_rating\": \"PG-13\", \"total_gross\": 25473093.0, \"inflation_adjusted_gross\": 33500491, \"year\": 2005}, {\"movie_title\": \"Sky High\", \"release_date\": \"2005-07-29T00:00:00\", \"genre\": \"Adventure\", \"MPAA_rating\": \"PG\", \"total_gross\": 63939454.0, \"inflation_adjusted_gross\": 84088854, \"year\": 2005}, {\"movie_title\": \"Valiant\", \"release_date\": \"2005-08-19T00:00:00\", \"genre\": \"Adventure\", \"MPAA_rating\": \"G\", \"total_gross\": 19478106.0, \"inflation_adjusted_gross\": 25616292, \"year\": 2005}, {\"movie_title\": \"Flightplan\", \"release_date\": \"2005-09-23T00:00:00\", \"genre\": \"Thriller/Suspense\", \"MPAA_rating\": \"PG-13\", \"total_gross\": 89706988.0, \"inflation_adjusted_gross\": 117960425, \"year\": 2005}, {\"movie_title\": \"The Greatest Game Ever Played\", \"release_date\": \"2005-09-30T00:00:00\", \"genre\": \"Drama\", \"MPAA_rating\": \"PG\", \"total_gross\": 15331289.0, \"inflation_adjusted_gross\": 20162672, \"year\": 2005}, {\"movie_title\": \"Shopgirl\", \"release_date\": \"2005-10-21T00:00:00\", \"genre\": \"Drama\", \"MPAA_rating\": \"R\", \"total_gross\": 10284523.0, \"inflation_adjusted_gross\": 13519621, \"year\": 2005}, {\"movie_title\": \"Chicken Little\", \"release_date\": \"2005-11-04T00:00:00\", \"genre\": \"Adventure\", \"MPAA_rating\": \"G\", \"total_gross\": 135386665.0, \"inflation_adjusted_gross\": 177954661, \"year\": 2005}, {\"movie_title\": \"The Chronicles of Narnia: The Lion, t\\u2026\", \"release_date\": \"2005-12-09T00:00:00\", \"genre\": \"Adventure\", \"MPAA_rating\": \"PG\", \"total_gross\": 291710957.0, \"inflation_adjusted_gross\": 381557539, \"year\": 2005}, {\"movie_title\": \"Casanova\", \"release_date\": \"2005-12-25T00:00:00\", \"genre\": \"Drama\", \"MPAA_rating\": \"R\", \"total_gross\": 11304403.0, \"inflation_adjusted_gross\": 14574087, \"year\": 2005}, {\"movie_title\": \"Glory Road\", \"release_date\": \"2006-01-13T00:00:00\", \"genre\": \"Drama\", \"MPAA_rating\": \"PG\", \"total_gross\": 42647449.0, \"inflation_adjusted_gross\": 54888236, \"year\": 2006}, {\"movie_title\": \"Annapolis\", \"release_date\": \"2006-01-27T00:00:00\", \"genre\": \"Drama\", \"MPAA_rating\": \"PG-13\", \"total_gross\": 17127992.0, \"inflation_adjusted_gross\": 22044113, \"year\": 2006}, {\"movie_title\": \"Roving Mars\", \"release_date\": \"2006-01-27T00:00:00\", \"genre\": \"Documentary\", \"MPAA_rating\": \"G\", \"total_gross\": 10407978.0, \"inflation_adjusted_gross\": 12948025, \"year\": 2006}, {\"movie_title\": \"Eight Below\", \"release_date\": \"2006-02-17T00:00:00\", \"genre\": \"Adventure\", \"MPAA_rating\": \"PG\", \"total_gross\": 81612565.0, \"inflation_adjusted_gross\": 105037235, \"year\": 2006}, {\"movie_title\": \"The Shaggy Dog\", \"release_date\": \"2006-03-10T00:00:00\", \"genre\": \"Comedy\", \"MPAA_rating\": \"PG\", \"total_gross\": 61123569.0, \"inflation_adjusted_gross\": 78667428, \"year\": 2006}, {\"movie_title\": \"Stay Alive\", \"release_date\": \"2006-03-24T00:00:00\", \"genre\": \"Horror\", \"MPAA_rating\": \"PG-13\", \"total_gross\": 23086480.0, \"inflation_adjusted_gross\": 29712825, \"year\": 2006}, {\"movie_title\": \"The Wild\", \"release_date\": \"2006-04-14T00:00:00\", \"genre\": \"Adventure\", \"MPAA_rating\": \"G\", \"total_gross\": 37384046.0, \"inflation_adjusted_gross\": 48114115, \"year\": 2006}, {\"movie_title\": \"Stick It\", \"release_date\": \"2006-04-28T00:00:00\", \"genre\": \"Comedy\", \"MPAA_rating\": \"PG-13\", \"total_gross\": 26910736.0, \"inflation_adjusted_gross\": 34634731, \"year\": 2006}, {\"movie_title\": \"Goal! The Dream Begins\", \"release_date\": \"2006-05-12T00:00:00\", \"genre\": \"Drama\", \"MPAA_rating\": \"PG\", \"total_gross\": 4283255.0, \"inflation_adjusted_gross\": 5512647, \"year\": 2006}, {\"movie_title\": \"Cars\", \"release_date\": \"2006-06-09T00:00:00\", \"genre\": \"Comedy\", \"MPAA_rating\": \"G\", \"total_gross\": 244082982.0, \"inflation_adjusted_gross\": 314140384, \"year\": 2006}, {\"movie_title\": \"Pirates of the Caribbean: Dead Man\\u2019\\u2026\", \"release_date\": \"2006-07-07T00:00:00\", \"genre\": \"Adventure\", \"MPAA_rating\": \"PG-13\", \"total_gross\": 423315812.0, \"inflation_adjusted_gross\": 544817142, \"year\": 2006}, {\"movie_title\": \"Step Up\", \"release_date\": \"2006-08-11T00:00:00\", \"genre\": \"Drama\", \"MPAA_rating\": \"PG-13\", \"total_gross\": 65328121.0, \"inflation_adjusted_gross\": 84078780, \"year\": 2006}, {\"movie_title\": \"Invincible\", \"release_date\": \"2006-08-25T00:00:00\", \"genre\": \"Drama\", \"MPAA_rating\": \"PG\", \"total_gross\": 57806952.0, \"inflation_adjusted_gross\": 74398864, \"year\": 2006}, {\"movie_title\": \"The Guardian\", \"release_date\": \"2006-09-29T00:00:00\", \"genre\": \"Action\", \"MPAA_rating\": \"PG-13\", \"total_gross\": 55011732.0, \"inflation_adjusted_gross\": 70801353, \"year\": 2006}, {\"movie_title\": \"The Prestige\", \"release_date\": \"2006-10-20T00:00:00\", \"genre\": \"Thriller/Suspense\", \"MPAA_rating\": \"PG-13\", \"total_gross\": 53089891.0, \"inflation_adjusted_gross\": 68289913, \"year\": 2006}, {\"movie_title\": \"Tim Burton's The Nightmare Before Chr\\u2026\", \"release_date\": \"2006-10-20T00:00:00\", \"genre\": \"Musical\", \"MPAA_rating\": \"PG\", \"total_gross\": 24732041.0, \"inflation_adjusted_gross\": 30737517, \"year\": 2006}, {\"movie_title\": \"The Santa Clause 3: The Escape Clause\", \"release_date\": \"2006-11-03T00:00:00\", \"genre\": \"Comedy\", \"MPAA_rating\": \"G\", \"total_gross\": 84500122.0, \"inflation_adjusted_gross\": 108694869, \"year\": 2006}, {\"movie_title\": \"D\\u00e9j\\u00e0 Vu\", \"release_date\": \"2006-11-22T00:00:00\", \"genre\": \"Thriller/Suspense\", \"MPAA_rating\": \"PG-13\", \"total_gross\": 64038616.0, \"inflation_adjusted_gross\": 82267038, \"year\": 2006}, {\"movie_title\": \"Apocalypto\", \"release_date\": \"2006-12-08T00:00:00\", \"genre\": \"Adventure\", \"MPAA_rating\": \"R\", \"total_gross\": 50866635.0, \"inflation_adjusted_gross\": 64959548, \"year\": 2006}, {\"movie_title\": \"Primeval\", \"release_date\": \"2007-01-12T00:00:00\", \"genre\": \"Adventure\", \"MPAA_rating\": \"R\", \"total_gross\": 10597734.0, \"inflation_adjusted_gross\": 12985302, \"year\": 2007}, {\"movie_title\": \"Bridge to Terabithia\", \"release_date\": \"2007-02-16T00:00:00\", \"genre\": \"Drama\", \"MPAA_rating\": \"PG\", \"total_gross\": 82234139.0, \"inflation_adjusted_gross\": 100760721, \"year\": 2007}, {\"movie_title\": \"Wild Hogs\", \"release_date\": \"2007-03-02T00:00:00\", \"genre\": \"Comedy\", \"MPAA_rating\": \"PG-13\", \"total_gross\": 168213584.0, \"inflation_adjusted_gross\": 206110533, \"year\": 2007}, {\"movie_title\": \"Meet the Robinsons\", \"release_date\": \"2007-03-30T00:00:00\", \"genre\": \"Adventure\", \"MPAA_rating\": \"G\", \"total_gross\": 97822171.0, \"inflation_adjusted_gross\": 119860589, \"year\": 2007}, {\"movie_title\": \"The Lookout\", \"release_date\": \"2007-03-30T00:00:00\", \"genre\": \"Drama\", \"MPAA_rating\": \"R\", \"total_gross\": 4600585.0, \"inflation_adjusted_gross\": 5637048, \"year\": 2007}, {\"movie_title\": \"The Hoax\", \"release_date\": \"2007-04-06T00:00:00\", \"genre\": \"Drama\", \"MPAA_rating\": \"R\", \"total_gross\": 7164995.0, \"inflation_adjusted_gross\": 8779196, \"year\": 2007}, {\"movie_title\": \"The Invisible\", \"release_date\": \"2007-04-27T00:00:00\", \"genre\": \"Thriller/Suspense\", \"MPAA_rating\": \"PG-13\", \"total_gross\": 20568319.0, \"inflation_adjusted_gross\": 25202168, \"year\": 2007}, {\"movie_title\": \"Pirates of the Caribbean: At World\\u2019\\u2026\", \"release_date\": \"2007-05-24T00:00:00\", \"genre\": \"Adventure\", \"MPAA_rating\": \"PG-13\", \"total_gross\": 309420425.0, \"inflation_adjusted_gross\": 379129960, \"year\": 2007}, {\"movie_title\": \"Ratatouille\", \"release_date\": \"2007-06-29T00:00:00\", \"genre\": \"Comedy\", \"MPAA_rating\": \"G\", \"total_gross\": 206445654.0, \"inflation_adjusted_gross\": 252955933, \"year\": 2007}, {\"movie_title\": \"Underdog\", \"release_date\": \"2007-08-03T00:00:00\", \"genre\": \"Adventure\", \"MPAA_rating\": \"PG\", \"total_gross\": 43760605.0, \"inflation_adjusted_gross\": 53619462, \"year\": 2007}, {\"movie_title\": \"The Game Plan\", \"release_date\": \"2007-09-22T00:00:00\", \"genre\": \"Comedy\", \"MPAA_rating\": \"PG\", \"total_gross\": 90648202.0, \"inflation_adjusted_gross\": 111010758, \"year\": 2007}, {\"movie_title\": \"Dan in Real Life\", \"release_date\": \"2007-10-20T00:00:00\", \"genre\": \"Romantic Comedy\", \"MPAA_rating\": \"PG-13\", \"total_gross\": 47642963.0, \"inflation_adjusted_gross\": 58350234, \"year\": 2007}, {\"movie_title\": \"Enchanted\", \"release_date\": \"2007-11-21T00:00:00\", \"genre\": \"Romantic Comedy\", \"MPAA_rating\": \"PG\", \"total_gross\": 127706877.0, \"inflation_adjusted_gross\": 156074310, \"year\": 2007}, {\"movie_title\": \"National Treasure 2: Book of Secrets\", \"release_date\": \"2007-12-21T00:00:00\", \"genre\": \"Adventure\", \"MPAA_rating\": \"PG\", \"total_gross\": 219961501.0, \"inflation_adjusted_gross\": 267003525, \"year\": 2007}, {\"movie_title\": \"Hannah Montana/Miley Cyrus: Best of B\\u2026\", \"release_date\": \"2008-02-01T00:00:00\", \"genre\": \"Concert/Performance\", \"MPAA_rating\": \"G\", \"total_gross\": 65281781.0, \"inflation_adjusted_gross\": 76646993, \"year\": 2008}, {\"movie_title\": \"Step Up 2 the Streets\", \"release_date\": \"2008-02-14T00:00:00\", \"genre\": \"Drama\", \"MPAA_rating\": \"PG-13\", \"total_gross\": 58017783.0, \"inflation_adjusted_gross\": 68118371, \"year\": 2008}, {\"movie_title\": \"College Road Trip\", \"release_date\": \"2008-03-07T00:00:00\", \"genre\": \"Comedy\", \"MPAA_rating\": \"G\", \"total_gross\": 45610425.0, \"inflation_adjusted_gross\": 53550960, \"year\": 2008}, {\"movie_title\": \"The Chronicles of Narnia: Prince Caspian\", \"release_date\": \"2008-05-16T00:00:00\", \"genre\": \"Adventure\", \"MPAA_rating\": \"PG\", \"total_gross\": 141621490.0, \"inflation_adjusted_gross\": 166277038, \"year\": 2008}, {\"movie_title\": \"WALL-E\", \"release_date\": \"2008-06-27T00:00:00\", \"genre\": \"Adventure\", \"MPAA_rating\": \"G\", \"total_gross\": 223808164.0, \"inflation_adjusted_gross\": 262771918, \"year\": 2008}, {\"movie_title\": \"Swing Vote\", \"release_date\": \"2008-08-01T00:00:00\", \"genre\": \"Comedy\", \"MPAA_rating\": \"PG-13\", \"total_gross\": 16289867.0, \"inflation_adjusted_gross\": 19125841, \"year\": 2008}, {\"movie_title\": \"Goal! 2: Living the Dream...\", \"release_date\": \"2008-08-29T00:00:00\", \"genre\": \"Drama\", \"MPAA_rating\": \"PG-13\", \"total_gross\": 225067.0, \"inflation_adjusted_gross\": 264247, \"year\": 2008}, {\"movie_title\": \"Miracle at St. Anna\", \"release_date\": \"2008-09-26T00:00:00\", \"genre\": \"Drama\", \"MPAA_rating\": \"R\", \"total_gross\": 7916887.0, \"inflation_adjusted_gross\": 9295171, \"year\": 2008}, {\"movie_title\": \"Beverly Hills Chihuahua\", \"release_date\": \"2008-10-03T00:00:00\", \"genre\": \"Comedy\", \"MPAA_rating\": \"PG\", \"total_gross\": 94514402.0, \"inflation_adjusted_gross\": 110932022, \"year\": 2008}, {\"movie_title\": \"Morning Light\", \"release_date\": \"2008-10-17T00:00:00\", \"genre\": \"Documentary\", \"MPAA_rating\": \"PG\", \"total_gross\": 275093.0, \"inflation_adjusted_gross\": 322979, \"year\": 2008}, {\"movie_title\": \"High School Musical 3: Senior Year\", \"release_date\": \"2008-10-24T00:00:00\", \"genre\": \"Musical\", \"MPAA_rating\": \"G\", \"total_gross\": 90559416.0, \"inflation_adjusted_gross\": 106308538, \"year\": 2008}, {\"movie_title\": \"Bolt\", \"release_date\": \"2008-11-21T00:00:00\", \"genre\": \"Comedy\", \"MPAA_rating\": \"PG\", \"total_gross\": 114053759.0, \"inflation_adjusted_gross\": 133702498, \"year\": 2008}, {\"movie_title\": \"Bedtime Stories\", \"release_date\": \"2008-12-25T00:00:00\", \"genre\": \"Comedy\", \"MPAA_rating\": \"PG\", \"total_gross\": 110101975.0, \"inflation_adjusted_gross\": 128039679, \"year\": 2008}, {\"movie_title\": \"Confessions of a Shopaholic\", \"release_date\": \"2009-02-13T00:00:00\", \"genre\": \"Romantic Comedy\", \"MPAA_rating\": \"PG\", \"total_gross\": 44277350.0, \"inflation_adjusted_gross\": 49767744, \"year\": 2009}, {\"movie_title\": \"Jonas Brothers: The 3D Concert Experi\\u2026\", \"release_date\": \"2009-02-27T00:00:00\", \"genre\": \"Concert/Performance\", \"MPAA_rating\": \"G\", \"total_gross\": 38174685.0, \"inflation_adjusted_gross\": 38174685, \"year\": 2009}, {\"movie_title\": \"Race to Witch Mountain\", \"release_date\": \"2009-03-13T00:00:00\", \"genre\": \"Adventure\", \"MPAA_rating\": \"PG\", \"total_gross\": 67172594.0, \"inflation_adjusted_gross\": 75501997, \"year\": 2009}, {\"movie_title\": \"Hannah Montana the Movie\", \"release_date\": \"2009-04-10T00:00:00\", \"genre\": \"Drama\", \"MPAA_rating\": \"G\", \"total_gross\": 79576189.0, \"inflation_adjusted_gross\": 89443640, \"year\": 2009}, {\"movie_title\": \"Earth\", \"release_date\": \"2009-04-22T00:00:00\", \"genre\": \"Documentary\", \"MPAA_rating\": \"G\", \"total_gross\": 32011576.0, \"inflation_adjusted_gross\": 35981010, \"year\": 2009}, {\"movie_title\": \"Up\", \"release_date\": \"2009-05-29T00:00:00\", \"genre\": \"Adventure\", \"MPAA_rating\": \"PG\", \"total_gross\": 293004164.0, \"inflation_adjusted_gross\": 329336681, \"year\": 2009}, {\"movie_title\": \"The Proposal\", \"release_date\": \"2009-06-19T00:00:00\", \"genre\": \"Romantic Comedy\", \"MPAA_rating\": \"PG-13\", \"total_gross\": 163958031.0, \"inflation_adjusted_gross\": 184288829, \"year\": 2009}, {\"movie_title\": \"G-Force\", \"release_date\": \"2009-07-24T00:00:00\", \"genre\": \"Adventure\", \"MPAA_rating\": \"PG\", \"total_gross\": 119436770.0, \"inflation_adjusted_gross\": 134246932, \"year\": 2009}, {\"movie_title\": \"Gake no ue no Ponyo\", \"release_date\": \"2009-08-14T00:00:00\", \"genre\": \"Adventure\", \"MPAA_rating\": \"G\", \"total_gross\": 15090399.0, \"inflation_adjusted_gross\": 16961607, \"year\": 2009}, {\"movie_title\": \"X Games 3D: The Movie\", \"release_date\": \"2009-08-21T00:00:00\", \"genre\": \"Documentary\", \"MPAA_rating\": \"PG\", \"total_gross\": 1391434.0, \"inflation_adjusted_gross\": 1563976, \"year\": 2009}, {\"movie_title\": \"Walt and El Grupo\", \"release_date\": \"2009-09-10T00:00:00\", \"genre\": \"Documentary\", \"MPAA_rating\": \"PG\", \"total_gross\": 20521.0, \"inflation_adjusted_gross\": 23064, \"year\": 2009}, {\"movie_title\": \"Surrogates\", \"release_date\": \"2009-09-25T00:00:00\", \"genre\": \"Action\", \"MPAA_rating\": \"PG-13\", \"total_gross\": 38577772.0, \"inflation_adjusted_gross\": 43361416, \"year\": 2009}, {\"movie_title\": \"Toy Story 3D Double Feature\", \"release_date\": \"2009-10-02T00:00:00\", \"genre\": \"Adventure\", \"MPAA_rating\": \"G\", \"total_gross\": 30702446.0, \"inflation_adjusted_gross\": 34509545, \"year\": 2009}, {\"movie_title\": \"Disney's A Christmas Carol\", \"release_date\": \"2009-11-06T00:00:00\", \"genre\": \"Drama\", \"MPAA_rating\": \"PG\", \"total_gross\": 137855863.0, \"inflation_adjusted_gross\": 154927105, \"year\": 2009}, {\"movie_title\": \"The Princess and the Frog\", \"release_date\": \"2009-11-25T00:00:00\", \"genre\": \"Adventure\", \"MPAA_rating\": \"G\", \"total_gross\": 104400899.0, \"inflation_adjusted_gross\": 116316457, \"year\": 2009}, {\"movie_title\": \"Old Dogs\", \"release_date\": \"2009-11-25T00:00:00\", \"genre\": \"Comedy\", \"MPAA_rating\": \"PG\", \"total_gross\": 49492060.0, \"inflation_adjusted_gross\": 55503929, \"year\": 2009}, {\"movie_title\": \"When in Rome\", \"release_date\": \"2010-01-29T00:00:00\", \"genre\": \"Romantic Comedy\", \"MPAA_rating\": \"PG-13\", \"total_gross\": 32680633.0, \"inflation_adjusted_gross\": 34917330, \"year\": 2010}, {\"movie_title\": \"Alice in Wonderland\", \"release_date\": \"2010-03-05T00:00:00\", \"genre\": \"Adventure\", \"MPAA_rating\": \"PG\", \"total_gross\": 334191110.0, \"inflation_adjusted_gross\": 357063499, \"year\": 2010}, {\"movie_title\": \"Waking Sleeping Beauty\", \"release_date\": \"2010-03-26T00:00:00\", \"genre\": \"Documentary\", \"MPAA_rating\": \"PG\", \"total_gross\": 80741.0, \"inflation_adjusted_gross\": 86264, \"year\": 2010}, {\"movie_title\": \"The Last Song\", \"release_date\": \"2010-03-31T00:00:00\", \"genre\": \"Drama\", \"MPAA_rating\": \"PG\", \"total_gross\": 62950384.0, \"inflation_adjusted_gross\": 67258772, \"year\": 2010}, {\"movie_title\": \"Oceans\", \"release_date\": \"2010-04-22T00:00:00\", \"genre\": \"Documentary\", \"MPAA_rating\": \"G\", \"total_gross\": 19422319.0, \"inflation_adjusted_gross\": 20751600, \"year\": 2010}, {\"movie_title\": \"Prince of Persia: Sands of Time\", \"release_date\": \"2010-05-28T00:00:00\", \"genre\": \"Action\", \"MPAA_rating\": \"PG-13\", \"total_gross\": 90759676.0, \"inflation_adjusted_gross\": 96971361, \"year\": 2010}, {\"movie_title\": \"Toy Story 3\", \"release_date\": \"2010-06-18T00:00:00\", \"genre\": \"Adventure\", \"MPAA_rating\": \"G\", \"total_gross\": 415004880.0, \"inflation_adjusted_gross\": 443408255, \"year\": 2010}, {\"movie_title\": \"The Sorcerer's Apprentice\", \"release_date\": \"2010-07-14T00:00:00\", \"genre\": \"Adventure\", \"MPAA_rating\": \"PG\", \"total_gross\": 63150991.0, \"inflation_adjusted_gross\": 67473105, \"year\": 2010}, {\"movie_title\": \"Step Up 3D\", \"release_date\": \"2010-08-06T00:00:00\", \"genre\": \"Drama\", \"MPAA_rating\": \"PG-13\", \"total_gross\": 42400223.0, \"inflation_adjusted_gross\": 45302137, \"year\": 2010}, {\"movie_title\": \"Gedo Senki (Tales from Earthsea)\", \"release_date\": \"2010-08-13T00:00:00\", \"genre\": \"Adventure\", \"MPAA_rating\": \"PG-13\", \"total_gross\": 48658.0, \"inflation_adjusted_gross\": 51988, \"year\": 2010}, {\"movie_title\": \"You Again\", \"release_date\": \"2010-09-24T00:00:00\", \"genre\": \"Comedy\", \"MPAA_rating\": \"PG\", \"total_gross\": 25702053.0, \"inflation_adjusted_gross\": 27461121, \"year\": 2010}, {\"movie_title\": \"Secretariat\", \"release_date\": \"2010-10-08T00:00:00\", \"genre\": \"Drama\", \"MPAA_rating\": \"PG\", \"total_gross\": 59699513.0, \"inflation_adjusted_gross\": 63781920, \"year\": 2010}, {\"movie_title\": \"Tangled\", \"release_date\": \"2010-11-24T00:00:00\", \"genre\": \"Adventure\", \"MPAA_rating\": \"PG\", \"total_gross\": 200821936.0, \"inflation_adjusted_gross\": 214388548, \"year\": 2010}, {\"movie_title\": \"Tron: Legacy\", \"release_date\": \"2010-12-17T00:00:00\", \"genre\": \"Adventure\", \"MPAA_rating\": \"PG\", \"total_gross\": 172062763.0, \"inflation_adjusted_gross\": 183619259, \"year\": 2010}, {\"movie_title\": \"Gnomeo and Juliet\", \"release_date\": \"2011-02-11T00:00:00\", \"genre\": \"Comedy\", \"MPAA_rating\": \"G\", \"total_gross\": 99967670.0, \"inflation_adjusted_gross\": 106270797, \"year\": 2011}, {\"movie_title\": \"I am Number Four\", \"release_date\": \"2011-02-18T00:00:00\", \"genre\": \"Adventure\", \"MPAA_rating\": \"PG-13\", \"total_gross\": 55100437.0, \"inflation_adjusted_gross\": 58574607, \"year\": 2011}, {\"movie_title\": \"Mars Needs Moms\", \"release_date\": \"2011-03-11T00:00:00\", \"genre\": \"Adventure\", \"MPAA_rating\": \"PG\", \"total_gross\": 21392758.0, \"inflation_adjusted_gross\": 22741603, \"year\": 2011}, {\"movie_title\": \"African Cats\", \"release_date\": \"2011-04-22T00:00:00\", \"genre\": \"Documentary\", \"MPAA_rating\": \"G\", \"total_gross\": 15428747.0, \"inflation_adjusted_gross\": 16401551, \"year\": 2011}, {\"movie_title\": \"Zokkomon\", \"release_date\": \"2011-04-22T00:00:00\", \"genre\": \"Adventure\", \"MPAA_rating\": \"PG\", \"total_gross\": 2815.0, \"inflation_adjusted_gross\": 2984, \"year\": 2011}, {\"movie_title\": \"Prom\", \"release_date\": \"2011-04-29T00:00:00\", \"genre\": \"Comedy\", \"MPAA_rating\": \"PG\", \"total_gross\": 10130219.0, \"inflation_adjusted_gross\": 10768946, \"year\": 2011}, {\"movie_title\": \"Pirates of the Caribbean: On Stranger\\u2026\", \"release_date\": \"2011-05-20T00:00:00\", \"genre\": \"Adventure\", \"MPAA_rating\": \"PG-13\", \"total_gross\": 241063875.0, \"inflation_adjusted_gross\": 256263359, \"year\": 2011}, {\"movie_title\": \"Cars 2\", \"release_date\": \"2011-06-24T00:00:00\", \"genre\": \"Adventure\", \"MPAA_rating\": \"G\", \"total_gross\": 191450875.0, \"inflation_adjusted_gross\": 203522177, \"year\": 2011}, {\"movie_title\": \"Winnie the Pooh\", \"release_date\": \"2011-07-15T00:00:00\", \"genre\": \"Adventure\", \"MPAA_rating\": \"G\", \"total_gross\": 26692846.0, \"inflation_adjusted_gross\": 28375869, \"year\": 2011}, {\"movie_title\": \"The Help\", \"release_date\": \"2011-08-10T00:00:00\", \"genre\": \"Drama\", \"MPAA_rating\": \"PG-13\", \"total_gross\": 169705587.0, \"inflation_adjusted_gross\": 180404976, \"year\": 2011}, {\"movie_title\": \"Fright Night\", \"release_date\": \"2011-08-19T00:00:00\", \"genre\": \"Horror\", \"MPAA_rating\": \"R\", \"total_gross\": 18298649.0, \"inflation_adjusted_gross\": 19452402, \"year\": 2011}, {\"movie_title\": \"Real Steel\", \"release_date\": \"2011-10-07T00:00:00\", \"genre\": \"Action\", \"MPAA_rating\": \"PG-13\", \"total_gross\": 85463309.0, \"inflation_adjusted_gross\": 90848019, \"year\": 2011}, {\"movie_title\": \"The Muppets\", \"release_date\": \"2011-11-23T00:00:00\", \"genre\": \"Comedy\", \"MPAA_rating\": \"PG\", \"total_gross\": 88625922.0, \"inflation_adjusted_gross\": 94189503, \"year\": 2011}, {\"movie_title\": \"War Horse\", \"release_date\": \"2011-12-25T00:00:00\", \"genre\": \"Drama\", \"MPAA_rating\": \"PG-13\", \"total_gross\": 79883359.0, \"inflation_adjusted_gross\": 84762149, \"year\": 2011}, {\"movie_title\": \"The Secret World of Arietty\", \"release_date\": \"2012-02-17T00:00:00\", \"genre\": \"Adventure\", \"MPAA_rating\": \"G\", \"total_gross\": 19192510.0, \"inflation_adjusted_gross\": 20325733, \"year\": 2012}, {\"movie_title\": \"John Carter\", \"release_date\": \"2012-03-09T00:00:00\", \"genre\": \"Adventure\", \"MPAA_rating\": \"PG-13\", \"total_gross\": 73058679.0, \"inflation_adjusted_gross\": 77372445, \"year\": 2012}, {\"movie_title\": \"Chimpanzee\", \"release_date\": \"2012-04-20T00:00:00\", \"genre\": \"Documentary\", \"MPAA_rating\": \"G\", \"total_gross\": 28965459.0, \"inflation_adjusted_gross\": 30675725, \"year\": 2012}, {\"movie_title\": \"The Avengers\", \"release_date\": \"2012-05-04T00:00:00\", \"genre\": \"Action\", \"MPAA_rating\": \"PG-13\", \"total_gross\": 623279547.0, \"inflation_adjusted_gross\": 660081224, \"year\": 2012}, {\"movie_title\": \"Brave\", \"release_date\": \"2012-06-22T00:00:00\", \"genre\": \"Adventure\", \"MPAA_rating\": \"PG\", \"total_gross\": 237282182.0, \"inflation_adjusted_gross\": 251292441, \"year\": 2012}, {\"movie_title\": \"People Like Us\", \"release_date\": \"2012-06-29T00:00:00\", \"genre\": \"Drama\", \"MPAA_rating\": \"PG-13\", \"total_gross\": 12431792.0, \"inflation_adjusted_gross\": 13165822, \"year\": 2012}, {\"movie_title\": \"The Odd Life of Timothy Green\", \"release_date\": \"2012-08-15T00:00:00\", \"genre\": \"Drama\", \"MPAA_rating\": \"PG\", \"total_gross\": 51853450.0, \"inflation_adjusted_gross\": 54914942, \"year\": 2012}, {\"movie_title\": \"Frankenweenie\", \"release_date\": \"2012-10-05T00:00:00\", \"genre\": \"Comedy\", \"MPAA_rating\": \"PG\", \"total_gross\": 35287788.0, \"inflation_adjusted_gross\": 37363513, \"year\": 2012}, {\"movie_title\": \"Wreck-It Ralph\", \"release_date\": \"2012-11-02T00:00:00\", \"genre\": \"Adventure\", \"MPAA_rating\": \"PG\", \"total_gross\": 189412677.0, \"inflation_adjusted_gross\": 200354959, \"year\": 2012}, {\"movie_title\": \"Lincoln\", \"release_date\": \"2012-11-09T00:00:00\", \"genre\": \"Drama\", \"MPAA_rating\": \"PG-13\", \"total_gross\": 182207973.0, \"inflation_adjusted_gross\": 192122330, \"year\": 2012}, {\"movie_title\": \"Oz the Great and Powerful\", \"release_date\": \"2013-03-08T00:00:00\", \"genre\": \"Adventure\", \"MPAA_rating\": \"PG\", \"total_gross\": 234770996.0, \"inflation_adjusted_gross\": 243434130, \"year\": 2013}, {\"movie_title\": \"Iron Man 3\", \"release_date\": \"2013-05-03T00:00:00\", \"genre\": \"Action\", \"MPAA_rating\": \"PG-13\", \"total_gross\": 408992272.0, \"inflation_adjusted_gross\": 424084233, \"year\": 2013}, {\"movie_title\": \"Monsters University\", \"release_date\": \"2013-06-21T00:00:00\", \"genre\": \"Adventure\", \"MPAA_rating\": \"G\", \"total_gross\": 268488329.0, \"inflation_adjusted_gross\": 278395641, \"year\": 2013}, {\"movie_title\": \"The Lone Ranger\", \"release_date\": \"2013-07-02T00:00:00\", \"genre\": \"Western\", \"MPAA_rating\": \"PG-13\", \"total_gross\": 89302115.0, \"inflation_adjusted_gross\": 92597388, \"year\": 2013}, {\"movie_title\": \"Disney Planes\", \"release_date\": \"2013-08-09T00:00:00\", \"genre\": \"Comedy\", \"MPAA_rating\": \"PG\", \"total_gross\": 90282580.0, \"inflation_adjusted_gross\": 93614037, \"year\": 2013}, {\"movie_title\": \"The Fifth Estate\", \"release_date\": \"2013-10-18T00:00:00\", \"genre\": \"Drama\", \"MPAA_rating\": \"R\", \"total_gross\": 3254172.0, \"inflation_adjusted_gross\": 3374251, \"year\": 2013}, {\"movie_title\": \"Thor: The Dark World\", \"release_date\": \"2013-11-08T00:00:00\", \"genre\": \"Adventure\", \"MPAA_rating\": \"PG-13\", \"total_gross\": 206362140.0, \"inflation_adjusted_gross\": 213962184, \"year\": 2013}, {\"movie_title\": \"Kaze Tachinu\", \"release_date\": \"2013-11-08T00:00:00\", \"genre\": \"Drama\", \"MPAA_rating\": \"PG-13\", \"total_gross\": 5201879.0, \"inflation_adjusted_gross\": 5367415, \"year\": 2013}, {\"movie_title\": \"Frozen\", \"release_date\": \"2013-11-22T00:00:00\", \"genre\": \"Adventure\", \"MPAA_rating\": \"PG\", \"total_gross\": 400738009.0, \"inflation_adjusted_gross\": 414997174, \"year\": 2013}, {\"movie_title\": \"Delivery Man\", \"release_date\": \"2013-11-22T00:00:00\", \"genre\": \"Comedy\", \"MPAA_rating\": \"PG-13\", \"total_gross\": 30659817.0, \"inflation_adjusted_gross\": 31787136, \"year\": 2013}, {\"movie_title\": \"Saving Mr. Banks\", \"release_date\": \"2013-12-13T00:00:00\", \"genre\": \"Drama\", \"MPAA_rating\": \"PG-13\", \"total_gross\": 83299761.0, \"inflation_adjusted_gross\": 86249969, \"year\": 2013}, {\"movie_title\": \"Need for Speed\", \"release_date\": \"2014-03-14T00:00:00\", \"genre\": \"Action\", \"MPAA_rating\": \"PG-13\", \"total_gross\": 43568507.0, \"inflation_adjusted_gross\": 44955015, \"year\": 2014}, {\"movie_title\": \"Muppets Most Wanted\", \"release_date\": \"2014-03-21T00:00:00\", \"genre\": \"Comedy\", \"MPAA_rating\": \"PG\", \"total_gross\": 51178893.0, \"inflation_adjusted_gross\": 52807594, \"year\": 2014}, {\"movie_title\": \"Captain America: The Winter Soldier\", \"release_date\": \"2014-04-04T00:00:00\", \"genre\": \"Action\", \"MPAA_rating\": \"PG-13\", \"total_gross\": 259746958.0, \"inflation_adjusted_gross\": 268013076, \"year\": 2014}, {\"movie_title\": \"Bears\", \"release_date\": \"2014-04-18T00:00:00\", \"genre\": \"Documentary\", \"MPAA_rating\": \"G\", \"total_gross\": 17780194.0, \"inflation_adjusted_gross\": 18346024, \"year\": 2014}, {\"movie_title\": \"Million Dollar Arm\", \"release_date\": \"2014-05-10T00:00:00\", \"genre\": \"Drama\", \"MPAA_rating\": \"PG\", \"total_gross\": 36447959.0, \"inflation_adjusted_gross\": 37607865, \"year\": 2014}, {\"movie_title\": \"Maleficent\", \"release_date\": \"2014-05-30T00:00:00\", \"genre\": \"Adventure\", \"MPAA_rating\": \"PG\", \"total_gross\": 241407328.0, \"inflation_adjusted_gross\": 249089809, \"year\": 2014}, {\"movie_title\": \"Planes: Fire and Rescue\", \"release_date\": \"2014-07-18T00:00:00\", \"genre\": \"Adventure\", \"MPAA_rating\": \"PG\", \"total_gross\": 59157732.0, \"inflation_adjusted_gross\": 61040349, \"year\": 2014}, {\"movie_title\": \"Guardians of the Galaxy\", \"release_date\": \"2014-08-01T00:00:00\", \"genre\": \"Adventure\", \"MPAA_rating\": \"PG-13\", \"total_gross\": 333172112.0, \"inflation_adjusted_gross\": 343771168, \"year\": 2014}, {\"movie_title\": \"The Hundred-Foot Journey\", \"release_date\": \"2014-08-08T00:00:00\", \"genre\": \"Romantic Comedy\", \"MPAA_rating\": \"PG\", \"total_gross\": 54235441.0, \"inflation_adjusted_gross\": 55961409, \"year\": 2014}, {\"movie_title\": \"Alexander and the Terrible, Horrible,\\u2026\", \"release_date\": \"2014-10-10T00:00:00\", \"genre\": \"Comedy\", \"MPAA_rating\": \"PG\", \"total_gross\": 66954149.0, \"inflation_adjusted_gross\": 69055550, \"year\": 2014}, {\"movie_title\": \"Big Hero 6\", \"release_date\": \"2014-11-07T00:00:00\", \"genre\": \"Adventure\", \"MPAA_rating\": \"PG\", \"total_gross\": 222527828.0, \"inflation_adjusted_gross\": 229249222, \"year\": 2014}, {\"movie_title\": \"Into the Woods\", \"release_date\": \"2014-12-25T00:00:00\", \"genre\": \"Musical\", \"MPAA_rating\": \"PG\", \"total_gross\": 128002372.0, \"inflation_adjusted_gross\": 130894237, \"year\": 2014}, {\"movie_title\": \"Strange Magic\", \"release_date\": \"2015-01-23T00:00:00\", \"genre\": \"Adventure\", \"MPAA_rating\": \"PG\", \"total_gross\": 12429583.0, \"inflation_adjusted_gross\": 12429583, \"year\": 2015}, {\"movie_title\": \"McFarland, USA\", \"release_date\": \"2015-02-20T00:00:00\", \"genre\": \"Drama\", \"MPAA_rating\": \"PG\", \"total_gross\": 44480275.0, \"inflation_adjusted_gross\": 44480275, \"year\": 2015}, {\"movie_title\": \"Cinderella\", \"release_date\": \"2015-03-13T00:00:00\", \"genre\": \"Drama\", \"MPAA_rating\": \"PG\", \"total_gross\": 201151353.0, \"inflation_adjusted_gross\": 201151353, \"year\": 2015}, {\"movie_title\": \"Monkey Kingdom\", \"release_date\": \"2015-04-17T00:00:00\", \"genre\": \"Documentary\", \"MPAA_rating\": \"G\", \"total_gross\": 16432322.0, \"inflation_adjusted_gross\": 16432322, \"year\": 2015}, {\"movie_title\": \"Avengers: Age of Ultron\", \"release_date\": \"2015-05-01T00:00:00\", \"genre\": \"Action\", \"MPAA_rating\": \"PG-13\", \"total_gross\": 459005868.0, \"inflation_adjusted_gross\": 459005868, \"year\": 2015}, {\"movie_title\": \"Tomorrowland\", \"release_date\": \"2015-05-22T00:00:00\", \"genre\": \"Adventure\", \"MPAA_rating\": \"PG\", \"total_gross\": 93436322.0, \"inflation_adjusted_gross\": 93436322, \"year\": 2015}, {\"movie_title\": \"Inside Out\", \"release_date\": \"2015-06-19T00:00:00\", \"genre\": \"Adventure\", \"MPAA_rating\": \"PG\", \"total_gross\": 356461711.0, \"inflation_adjusted_gross\": 356461711, \"year\": 2015}, {\"movie_title\": \"Ant-Man\", \"release_date\": \"2015-07-17T00:00:00\", \"genre\": \"Action\", \"MPAA_rating\": \"PG-13\", \"total_gross\": 180202163.0, \"inflation_adjusted_gross\": 180202163, \"year\": 2015}, {\"movie_title\": \"Bridge of Spies\", \"release_date\": \"2015-10-16T00:00:00\", \"genre\": \"Thriller/Suspense\", \"MPAA_rating\": \"PG-13\", \"total_gross\": 72313754.0, \"inflation_adjusted_gross\": 72313754, \"year\": 2015}, {\"movie_title\": \"The Good Dinosaur\", \"release_date\": \"2015-11-25T00:00:00\", \"genre\": \"Adventure\", \"MPAA_rating\": \"PG\", \"total_gross\": 123087120.0, \"inflation_adjusted_gross\": 123087120, \"year\": 2015}, {\"movie_title\": \"Star Wars Ep. VII: The Force Awakens\", \"release_date\": \"2015-12-18T00:00:00\", \"genre\": \"Adventure\", \"MPAA_rating\": \"PG-13\", \"total_gross\": 936662225.0, \"inflation_adjusted_gross\": 936662225, \"year\": 2015}, {\"movie_title\": \"The Finest Hours\", \"release_date\": \"2016-01-29T00:00:00\", \"genre\": \"Thriller/Suspense\", \"MPAA_rating\": \"PG\", \"total_gross\": 27569558.0, \"inflation_adjusted_gross\": 27569558, \"year\": 2016}, {\"movie_title\": \"Zootopia\", \"release_date\": \"2016-03-04T00:00:00\", \"genre\": \"Adventure\", \"MPAA_rating\": \"PG\", \"total_gross\": 341268248.0, \"inflation_adjusted_gross\": 341268248, \"year\": 2016}, {\"movie_title\": \"The Jungle Book\", \"release_date\": \"2016-04-15T00:00:00\", \"genre\": \"Adventure\", \"MPAA_rating\": \"PG\", \"total_gross\": 364001123.0, \"inflation_adjusted_gross\": 364001123, \"year\": 2016}, {\"movie_title\": \"A Beautiful Planet\", \"release_date\": \"2016-04-29T00:00:00\", \"genre\": \"Documentary\", \"MPAA_rating\": \"G\", \"total_gross\": 7895708.0, \"inflation_adjusted_gross\": 7895708, \"year\": 2016}, {\"movie_title\": \"Captain America: Civil War\", \"release_date\": \"2016-05-06T00:00:00\", \"genre\": \"Action\", \"MPAA_rating\": \"PG-13\", \"total_gross\": 408084349.0, \"inflation_adjusted_gross\": 408084349, \"year\": 2016}, {\"movie_title\": \"Alice Through the Looking Glass\", \"release_date\": \"2016-05-27T00:00:00\", \"genre\": \"Adventure\", \"MPAA_rating\": \"PG\", \"total_gross\": 77042381.0, \"inflation_adjusted_gross\": 77042381, \"year\": 2016}, {\"movie_title\": \"Finding Dory\", \"release_date\": \"2016-06-17T00:00:00\", \"genre\": \"Adventure\", \"MPAA_rating\": \"PG\", \"total_gross\": 486295561.0, \"inflation_adjusted_gross\": 486295561, \"year\": 2016}, {\"movie_title\": \"The BFG\", \"release_date\": \"2016-07-01T00:00:00\", \"genre\": \"Adventure\", \"MPAA_rating\": \"PG\", \"total_gross\": 55483770.0, \"inflation_adjusted_gross\": 55483770, \"year\": 2016}, {\"movie_title\": \"Pete\\u2019s Dragon\", \"release_date\": \"2016-08-12T00:00:00\", \"genre\": \"Adventure\", \"MPAA_rating\": \"PG\", \"total_gross\": 76233151.0, \"inflation_adjusted_gross\": 76233151, \"year\": 2016}, {\"movie_title\": \"The Light Between Oceans\", \"release_date\": \"2016-09-02T00:00:00\", \"genre\": \"Drama\", \"MPAA_rating\": \"PG-13\", \"total_gross\": 12545979.0, \"inflation_adjusted_gross\": 12545979, \"year\": 2016}, {\"movie_title\": \"Queen of Katwe\", \"release_date\": \"2016-09-23T00:00:00\", \"genre\": \"Drama\", \"MPAA_rating\": \"PG\", \"total_gross\": 8874389.0, \"inflation_adjusted_gross\": 8874389, \"year\": 2016}, {\"movie_title\": \"Doctor Strange\", \"release_date\": \"2016-11-04T00:00:00\", \"genre\": \"Adventure\", \"MPAA_rating\": \"PG-13\", \"total_gross\": 232532923.0, \"inflation_adjusted_gross\": 232532923, \"year\": 2016}, {\"movie_title\": \"Moana\", \"release_date\": \"2016-11-23T00:00:00\", \"genre\": \"Adventure\", \"MPAA_rating\": \"PG\", \"total_gross\": 246082029.0, \"inflation_adjusted_gross\": 246082029, \"year\": 2016}, {\"movie_title\": \"Rogue One: A Star Wars Story\", \"release_date\": \"2016-12-16T00:00:00\", \"genre\": \"Adventure\", \"MPAA_rating\": \"PG-13\", \"total_gross\": 529483936.0, \"inflation_adjusted_gross\": 529483936, \"year\": 2016}]}}, {\"mode\": \"vega-lite\"});\n",
       "</script>"
      ],
      "text/plain": [
       "alt.Chart(...)"
      ]
     },
     "execution_count": 17,
     "metadata": {},
     "output_type": "execute_result"
    }
   ],
   "source": [
    "# Use altair to make a histogram plot.\n",
    "gross_hist = alt.Chart(disney_year, width = 500, height = 300).mark_bar().encode(\n",
    "    x = alt.X('total_gross:Q', bin = alt.Bin(maxbins = 50)),\n",
    "    y = alt.Y('count()')\n",
    ").properties(title = 'Distribution of Total Gross')\n",
    "gross_hist"
   ]
  },
  {
   "cell_type": "markdown",
   "metadata": {},
   "source": [
    "In the above histogram, there appears that there are some outliers in the total gross and these outliers will not be an issue in this analysis so I will not make a tranformation and leave the way is it. "
   ]
  },
  {
   "cell_type": "markdown",
   "metadata": {},
   "source": [
    "Let's calculate the sum of total gross for each genre."
   ]
  },
  {
   "cell_type": "code",
   "execution_count": 18,
   "metadata": {},
   "outputs": [
    {
     "data": {
      "text/html": [
       "<div>\n",
       "<style scoped>\n",
       "    .dataframe tbody tr th:only-of-type {\n",
       "        vertical-align: middle;\n",
       "    }\n",
       "\n",
       "    .dataframe tbody tr th {\n",
       "        vertical-align: top;\n",
       "    }\n",
       "\n",
       "    .dataframe thead th {\n",
       "        text-align: right;\n",
       "    }\n",
       "</style>\n",
       "<table border=\"1\" class=\"dataframe\">\n",
       "  <thead>\n",
       "    <tr style=\"text-align: right;\">\n",
       "      <th></th>\n",
       "      <th>genre</th>\n",
       "      <th>total_gross</th>\n",
       "    </tr>\n",
       "  </thead>\n",
       "  <tbody>\n",
       "    <tr>\n",
       "      <th>1</th>\n",
       "      <td>Adventure</td>\n",
       "      <td>1.638907e+10</td>\n",
       "    </tr>\n",
       "    <tr>\n",
       "      <th>3</th>\n",
       "      <td>Comedy</td>\n",
       "      <td>8.119620e+09</td>\n",
       "    </tr>\n",
       "    <tr>\n",
       "      <th>0</th>\n",
       "      <td>Action</td>\n",
       "      <td>4.216578e+09</td>\n",
       "    </tr>\n",
       "    <tr>\n",
       "      <th>6</th>\n",
       "      <td>Drama</td>\n",
       "      <td>4.138988e+09</td>\n",
       "    </tr>\n",
       "    <tr>\n",
       "      <th>10</th>\n",
       "      <td>Thriller/Suspense</td>\n",
       "      <td>1.406807e+09</td>\n",
       "    </tr>\n",
       "    <tr>\n",
       "      <th>8</th>\n",
       "      <td>Musical</td>\n",
       "      <td>1.157284e+09</td>\n",
       "    </tr>\n",
       "    <tr>\n",
       "      <th>9</th>\n",
       "      <td>Romantic Comedy</td>\n",
       "      <td>1.152207e+09</td>\n",
       "    </tr>\n",
       "    <tr>\n",
       "      <th>11</th>\n",
       "      <td>Western</td>\n",
       "      <td>3.590115e+08</td>\n",
       "    </tr>\n",
       "    <tr>\n",
       "      <th>5</th>\n",
       "      <td>Documentary</td>\n",
       "      <td>1.806856e+08</td>\n",
       "    </tr>\n",
       "    <tr>\n",
       "      <th>4</th>\n",
       "      <td>Concert/Performance</td>\n",
       "      <td>1.034565e+08</td>\n",
       "    </tr>\n",
       "    <tr>\n",
       "      <th>2</th>\n",
       "      <td>Black Comedy</td>\n",
       "      <td>9.754321e+07</td>\n",
       "    </tr>\n",
       "    <tr>\n",
       "      <th>7</th>\n",
       "      <td>Horror</td>\n",
       "      <td>8.706887e+07</td>\n",
       "    </tr>\n",
       "  </tbody>\n",
       "</table>\n",
       "</div>"
      ],
      "text/plain": [
       "                  genre   total_gross\n",
       "1             Adventure  1.638907e+10\n",
       "3                Comedy  8.119620e+09\n",
       "0                Action  4.216578e+09\n",
       "6                 Drama  4.138988e+09\n",
       "10    Thriller/Suspense  1.406807e+09\n",
       "8               Musical  1.157284e+09\n",
       "9       Romantic Comedy  1.152207e+09\n",
       "11              Western  3.590115e+08\n",
       "5           Documentary  1.806856e+08\n",
       "4   Concert/Performance  1.034565e+08\n",
       "2          Black Comedy  9.754321e+07\n",
       "7                Horror  8.706887e+07"
      ]
     },
     "execution_count": 18,
     "metadata": {},
     "output_type": "execute_result"
    }
   ],
   "source": [
    "# Group the data by genre, sum total gross and reset the index.\n",
    "# Sort total gross descendingly.\n",
    "genre_gross = (disney_year.groupby(by = 'genre').\n",
    "              agg(func = {'total_gross':'sum'}).\n",
    "              reset_index().\n",
    "              sort_values(by = 'total_gross', ascending = False))\n",
    "genre_gross"
   ]
  },
  {
   "cell_type": "markdown",
   "metadata": {},
   "source": [
    "In above table, It seems __Adventrue__ has the highest total gross, which means it was the most popular movie over the years. The second of most popular movie was __Comedy__, the third was __Action__ movies and __Drama__ has very close total gross to action movie. "
   ]
  },
  {
   "cell_type": "markdown",
   "metadata": {},
   "source": [
    "# Discussions"
   ]
  },
  {
   "cell_type": "markdown",
   "metadata": {},
   "source": [
    "In this work, I analyzed the disney dataset **disney_movies_total_gross** and tried to find out how many movies had been produced, what genres had been the most released over the years and which of genre was the most popular. In this analysis, the missing values of genre was removed and the few null values of total gross was filled by the mediam of total gross. I found that there is an increasing trend of producing movies from 1937 to 1994, but then it goes down so in general it could be said there is a significant increasing number movies."
   ]
  },
  {
   "cell_type": "markdown",
   "metadata": {},
   "source": [
    "In addition, the majorit of producing movies are **Comedy**, **Adventure**, **Drama** and **Action** in order. Comedy has the hgihest number of movies among others and adventure and drame have a close numbers of their movies. In general, they were mostly released after 1980 and it can be seen that disney developed producing movies after 1980. "
   ]
  },
  {
   "cell_type": "markdown",
   "metadata": {},
   "source": [
    "It is very surprising to see __Adventure__ has the highest total gross, by that means adventure is the most popular movie. __Comedy__ has the second high total gross and is the second popular movie, even though Comedy has way more movies than adventure. **Action** has a higher total gross then **Drama**, which is another surprise. As we know drama has almost triple number of moives compared to action, but action movie is more popular than dram. The result is out of my expectations! I expected that Comedy movies would be the most popular and then adventure, drama and action movies."
   ]
  },
  {
   "cell_type": "markdown",
   "metadata": {},
   "source": [
    "I recommend a few more questions for further analysis on this dataset are what is the highest MPAA rating over the years and which one is the most popular. These can be done together and for this recommendation, the inflation adjusted gross might be made use of. This will be more interesting because movies are produced and released not for all ages and sometimes there is a limited age to watch the mvoie. By this analysis, it might know the movies should be produced more for kind of MPAA rating."
   ]
  },
  {
   "cell_type": "markdown",
   "metadata": {},
   "source": [
    "# References"
   ]
  },
  {
   "cell_type": "markdown",
   "metadata": {},
   "source": [
    "Not all the work in this notebook is original. Some parts of dataset description were borred from the data world website."
   ]
  }
 ],
 "metadata": {
  "kernelspec": {
   "display_name": "Python 3",
   "language": "python",
   "name": "python3"
  },
  "language_info": {
   "codemirror_mode": {
    "name": "ipython",
    "version": 3
   },
   "file_extension": ".py",
   "mimetype": "text/x-python",
   "name": "python",
   "nbconvert_exporter": "python",
   "pygments_lexer": "ipython3",
   "version": "3.8.5"
  }
 },
 "nbformat": 4,
 "nbformat_minor": 4
}
